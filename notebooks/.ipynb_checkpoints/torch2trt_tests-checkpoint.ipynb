{
 "cells": [
  {
   "cell_type": "code",
   "execution_count": 73,
   "id": "46d1b3d1",
   "metadata": {},
   "outputs": [],
   "source": [
    "import torch\n",
    "import torch.nn as nn\n",
    "from torch2trt import torch2trt\n",
    "from torch.nn.utils import weight_norm"
   ]
  },
  {
   "cell_type": "code",
   "execution_count": 65,
   "id": "ca5f77ca",
   "metadata": {},
   "outputs": [],
   "source": [
    "class TensorCache(nn.Module):\n",
    "    def __init__(self, tensor):\n",
    "        super(TensorCache, self).__init__()\n",
    "        # self.register_buffer('cache', tensor)\n",
    "        self.cache = tensor\n",
    "    \n",
    "    def forward(self, x):\n",
    "        # assert x.size() == self.cache[:,:,0:1].size()\n",
    "        cache_update = torch.cat((self.cache[:,:,1:], x.detach()), dim=2)\n",
    "        self.cache[:,:,:] = cache_update\n",
    "        return self.cache"
   ]
  },
  {
   "cell_type": "code",
   "execution_count": 66,
   "id": "99eecabb",
   "metadata": {},
   "outputs": [],
   "source": [
    "tc = TensorCache(torch.zeros(1,1,10))\n",
    "tc_script = torch.jit.script(tc)\n",
    "# tc_trace = torch.jit.trace(tc, torch.tensor([[[0.0]]))"
   ]
  },
  {
   "cell_type": "code",
   "execution_count": 67,
   "id": "d0287bfb",
   "metadata": {},
   "outputs": [
    {
     "name": "stdout",
     "output_type": "stream",
     "text": [
      "Original:\n",
      "tensor([[[0., 0., 0., 0., 0., 0., 0., 0., 0., 1.]]])\n",
      "tensor([[[0., 0., 0., 0., 0., 0., 0., 0., 1., 2.]]])\n",
      "tensor([[[0., 0., 0., 0., 0., 0., 0., 1., 2., 3.]]])\n",
      "tensor([[[0., 0., 0., 0., 0., 0., 1., 2., 3., 4.]]])\n",
      "\n",
      "Convert using script:\n",
      "tensor([[[0., 0., 0., 0., 0., 1., 2., 3., 4., 1.]]])\n",
      "tensor([[[0., 0., 0., 0., 1., 2., 3., 4., 1., 2.]]])\n",
      "tensor([[[0., 0., 0., 1., 2., 3., 4., 1., 2., 3.]]])\n",
      "tensor([[[0., 0., 1., 2., 3., 4., 1., 2., 3., 4.]]])\n"
     ]
    }
   ],
   "source": [
    "print('Original:')\n",
    "for inp in [1.,2.,3.,4.]:\n",
    "    print(tc(torch.tensor([[[inp]]])))\n",
    "\n",
    "print()\n",
    "print('Convert using script:')\n",
    "for inp in [1.,2.,3.,4.]:\n",
    "    print(tc_script(torch.tensor([[[inp]]])))\n",
    "\n",
    "\n",
    "# print('Original:')\n",
    "# for inp in [1.,2.,3.,4.]:\n",
    "#     print(tc(torch.tensor([[[inp]]])))\n",
    "\n",
    "# print()\n",
    "# print('Convert using script:')\n",
    "# for inp in [1.,2.,3.,4.]:\n",
    "#     print(tc_script(torch.tensor([[[inp]]])))\n",
    "    \n",
    "# print('')\n",
    "# print('Convert using trace:')\n",
    "# for inp in [1.,2.,3.,4.]:\n",
    "#     print(tc_trace(torch.tensor([[[inp]]])))"
   ]
  },
  {
   "cell_type": "code",
   "execution_count": 68,
   "id": "855281bf",
   "metadata": {},
   "outputs": [
    {
     "ename": "RuntimeError",
     "evalue": "torch.cat(): Tensors must have same number of dimensions: got 3 and 2",
     "output_type": "error",
     "traceback": [
      "\u001b[0;31m---------------------------------------------------------------------------\u001b[0m",
      "\u001b[0;31mRuntimeError\u001b[0m                              Traceback (most recent call last)",
      "\u001b[0;32m<ipython-input-68-f98b2ebbf2b0>\u001b[0m in \u001b[0;36m<module>\u001b[0;34m\u001b[0m\n\u001b[1;32m      1\u001b[0m \u001b[0mex_in\u001b[0m \u001b[0;34m=\u001b[0m \u001b[0mtorch\u001b[0m\u001b[0;34m.\u001b[0m\u001b[0mtensor\u001b[0m\u001b[0;34m(\u001b[0m\u001b[0;34m[\u001b[0m\u001b[0;34m[\u001b[0m\u001b[0;34m[\u001b[0m\u001b[0;36m0.0\u001b[0m\u001b[0;34m]\u001b[0m\u001b[0;34m]\u001b[0m\u001b[0;34m]\u001b[0m\u001b[0;34m)\u001b[0m\u001b[0;34m\u001b[0m\u001b[0;34m\u001b[0m\u001b[0m\n\u001b[1;32m      2\u001b[0m \u001b[0mex_in\u001b[0m\u001b[0;34m.\u001b[0m\u001b[0msize\u001b[0m\u001b[0;34m(\u001b[0m\u001b[0;34m)\u001b[0m\u001b[0;34m\u001b[0m\u001b[0;34m\u001b[0m\u001b[0m\n\u001b[0;32m----> 3\u001b[0;31m \u001b[0mtc_trt\u001b[0m \u001b[0;34m=\u001b[0m \u001b[0mtorch2trt\u001b[0m\u001b[0;34m(\u001b[0m\u001b[0mtc\u001b[0m\u001b[0;34m,\u001b[0m \u001b[0mex_in\u001b[0m\u001b[0;34m)\u001b[0m\u001b[0;34m\u001b[0m\u001b[0;34m\u001b[0m\u001b[0m\n\u001b[0m",
      "\u001b[0;32m/usr/local/lib/python3.8/dist-packages/torch2trt-0.2.0-py3.8-linux-x86_64.egg/torch2trt/torch2trt.py\u001b[0m in \u001b[0;36mtorch2trt\u001b[0;34m(module, inputs, input_names, output_names, log_level, max_batch_size, fp16_mode, max_workspace_size, strict_type_constraints, keep_network, int8_mode, int8_calib_dataset, int8_calib_algorithm, int8_calib_batch_size, use_onnx, **kwargs)\u001b[0m\n\u001b[1;32m    526\u001b[0m \u001b[0;34m\u001b[0m\u001b[0m\n\u001b[1;32m    527\u001b[0m     \u001b[0;31m# run once to get num outputs\u001b[0m\u001b[0;34m\u001b[0m\u001b[0;34m\u001b[0m\u001b[0;34m\u001b[0m\u001b[0m\n\u001b[0;32m--> 528\u001b[0;31m     \u001b[0moutputs\u001b[0m \u001b[0;34m=\u001b[0m \u001b[0mmodule\u001b[0m\u001b[0;34m(\u001b[0m\u001b[0;34m*\u001b[0m\u001b[0minputs\u001b[0m\u001b[0;34m)\u001b[0m\u001b[0;34m\u001b[0m\u001b[0;34m\u001b[0m\u001b[0m\n\u001b[0m\u001b[1;32m    529\u001b[0m     \u001b[0;32mif\u001b[0m \u001b[0;32mnot\u001b[0m \u001b[0misinstance\u001b[0m\u001b[0;34m(\u001b[0m\u001b[0moutputs\u001b[0m\u001b[0;34m,\u001b[0m \u001b[0mtuple\u001b[0m\u001b[0;34m)\u001b[0m \u001b[0;32mand\u001b[0m \u001b[0;32mnot\u001b[0m \u001b[0misinstance\u001b[0m\u001b[0;34m(\u001b[0m\u001b[0moutputs\u001b[0m\u001b[0;34m,\u001b[0m \u001b[0mlist\u001b[0m\u001b[0;34m)\u001b[0m\u001b[0;34m:\u001b[0m\u001b[0;34m\u001b[0m\u001b[0;34m\u001b[0m\u001b[0m\n\u001b[1;32m    530\u001b[0m         \u001b[0moutputs\u001b[0m \u001b[0;34m=\u001b[0m \u001b[0;34m(\u001b[0m\u001b[0moutputs\u001b[0m\u001b[0;34m,\u001b[0m\u001b[0;34m)\u001b[0m\u001b[0;34m\u001b[0m\u001b[0;34m\u001b[0m\u001b[0m\n",
      "\u001b[0;32m/usr/local/lib/python3.8/dist-packages/torch/nn/modules/module.py\u001b[0m in \u001b[0;36m_call_impl\u001b[0;34m(self, *input, **kwargs)\u001b[0m\n\u001b[1;32m   1049\u001b[0m         if not (self._backward_hooks or self._forward_hooks or self._forward_pre_hooks or _global_backward_hooks\n\u001b[1;32m   1050\u001b[0m                 or _global_forward_hooks or _global_forward_pre_hooks):\n\u001b[0;32m-> 1051\u001b[0;31m             \u001b[0;32mreturn\u001b[0m \u001b[0mforward_call\u001b[0m\u001b[0;34m(\u001b[0m\u001b[0;34m*\u001b[0m\u001b[0minput\u001b[0m\u001b[0;34m,\u001b[0m \u001b[0;34m**\u001b[0m\u001b[0mkwargs\u001b[0m\u001b[0;34m)\u001b[0m\u001b[0;34m\u001b[0m\u001b[0;34m\u001b[0m\u001b[0m\n\u001b[0m\u001b[1;32m   1052\u001b[0m         \u001b[0;31m# Do not call functions when jit is used\u001b[0m\u001b[0;34m\u001b[0m\u001b[0;34m\u001b[0m\u001b[0;34m\u001b[0m\u001b[0m\n\u001b[1;32m   1053\u001b[0m         \u001b[0mfull_backward_hooks\u001b[0m\u001b[0;34m,\u001b[0m \u001b[0mnon_full_backward_hooks\u001b[0m \u001b[0;34m=\u001b[0m \u001b[0;34m[\u001b[0m\u001b[0;34m]\u001b[0m\u001b[0;34m,\u001b[0m \u001b[0;34m[\u001b[0m\u001b[0;34m]\u001b[0m\u001b[0;34m\u001b[0m\u001b[0;34m\u001b[0m\u001b[0m\n",
      "\u001b[0;32m<ipython-input-65-21edbbd1aa70>\u001b[0m in \u001b[0;36mforward\u001b[0;34m(self, x)\u001b[0m\n\u001b[1;32m      7\u001b[0m     \u001b[0;32mdef\u001b[0m \u001b[0mforward\u001b[0m\u001b[0;34m(\u001b[0m\u001b[0mself\u001b[0m\u001b[0;34m,\u001b[0m \u001b[0mx\u001b[0m\u001b[0;34m)\u001b[0m\u001b[0;34m:\u001b[0m\u001b[0;34m\u001b[0m\u001b[0;34m\u001b[0m\u001b[0m\n\u001b[1;32m      8\u001b[0m         \u001b[0;31m# assert x.size() == self.cache[:,:,0:1].size()\u001b[0m\u001b[0;34m\u001b[0m\u001b[0;34m\u001b[0m\u001b[0;34m\u001b[0m\u001b[0m\n\u001b[0;32m----> 9\u001b[0;31m         \u001b[0mcache_update\u001b[0m \u001b[0;34m=\u001b[0m \u001b[0mtorch\u001b[0m\u001b[0;34m.\u001b[0m\u001b[0mcat\u001b[0m\u001b[0;34m(\u001b[0m\u001b[0;34m(\u001b[0m\u001b[0mself\u001b[0m\u001b[0;34m.\u001b[0m\u001b[0mcache\u001b[0m\u001b[0;34m[\u001b[0m\u001b[0;34m:\u001b[0m\u001b[0;34m,\u001b[0m\u001b[0;34m:\u001b[0m\u001b[0;34m,\u001b[0m\u001b[0;36m1\u001b[0m\u001b[0;34m:\u001b[0m\u001b[0;34m]\u001b[0m\u001b[0;34m,\u001b[0m \u001b[0mx\u001b[0m\u001b[0;34m.\u001b[0m\u001b[0mdetach\u001b[0m\u001b[0;34m(\u001b[0m\u001b[0;34m)\u001b[0m\u001b[0;34m)\u001b[0m\u001b[0;34m,\u001b[0m \u001b[0mdim\u001b[0m\u001b[0;34m=\u001b[0m\u001b[0;36m2\u001b[0m\u001b[0;34m)\u001b[0m\u001b[0;34m\u001b[0m\u001b[0;34m\u001b[0m\u001b[0m\n\u001b[0m\u001b[1;32m     10\u001b[0m         \u001b[0mself\u001b[0m\u001b[0;34m.\u001b[0m\u001b[0mcache\u001b[0m\u001b[0;34m[\u001b[0m\u001b[0;34m:\u001b[0m\u001b[0;34m,\u001b[0m\u001b[0;34m:\u001b[0m\u001b[0;34m,\u001b[0m\u001b[0;34m:\u001b[0m\u001b[0;34m]\u001b[0m \u001b[0;34m=\u001b[0m \u001b[0mcache_update\u001b[0m\u001b[0;34m\u001b[0m\u001b[0;34m\u001b[0m\u001b[0m\n\u001b[1;32m     11\u001b[0m         \u001b[0;32mreturn\u001b[0m \u001b[0mself\u001b[0m\u001b[0;34m.\u001b[0m\u001b[0mcache\u001b[0m\u001b[0;34m\u001b[0m\u001b[0;34m\u001b[0m\u001b[0m\n",
      "\u001b[0;31mRuntimeError\u001b[0m: torch.cat(): Tensors must have same number of dimensions: got 3 and 2"
     ]
    }
   ],
   "source": [
    "ex_in = torch.tensor([[[0.0]]])\n",
    "ex_in.size()\n",
    "tc_trt = torch2trt(tc, ex_in)"
   ]
  },
  {
   "cell_type": "code",
   "execution_count": 33,
   "id": "1183164c",
   "metadata": {},
   "outputs": [
    {
     "data": {
      "text/plain": [
       "tensor([0., 0., 0., 0., 0., 0., 0., 0., 0., 1.])"
      ]
     },
     "execution_count": 33,
     "metadata": {},
     "output_type": "execute_result"
    }
   ],
   "source": [
    "t = torch.zeros(10)\n",
    "torch.cat((t[1:], torch.tensor([1])))"
   ]
  },
  {
   "cell_type": "code",
   "execution_count": 76,
   "id": "77253781",
   "metadata": {},
   "outputs": [],
   "source": [
    "class TemporalInferenceBlock(nn.Module):\n",
    "# class TemporalInferenceBlock(torch.jit.ScriptModule):\n",
    "    def __init__(self, n_inputs, n_outputs, kernel_size, stride, dilation, batch_size=1):\n",
    "        super(TemporalInferenceBlock, self).__init__()\n",
    "        self.in_ch, self.k, self.d = n_inputs, kernel_size, dilation\n",
    "\n",
    "        self.conv1 = weight_norm(nn.Conv1d(n_inputs, n_outputs, kernel_size,\n",
    "                                           stride=stride, padding=0, dilation=dilation))\n",
    "        self.relu1 = nn.ReLU()\n",
    "\n",
    "        self.conv2 = weight_norm(nn.Conv1d(n_outputs, n_outputs, kernel_size,\n",
    "                                           stride=stride, padding=0, dilation=dilation))\n",
    "        self.relu2 = nn.ReLU()\n",
    "\n",
    "        self.batch_size = batch_size\n",
    "\n",
    "#         self.cache1 = torch.jit.script(TensorCache(torch.zeros(\n",
    "#             batch_size, \n",
    "#             self.conv1.in_channels, \n",
    "#             (self.conv1.kernel_size[0]-1)*self.conv1.dilation[0] + 1\n",
    "#             )))\n",
    "        \n",
    "#         self.cache2 = torch.jit.script(TensorCache(torch.zeros(\n",
    "#             batch_size, \n",
    "#             self.conv2.in_channels, \n",
    "#             (self.conv2.kernel_size[0]-1)*self.conv2.dilation[0] + 1\n",
    "#             )))\n",
    "\n",
    "        self.cache1 = torch.zeros(\n",
    "            batch_size, \n",
    "            self.conv1.in_channels, \n",
    "            (self.conv1.kernel_size[0]-1)*self.conv1.dilation[0] + 1\n",
    "            )\n",
    "            \n",
    "        self.cache2 = torch.zeros(\n",
    "            batch_size, \n",
    "            self.conv2.in_channels, \n",
    "            (self.conv2.kernel_size[0]-1)*self.conv2.dilation[0] + 1\n",
    "            )\n",
    "        \n",
    "        self.stage1 = nn.Sequential(self.conv1, self.relu1)\n",
    "        self.stage2 = nn.Sequential(self.conv2, self.relu2)\n",
    "\n",
    "\n",
    "        self.downsample = nn.Conv1d(n_inputs, n_outputs, 1) if n_inputs != n_outputs else nn.Identity()\n",
    "        self.relu = nn.ReLU()\n",
    "        self.init_weights()\n",
    "    \n",
    "    def init_weights(self):\n",
    "        self.conv1.weight.data.normal_(0, 0.01)\n",
    "        self.conv2.weight.data.normal_(0, 0.01)\n",
    "        if isinstance(self.downsample, nn.modules.conv.Conv1d):\n",
    "            self.downsample.weight.data.normal_(0, 0.01)\n",
    "\n",
    "    def reset_cache(self):\n",
    "        self.cache1.zero_cache()\n",
    "        self.cache2.zero_cache()\n",
    "    \n",
    "#     def forward(self, x):\n",
    "#         '''\n",
    "#         x is of shape (B, CH, 1)\n",
    "#         '''\n",
    "#         # out = self.stage1(self.cache1(x)[:x.size()[0], :, :])\n",
    "#         # out = self.stage2(self.cache2(out)[:x.size()[0], :, :])\n",
    "#         # out1 = self.stage1(self.cache1(x))\n",
    "#         # out2 = self.stage2(self.cache2(out1))\n",
    "        \n",
    "#         out1 = self.relu1(self.conv1(self.cache1(x)))\n",
    "#         out2 = self.relu2(self.conv2(self.cache2(out1)))\n",
    "#         # self.cache1.zero_cache()\n",
    "#         # out1 = self.cache1()\n",
    "#         # self.cache2.zero_cache()\n",
    "#         # out2 = self.cache2()\n",
    "\n",
    "#         res = self.downsample(x)\n",
    "#         out = self.relu(out2 + res)\n",
    "#         # print(f'\\t res shape: {res.size()}')\n",
    "#         #         print(f'x: {x} \\n c1: {self.cache1.cache} \\n out1: {out1} \\n c2: {self.cache2.cache} \\n out2: {out2} \\n \\n')\n",
    "\n",
    "#         return x, self.cache1.cache, out1, self.cache2.cache, out2, res, out\n",
    "    \n",
    "#     @torch.jit.script_method\n",
    "    def forward(self, x):\n",
    "        '''\n",
    "        x is of shape (B, CH, 1)\n",
    "        '''\n",
    "        # out = self.stage1(self.cache1(x)[:x.size()[0], :, :])\n",
    "        # out = self.stage2(self.cache2(out)[:x.size()[0], :, :])\n",
    "        cache_update = torch.cat((self.cache1[:,:,1:], x.detach()), dim=2)\n",
    "        self.cache1[:,:,:] = cache_update\n",
    "        out1 = self.stage1(self.cache1)\n",
    "        \n",
    "        cache_update = torch.cat((self.cache2[:,:,1:], out1), dim=2)\n",
    "        self.cache2[:,:,:] = cache_update\n",
    "        \n",
    "        out2 = self.stage2(self.cache2)\n",
    "\n",
    "        res = self.downsample(x)\n",
    "        out = self.relu(out2 + res)\n",
    "        # print(f'\\t res shape: {res.size()}')\n",
    "        #         print(f'x: {x} \\n c1: {self.cache1.cache} \\n out1: {out1} \\n c2: {self.cache2.cache} \\n out2: {out2} \\n \\n')\n",
    "\n",
    "        return x, self.cache1, out1, self.cache2, out2, res, out"
   ]
  },
  {
   "cell_type": "code",
   "execution_count": 75,
   "id": "ab04732c",
   "metadata": {},
   "outputs": [
    {
     "ename": "IndentationError",
     "evalue": "unexpected indent (<unknown>, line 1)",
     "output_type": "error",
     "traceback": [
      "Traceback \u001b[0;36m(most recent call last)\u001b[0m:\n",
      "  File \u001b[1;32m\"/usr/local/lib/python3.8/dist-packages/IPython/core/interactiveshell.py\"\u001b[0m, line \u001b[1;32m3441\u001b[0m, in \u001b[1;35mrun_code\u001b[0m\n    exec(code_obj, self.user_global_ns, self.user_ns)\n",
      "  File \u001b[1;32m\"<ipython-input-75-6352df07854f>\"\u001b[0m, line \u001b[1;32m1\u001b[0m, in \u001b[1;35m<module>\u001b[0m\n    tblock = TemporalInferenceBlock(1,1,7,1,1,1)\n",
      "  File \u001b[1;32m\"/usr/local/lib/python3.8/dist-packages/torch/jit/_script.py\"\u001b[0m, line \u001b[1;32m285\u001b[0m, in \u001b[1;35minit_then_script\u001b[0m\n    ] = torch.jit._recursive.create_script_module(self, make_stubs, share_types=not added_methods_in_init)\n",
      "  File \u001b[1;32m\"/usr/local/lib/python3.8/dist-packages/torch/jit/_recursive.py\"\u001b[0m, line \u001b[1;32m411\u001b[0m, in \u001b[1;35mcreate_script_module\u001b[0m\n    AttributeTypeIsSupportedChecker().check(nn_module)\n",
      "  File \u001b[1;32m\"/usr/local/lib/python3.8/dist-packages/torch/jit/_check.py\"\u001b[0m, line \u001b[1;32m68\u001b[0m, in \u001b[1;35mcheck\u001b[0m\n    init_ast = ast.parse(source_lines)\n",
      "\u001b[0;36m  File \u001b[0;32m\"/usr/lib/python3.8/ast.py\"\u001b[0;36m, line \u001b[0;32m47\u001b[0;36m, in \u001b[0;35mparse\u001b[0;36m\u001b[0m\n\u001b[0;31m    return compile(source, filename, mode, flags,\u001b[0m\n",
      "\u001b[0;36m  File \u001b[0;32m\"<unknown>\"\u001b[0;36m, line \u001b[0;32m1\u001b[0m\n\u001b[0;31m    def __init__(self, n_inputs, n_outputs, kernel_size, stride, dilation, batch_size=1):\u001b[0m\n\u001b[0m    ^\u001b[0m\n\u001b[0;31mIndentationError\u001b[0m\u001b[0;31m:\u001b[0m unexpected indent\n"
     ]
    }
   ],
   "source": [
    "tblock = TemporalInferenceBlock(1,1,7,1,1,1)\n",
    "tblock.eval()\n",
    "tblock.cuda()\n",
    "\n",
    "tblock_script = torch.jit.script(tblock)\n",
    "tblock_trace = torch.jit.trace(tblock, torch.tensor([[[0]]]).cuda())\n"
   ]
  },
  {
   "cell_type": "code",
   "execution_count": 71,
   "id": "bfa58d2a",
   "metadata": {},
   "outputs": [
    {
     "name": "stdout",
     "output_type": "stream",
     "text": [
      "Original:\n",
      "tensor([[[0., 0., 0., 0., 0., 0., 0., 0., 0., 1.]]])\n",
      "tensor([[[0., 0., 0., 0., 0., 0., 0., 0., 1., 2.]]])\n",
      "tensor([[[0., 0., 0., 0., 0., 0., 0., 1., 2., 3.]]])\n",
      "tensor([[[0., 0., 0., 0., 0., 0., 1., 2., 3., 4.]]])\n",
      "\n",
      "Convert using script:\n",
      "tensor([[[0., 0., 0., 0., 0., 1., 2., 3., 4., 1.]]])\n",
      "tensor([[[0., 0., 0., 0., 1., 2., 3., 4., 1., 2.]]])\n",
      "tensor([[[0., 0., 0., 1., 2., 3., 4., 1., 2., 3.]]])\n",
      "tensor([[[0., 0., 1., 2., 3., 4., 1., 2., 3., 4.]]])\n"
     ]
    }
   ],
   "source": [
    "print('Original:')\n",
    "for inp in [1,2,3,4]:\n",
    "    print(tc(torch.tensor([[[inp]]])))\n",
    "\n",
    "print()\n",
    "print('Convert using script:')\n",
    "for inp in [1,2,3,4]:\n",
    "    print(tc_script(torch.tensor([[[inp]]])))"
   ]
  },
  {
   "cell_type": "code",
   "execution_count": null,
   "id": "2cece24f",
   "metadata": {},
   "outputs": [],
   "source": []
  }
 ],
 "metadata": {
  "kernelspec": {
   "display_name": "Python 3",
   "language": "python",
   "name": "python3"
  },
  "language_info": {
   "codemirror_mode": {
    "name": "ipython",
    "version": 3
   },
   "file_extension": ".py",
   "mimetype": "text/x-python",
   "name": "python",
   "nbconvert_exporter": "python",
   "pygments_lexer": "ipython3",
   "version": "3.8.5"
  }
 },
 "nbformat": 4,
 "nbformat_minor": 5
}
