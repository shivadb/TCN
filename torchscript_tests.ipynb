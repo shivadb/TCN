{
 "cells": [
  {
   "cell_type": "code",
   "execution_count": 1,
   "metadata": {},
   "outputs": [],
   "source": [
    "import torch\n",
    "import torch.nn as nn\n",
    "from torch.nn.utils import weight_norm"
   ]
  },
  {
   "cell_type": "code",
   "execution_count": 2,
   "metadata": {},
   "outputs": [],
   "source": [
    "class TensorCache(nn.Module):\n",
    "    def __init__(self, tensor):\n",
    "        super(TensorCache, self).__init__()\n",
    "        self.register_buffer('cache', tensor)\n",
    "    \n",
    "    def forward(self, x):\n",
    "        # assert x.size() == self.cache[:,:,0:1].size()\n",
    "        cache_update = torch.cat((self.cache[:,:,1:], x.detach()), dim=2)\n",
    "        self.cache = cache_update\n",
    "        return self.cache"
   ]
  },
  {
   "cell_type": "code",
   "execution_count": 3,
   "metadata": {},
   "outputs": [],
   "source": [
    "tc = TensorCache(torch.zeros(1,1,10))\n",
    "tc_script = torch.jit.script(tc)\n",
    "tc_trace = torch.jit.trace(tc, torch.tensor([[[0]]]))\n"
   ]
  },
  {
   "cell_type": "code",
   "execution_count": 4,
   "metadata": {},
   "outputs": [
    {
     "name": "stdout",
     "output_type": "stream",
     "text": [
      "Original:\n",
      "tensor([[[0., 0., 0., 0., 0., 0., 0., 0., 0., 1.]]])\n",
      "tensor([[[0., 0., 0., 0., 0., 0., 0., 0., 1., 2.]]])\n",
      "tensor([[[0., 0., 0., 0., 0., 0., 0., 1., 2., 3.]]])\n",
      "tensor([[[0., 0., 0., 0., 0., 0., 1., 2., 3., 4.]]])\n",
      "\n",
      "Convert using script:\n",
      "tensor([[[0., 0., 0., 0., 0., 0., 0., 0., 0., 1.]]])\n",
      "tensor([[[0., 0., 0., 0., 0., 0., 0., 0., 1., 2.]]])\n",
      "tensor([[[0., 0., 0., 0., 0., 0., 0., 1., 2., 3.]]])\n",
      "tensor([[[0., 0., 0., 0., 0., 0., 1., 2., 3., 4.]]])\n",
      "\n",
      "Convert using trace:\n",
      "tensor([[[0., 0., 0., 0., 0., 0., 0., 0., 0., 1.]]])\n",
      "tensor([[[0., 0., 0., 0., 0., 0., 0., 0., 0., 2.]]])\n",
      "tensor([[[0., 0., 0., 0., 0., 0., 0., 0., 0., 3.]]])\n",
      "tensor([[[0., 0., 0., 0., 0., 0., 0., 0., 0., 4.]]])\n"
     ]
    }
   ],
   "source": [
    "print('Original:')\n",
    "for inp in [1,2,3,4]:\n",
    "    print(tc(torch.tensor([[[inp]]])))\n",
    "\n",
    "print()\n",
    "print('Convert using script:')\n",
    "for inp in [1,2,3,4]:\n",
    "    print(tc_script(torch.tensor([[[inp]]])))\n",
    "    \n",
    "print('')\n",
    "print('Convert using trace:')\n",
    "for inp in [1,2,3,4]:\n",
    "    print(tc_trace(torch.tensor([[[inp]]])))"
   ]
  },
  {
   "cell_type": "code",
   "execution_count": 20,
   "metadata": {},
   "outputs": [],
   "source": [
    "class TemporalInferenceBlock(nn.Module):\n",
    "    def __init__(self, n_inputs, n_outputs, kernel_size, stride, dilation, batch_size=1):\n",
    "        super(TemporalInferenceBlock, self).__init__()\n",
    "        self.in_ch, self.k, self.d = n_inputs, kernel_size, dilation\n",
    "\n",
    "        self.conv1 = weight_norm(nn.Conv1d(n_inputs, n_outputs, kernel_size,\n",
    "                                           stride=stride, padding=0, dilation=dilation))\n",
    "        self.relu1 = nn.ReLU()\n",
    "\n",
    "        self.conv2 = weight_norm(nn.Conv1d(n_outputs, n_outputs, kernel_size,\n",
    "                                           stride=stride, padding=0, dilation=dilation))\n",
    "        self.relu2 = nn.ReLU()\n",
    "\n",
    "        self.batch_size = batch_size\n",
    "\n",
    "        self.cache1 = torch.jit.script(TensorCache(torch.zeros(\n",
    "            batch_size, \n",
    "            self.conv1.in_channels, \n",
    "            (self.conv1.kernel_size[0]-1)*self.conv1.dilation[0] + 1\n",
    "            )))\n",
    "        \n",
    "        self.cache2 = torch.jit.script(TensorCache(torch.zeros(\n",
    "            batch_size, \n",
    "            self.conv2.in_channels, \n",
    "            (self.conv2.kernel_size[0]-1)*self.conv2.dilation[0] + 1\n",
    "            )))\n",
    "        \n",
    "        self.stage1 = nn.Sequential(self.conv1, self.relu1)\n",
    "        self.stage2 = nn.Sequential(self.conv2, self.relu2)\n",
    "\n",
    "\n",
    "        self.downsample = nn.Conv1d(n_inputs, n_outputs, 1) if n_inputs != n_outputs else nn.Identity()\n",
    "        self.relu = nn.ReLU()\n",
    "        self.init_weights()\n",
    "    \n",
    "    def init_weights(self):\n",
    "        self.conv1.weight.data.normal_(0, 0.01)\n",
    "        self.conv2.weight.data.normal_(0, 0.01)\n",
    "        if isinstance(self.downsample, nn.modules.conv.Conv1d):\n",
    "            self.downsample.weight.data.normal_(0, 0.01)\n",
    "\n",
    "    def reset_cache(self):\n",
    "        device = next(self.parameters()).device\n",
    "        self.cache1.cache = torch.zeros(self.cache1.cache.size()).to(device)\n",
    "        self.cache2.cache = torch.zeros(self.cache2.cache.size()).to(device)\n",
    "    \n",
    "    def forward(self, x):\n",
    "        '''\n",
    "        x is of shape (B, CH, 1)\n",
    "        '''\n",
    "        # out = self.stage1(self.cache1(x)[:x.size()[0], :, :])\n",
    "        # out = self.stage2(self.cache2(out)[:x.size()[0], :, :])\n",
    "        out1 = self.stage1(self.cache1(x))\n",
    "        out2 = self.stage2(self.cache2(out1))\n",
    "\n",
    "        res = self.downsample(x)\n",
    "        out = self.relu(out2 + res)\n",
    "        # print(f'\\t res shape: {res.size()}')\n",
    "        #         print(f'x: {x} \\n c1: {self.cache1.cache} \\n out1: {out1} \\n c2: {self.cache2.cache} \\n out2: {out2} \\n \\n')\n",
    "\n",
    "        return x, self.cache1.cache, out1, self.cache2.cache, out2, res, out"
   ]
  },
  {
   "cell_type": "code",
   "execution_count": 21,
   "metadata": {},
   "outputs": [],
   "source": [
    "tblock = TemporalInferenceBlock(1,1,3,1,1,1)\n",
    "tblock_script = torch.jit.script(tblock)\n",
    "tblock_trace = torch.jit.trace(tblock, torch.tensor([[[0]]]))"
   ]
  },
  {
   "cell_type": "code",
   "execution_count": 22,
   "metadata": {},
   "outputs": [
    {
     "name": "stdout",
     "output_type": "stream",
     "text": [
      "x: tensor([[[1]]]) \n",
      " c1: tensor([[[0., 0., 1.]]]) \n",
      " out1: tensor([[[0.5241]]], grad_fn=<ReluBackward0>) \n",
      " c2: tensor([[[0.2088, 0.2088, 0.5241]]]) \n",
      " out2: tensor([[[0.0385]]], grad_fn=<ReluBackward0>), res: tensor([[[1]]]) \n",
      " out: tensor([[[1.0385]]], grad_fn=<ReluBackward0>) \n",
      " \n",
      "\n",
      "x: tensor([[[2]]]) \n",
      " c1: tensor([[[0., 1., 2.]]]) \n",
      " out1: tensor([[[1.0486]]], grad_fn=<ReluBackward0>) \n",
      " c2: tensor([[[0.2088, 0.5241, 1.0486]]]) \n",
      " out2: tensor([[[0.1257]]], grad_fn=<ReluBackward0>), res: tensor([[[2]]]) \n",
      " out: tensor([[[2.1257]]], grad_fn=<ReluBackward0>) \n",
      " \n",
      "\n",
      "x: tensor([[[3]]]) \n",
      " c1: tensor([[[1., 2., 3.]]]) \n",
      " out1: tensor([[[1.6069]]], grad_fn=<ReluBackward0>) \n",
      " c2: tensor([[[0.5241, 1.0486, 1.6069]]]) \n",
      " out2: tensor([[[0.2229]]], grad_fn=<ReluBackward0>), res: tensor([[[3]]]) \n",
      " out: tensor([[[3.2229]]], grad_fn=<ReluBackward0>) \n",
      " \n",
      "\n",
      "x: tensor([[[4]]]) \n",
      " c1: tensor([[[2., 3., 4.]]]) \n",
      " out1: tensor([[[2.1652]]], grad_fn=<ReluBackward0>) \n",
      " c2: tensor([[[1.0486, 1.6069, 2.1652]]]) \n",
      " out2: tensor([[[0.3539]]], grad_fn=<ReluBackward0>), res: tensor([[[4]]]) \n",
      " out: tensor([[[4.3539]]], grad_fn=<ReluBackward0>) \n",
      " \n",
      "\n"
     ]
    }
   ],
   "source": [
    "for inp in [1,2,3,4]:\n",
    "    x, c1, out1, c2, out2, res, out = tblock(torch.tensor([[[inp]]]))\n",
    "    print(f'x: {x} \\n c1: {c1} \\n out1: {out1} \\n c2: {c2} \\n out2: {out2}, res: {res} \\n out: {out} \\n \\n')"
   ]
  },
  {
   "cell_type": "code",
   "execution_count": 23,
   "metadata": {},
   "outputs": [
    {
     "name": "stdout",
     "output_type": "stream",
     "text": [
      "x: tensor([[[1]]]) \n",
      " c1: tensor([[[3., 4., 1.]]]) \n",
      " out1: tensor([[[0.2188]]], grad_fn=<ReluBackward0>) \n",
      " c2: tensor([[[1.6069, 2.1652, 0.2188]]]) \n",
      " out2: tensor([[[0.]]], grad_fn=<ReluBackward0>), res: tensor([[[1]]]) \n",
      " out: tensor([[[1.]]], grad_fn=<ReluBackward0>) \n",
      " \n",
      "\n",
      "x: tensor([[[2]]]) \n",
      " c1: tensor([[[4., 1., 2.]]]) \n",
      " out1: tensor([[[0.2243]]], grad_fn=<ReluBackward0>) \n",
      " c2: tensor([[[2.1652, 0.2188, 0.2243]]]) \n",
      " out2: tensor([[[0.]]], grad_fn=<DifferentiableGraphBackward>), res: tensor([[[2]]]) \n",
      " out: tensor([[[2.]]], grad_fn=<DifferentiableGraphBackward>) \n",
      " \n",
      "\n",
      "x: tensor([[[3]]]) \n",
      " c1: tensor([[[1., 2., 3.]]]) \n",
      " out1: tensor([[[0.2335]]], grad_fn=<ReluBackward0>) \n",
      " c2: tensor([[[0.2188, 0.2243, 0.2335]]]) \n",
      " out2: tensor([[[0.]]], grad_fn=<DifferentiableGraphBackward>), res: tensor([[[3]]]) \n",
      " out: tensor([[[3.]]], grad_fn=<DifferentiableGraphBackward>) \n",
      " \n",
      "\n",
      "x: tensor([[[4]]]) \n",
      " c1: tensor([[[2., 3., 4.]]]) \n",
      " out1: tensor([[[0.2418]]], grad_fn=<ReluBackward0>) \n",
      " c2: tensor([[[0.2243, 0.2335, 0.2418]]]) \n",
      " out2: tensor([[[0.]]], grad_fn=<DifferentiableGraphBackward>), res: tensor([[[4]]]) \n",
      " out: tensor([[[4.]]], grad_fn=<DifferentiableGraphBackward>) \n",
      " \n",
      "\n"
     ]
    }
   ],
   "source": [
    "for inp in [1,2,3,4]:\n",
    "    x, c1, out1, c2, out2, res, out = tblock_script(torch.tensor([[[inp]]]))\n",
    "    print(f'x: {x} \\n c1: {c1} \\n out1: {out1} \\n c2: {c2} \\n out2: {out2}, res: {res} \\n out: {out} \\n \\n')"
   ]
  },
  {
   "cell_type": "code",
   "execution_count": 24,
   "metadata": {},
   "outputs": [
    {
     "name": "stdout",
     "output_type": "stream",
     "text": [
      "x: tensor([[[1]]]) \n",
      " c1: tensor([[[3., 4., 1.]]]) \n",
      " out1: tensor([[[1.4625]]], grad_fn=<ReluBackward0>) \n",
      " c2: tensor([[[0.2335, 0.2418, 1.4625]]]) \n",
      " out2: tensor([[[0.3777]]], grad_fn=<ReluBackward0>), res: tensor([[[1]]]) \n",
      " out: tensor([[[1.3777]]], grad_fn=<ReluBackward0>) \n",
      " \n",
      "\n",
      "x: tensor([[[2]]]) \n",
      " c1: tensor([[[4., 1., 2.]]]) \n",
      " out1: tensor([[[1.1836]]], grad_fn=<ReluBackward0>) \n",
      " c2: tensor([[[0.2418, 1.4625, 1.1836]]]) \n",
      " out2: tensor([[[0.]]], grad_fn=<ReluBackward0>), res: tensor([[[2]]]) \n",
      " out: tensor([[[2.]]], grad_fn=<ReluBackward0>) \n",
      " \n",
      "\n",
      "x: tensor([[[3]]]) \n",
      " c1: tensor([[[1., 2., 3.]]]) \n",
      " out1: tensor([[[1.6069]]], grad_fn=<ReluBackward0>) \n",
      " c2: tensor([[[1.4625, 1.1836, 1.6069]]]) \n",
      " out2: tensor([[[0.3796]]], grad_fn=<ReluBackward0>), res: tensor([[[3]]]) \n",
      " out: tensor([[[3.3796]]], grad_fn=<ReluBackward0>) \n",
      " \n",
      "\n",
      "x: tensor([[[4]]]) \n",
      " c1: tensor([[[2., 3., 4.]]]) \n",
      " out1: tensor([[[2.1652]]], grad_fn=<ReluBackward0>) \n",
      " c2: tensor([[[1.1836, 1.6069, 2.1652]]]) \n",
      " out2: tensor([[[0.3830]]], grad_fn=<ReluBackward0>), res: tensor([[[4]]]) \n",
      " out: tensor([[[4.3830]]], grad_fn=<ReluBackward0>) \n",
      " \n",
      "\n"
     ]
    }
   ],
   "source": [
    "for inp in [1,2,3,4]:\n",
    "    x, c1, out1, c2, out2, res, out = tblock_trace(torch.tensor([[[inp]]]))\n",
    "    print(f'x: {x} \\n c1: {c1} \\n out1: {out1} \\n c2: {c2} \\n out2: {out2}, res: {res} \\n out: {out} \\n \\n')"
   ]
  },
  {
   "cell_type": "code",
   "execution_count": null,
   "metadata": {},
   "outputs": [],
   "source": []
  }
 ],
 "metadata": {
  "kernelspec": {
   "display_name": "Python 3",
   "language": "python",
   "name": "python3"
  },
  "language_info": {
   "codemirror_mode": {
    "name": "ipython",
    "version": 3
   },
   "file_extension": ".py",
   "mimetype": "text/x-python",
   "name": "python",
   "nbconvert_exporter": "python",
   "pygments_lexer": "ipython3",
   "version": "3.7.3"
  }
 },
 "nbformat": 4,
 "nbformat_minor": 2
}
