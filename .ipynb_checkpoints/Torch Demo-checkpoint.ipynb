{
 "cells": [
  {
   "cell_type": "code",
   "execution_count": 5,
   "id": "3c47dab4",
   "metadata": {},
   "outputs": [],
   "source": [
    "%matplotlib inline\n",
    "import torch\n",
    "import torch.nn.functional as F\n",
    "import os, sys\n",
    "from pathlib import Path\n",
    "from TCN.mnist_pixel.utils import data_generator, augment_data\n",
    "from TCN.mnist_pixel.model import TCN\n",
    "import numpy as np\n",
    "import matplotlib.pyplot as plt\n",
    "import pickle\n",
    "from IPython import display\n",
    "import ipywidgets as widgets\n",
    "from PIL import Image\n",
    "import io\n",
    "import cv2\n",
    "import time"
   ]
  },
  {
   "cell_type": "code",
   "execution_count": 12,
   "id": "b32dc7c7",
   "metadata": {},
   "outputs": [
    {
     "name": "stdout",
     "output_type": "stream",
     "text": [
      "Namespace(batch_size=64, clip=-1, cuda=True, dropout=0.05, epochs=40, ksize=7, levels=6, log_interval=100, lr=0.002, modelname='k7l6', nhid=25, optim='Adam', permute=False, savedir=PosixPath('models'), savemodel=True, seed=-1)\n",
      "TCN/mnist_pixel/models/k7l6.pt\n",
      "757\n"
     ]
    }
   ],
   "source": [
    "model_path = Path('./TCN/mnist_pixel/models')\n",
    "data_path = Path('./TCN/mnist_pixel/data/mnist')\n",
    "model_name = 'aug_k7l6'\n",
    "batch_size = 1\n",
    "in_channels = 1\n",
    "n_classes = 10\n",
    "\n",
    "args = pickle.load(open(model_path / (model_name+'_args.pkl'), 'rb'))\n",
    "print(args)\n",
    "channel_sizes = [args.nhid] * args.levels\n",
    "\n",
    "print(model_path / (model_name+'.pt'))\n",
    "\n",
    "_, test_loader = data_generator(data_path, batch_size)\n",
    "model = TCN(in_channels, n_classes, channel_sizes, kernel_size=args.ksize, trt=True, apply_max=True)\n",
    "model.load_state_dict(torch.load(model_path / (model_name+'.pt')), strict=False)\n",
    "model.eval()\n",
    "\n",
    "print(model.receptive_field)\n",
    "\n",
    "if torch.cuda.is_available():\n",
    "    model.cuda()\n",
    "    "
   ]
  },
  {
   "cell_type": "code",
   "execution_count": 13,
   "id": "195dd282",
   "metadata": {},
   "outputs": [
    {
     "data": {
      "text/plain": [
       "tensor([8], device='cuda:0', dtype=torch.int32)"
      ]
     },
     "execution_count": 13,
     "metadata": {},
     "output_type": "execute_result"
    }
   ],
   "source": [
    "test_t = torch.zeros(1,1,784).cuda()\n",
    "test_out = model(test_t)\n",
    "# torch.topk(test_out,1, dim=1).indices\n",
    "test_out"
   ]
  },
  {
   "cell_type": "code",
   "execution_count": 15,
   "id": "1b001b40",
   "metadata": {},
   "outputs": [
    {
     "data": {
      "application/vnd.jupyter.widget-view+json": {
       "model_id": "1b208168d8724af69fc6b5af1caf8b24",
       "version_major": 2,
       "version_minor": 0
      },
      "text/plain": [
       "Image(value=b'\\x89PNG\\r\\n\\x1a\\n\\x00\\x00\\x00\\rIHDR\\x00\\x00\\x00\\x1c\\x00\\x00\\x00\\x1c\\x08\\x00\\x00\\x00\\x00Wf\\x80H\\x…"
      ]
     },
     "metadata": {},
     "output_type": "display_data"
    },
    {
     "data": {
      "application/vnd.jupyter.widget-view+json": {
       "model_id": "ebdcb7167e354ccea42f59a8f43b0f88",
       "version_major": 2,
       "version_minor": 0
      },
      "text/plain": [
       "VBox(children=(Label(value='True Label: N/A'), Label(value='Predicted Label: N/A')))"
      ]
     },
     "metadata": {},
     "output_type": "display_data"
    },
    {
     "ename": "KeyboardInterrupt",
     "evalue": "",
     "output_type": "error",
     "traceback": [
      "\u001b[0;31m---------------------------------------------------------------------------\u001b[0m",
      "\u001b[0;31mKeyboardInterrupt\u001b[0m                         Traceback (most recent call last)",
      "\u001b[0;32m<ipython-input-15-3b3d95386c7b>\u001b[0m in \u001b[0;36m<module>\u001b[0;34m\u001b[0m\n\u001b[1;32m     54\u001b[0m             \u001b[0mpred_val\u001b[0m\u001b[0;34m.\u001b[0m\u001b[0mvalue\u001b[0m \u001b[0;34m=\u001b[0m \u001b[0;34mf'Predicted Label: {pred.item()}'\u001b[0m\u001b[0;34m\u001b[0m\u001b[0;34m\u001b[0m\u001b[0m\n\u001b[1;32m     55\u001b[0m \u001b[0;34m\u001b[0m\u001b[0m\n\u001b[0;32m---> 56\u001b[0;31m         \u001b[0mtime\u001b[0m\u001b[0;34m.\u001b[0m\u001b[0msleep\u001b[0m\u001b[0;34m(\u001b[0m\u001b[0;36m0.01\u001b[0m\u001b[0;34m)\u001b[0m\u001b[0;34m\u001b[0m\u001b[0;34m\u001b[0m\u001b[0m\n\u001b[0m\u001b[1;32m     57\u001b[0m \u001b[0;34m\u001b[0m\u001b[0m\n\u001b[1;32m     58\u001b[0m \u001b[0;34m\u001b[0m\u001b[0m\n",
      "\u001b[0;31mKeyboardInterrupt\u001b[0m: "
     ]
    }
   ],
   "source": [
    "num_samples = 0\n",
    "# fig, ax = plt.subplots(1,1)\n",
    "\n",
    "im_queue = [0 for i in range(28*28)]\n",
    "data_queue = torch.zeros((1,1,28*28)).cuda()\n",
    "curr_im = np.array(im_queue, dtype=np.uint8).reshape((28,28))\n",
    "_, encoded_image = cv2.imencode('.png', curr_im)\n",
    "im_bytes = encoded_image.tobytes()\n",
    "im_disp = widgets.Image(value=im_bytes, width=200, height=200)\n",
    "\n",
    "true_val = widgets.Label(value=f'True Label: N/A')\n",
    "pred_val = widgets.Label(value=f'Predicted Label: N/A')\n",
    "label_disp = widgets.VBox((true_val, pred_val))\n",
    "\n",
    "display.display(im_disp)\n",
    "display.display(label_disp)\n",
    "\n",
    "for data, target in test_loader:\n",
    "    im = data.squeeze().cpu().detach().numpy()\n",
    "    rows, cols = im.shape\n",
    "    im = (im - im.min())\n",
    "    im = (im/im.max() * 255).astype('uint8')\n",
    "    curr_im = np.ones(im.shape, dtype=np.uint8)*255\n",
    "    \n",
    "    true_val.value = f'True Label: {target.item()}'\n",
    "\n",
    "    if torch.cuda.is_available():\n",
    "        data, target = data.cuda(), target.cuda()\n",
    "    \n",
    "    data = data.view(data.size()[0], 1, -1)\n",
    "    \n",
    "    for i in range(data.size()[2]):\n",
    "        num_samples += 1\n",
    "        curr_row = i // cols\n",
    "        curr_col = i % cols\n",
    "        \n",
    "        im_queue.append(im[curr_row,curr_col])\n",
    "        im_queue = im_queue[1:]\n",
    "        \n",
    "        data_queue = data_queue.roll(-1, 2)\n",
    "        data_queue[:,:,-1] = data[:,:,i]\n",
    "        \n",
    "        curr_im = np.array(im_queue, dtype=np.uint8).reshape((28,28))\n",
    "        _, encoded_image = cv2.imencode('.png', curr_im)\n",
    "        im_bytes = encoded_image.tobytes()\n",
    "        im_disp.value = im_bytes\n",
    "        \n",
    "        # output = model(data[:,:,i].view(data.size()[0], data.size()[1], 1))\n",
    "        output = model(data_queue)\n",
    "        # pred = output.max(1, keepdim=True)[1] #max returns values and indices\n",
    "        pred = output\n",
    "        \n",
    "        if num_samples > model.receptive_field:\n",
    "            pred_val.value = f'Predicted Label: {pred.item()}'\n",
    "    \n",
    "        time.sleep(0.01)\n",
    "    \n",
    "    \n",
    "    for i in np.zeros(np.random.randint(50, 200)):\n",
    "        im_queue.append(0)\n",
    "        im_queue = im_queue[1:]\n",
    "        data_queue = data_queue.roll(-1, 2)\n",
    "        data_queue[:,:,-1] = i\n",
    "        curr_im = np.array(im_queue, dtype=np.uint8).reshape((28,28)) \n",
    "        _, encoded_image = cv2.imencode('.png', curr_im)\n",
    "        im_bytes = encoded_image.tobytes()\n",
    "        im_disp.value = im_bytes\n",
    "        true_val.value = f'True Label: N/A'\n",
    "        num_samples += 1\n",
    "        # output = model(torch.tensor([i], dtype=torch.float).cuda().view(1, 1, 1))\n",
    "        output = model(data_queue)\n",
    "        # pred = output.max(1, keepdim=True)[1] #max returns values and indices\n",
    "        pred = output\n",
    "        if num_samples > model.receptive_field:\n",
    "            pred_val.value = f'Predicted Label: {pred.item()}'\n",
    "        \n"
   ]
  },
  {
   "cell_type": "code",
   "execution_count": 7,
   "id": "ca519c61",
   "metadata": {},
   "outputs": [
    {
     "name": "stdout",
     "output_type": "stream",
     "text": [
      "1.7.0\n"
     ]
    }
   ],
   "source": [
    "import onnx\n",
    "import onnxruntime as ort\n",
    "from onnx import helper, shape_inference\n",
    "print(ort.__version__)"
   ]
  },
  {
   "cell_type": "code",
   "execution_count": 8,
   "id": "5b2833f3",
   "metadata": {},
   "outputs": [
    {
     "name": "stdout",
     "output_type": "stream",
     "text": [
      "graph(%input : Float(1, 1, 784, strides=[784, 784, 1], requires_grad=0, device=cuda:0),\n",
      "      %tcn.network.0.conv1.bias : Float(25, strides=[1], requires_grad=1, device=cuda:0),\n",
      "      %tcn.network.0.conv2.bias : Float(25, strides=[1], requires_grad=1, device=cuda:0),\n",
      "      %tcn.network.0.downsample.weight : Float(25, 1, 1, strides=[1, 1, 1], requires_grad=1, device=cuda:0),\n",
      "      %tcn.network.0.downsample.bias : Float(25, strides=[1], requires_grad=1, device=cuda:0),\n",
      "      %tcn.network.1.conv1.bias : Float(25, strides=[1], requires_grad=1, device=cuda:0),\n",
      "      %tcn.network.1.conv2.bias : Float(25, strides=[1], requires_grad=1, device=cuda:0),\n",
      "      %tcn.network.2.conv1.bias : Float(25, strides=[1], requires_grad=1, device=cuda:0),\n",
      "      %tcn.network.2.conv2.bias : Float(25, strides=[1], requires_grad=1, device=cuda:0),\n",
      "      %tcn.network.3.conv1.bias : Float(25, strides=[1], requires_grad=1, device=cuda:0),\n",
      "      %tcn.network.3.conv2.bias : Float(25, strides=[1], requires_grad=1, device=cuda:0),\n",
      "      %tcn.network.4.conv1.bias : Float(25, strides=[1], requires_grad=1, device=cuda:0),\n",
      "      %tcn.network.4.conv2.bias : Float(25, strides=[1], requires_grad=1, device=cuda:0),\n",
      "      %tcn.network.5.conv1.bias : Float(25, strides=[1], requires_grad=1, device=cuda:0),\n",
      "      %tcn.network.5.conv2.bias : Float(25, strides=[1], requires_grad=1, device=cuda:0),\n",
      "      %linear.weight : Float(10, 25, strides=[25, 1], requires_grad=1, device=cuda:0),\n",
      "      %linear.bias : Float(10, strides=[1], requires_grad=1, device=cuda:0),\n",
      "      %288 : Float(25, 1, 7, strides=[7, 7, 1], requires_grad=0, device=cuda:0),\n",
      "      %289 : Long(1, strides=[1], requires_grad=0, device=cpu),\n",
      "      %290 : Long(1, strides=[1], requires_grad=0, device=cpu),\n",
      "      %293 : Float(25, 25, 7, strides=[175, 7, 1], requires_grad=0, device=cuda:0),\n",
      "      %294 : Long(1, strides=[1], requires_grad=0, device=cpu),\n",
      "      %295 : Long(1, strides=[1], requires_grad=0, device=cpu),\n",
      "      %298 : Float(25, 25, 7, strides=[175, 7, 1], requires_grad=0, device=cuda:0),\n",
      "      %299 : Long(1, strides=[1], requires_grad=0, device=cpu),\n",
      "      %300 : Long(1, strides=[1], requires_grad=0, device=cpu),\n",
      "      %303 : Float(25, 25, 7, strides=[175, 7, 1], requires_grad=0, device=cuda:0),\n",
      "      %304 : Long(1, strides=[1], requires_grad=0, device=cpu),\n",
      "      %305 : Long(1, strides=[1], requires_grad=0, device=cpu),\n",
      "      %308 : Float(25, 25, 7, strides=[175, 7, 1], requires_grad=0, device=cuda:0),\n",
      "      %309 : Long(1, strides=[1], requires_grad=0, device=cpu),\n",
      "      %310 : Long(1, strides=[1], requires_grad=0, device=cpu),\n",
      "      %313 : Float(25, 25, 7, strides=[175, 7, 1], requires_grad=0, device=cuda:0),\n",
      "      %314 : Long(1, strides=[1], requires_grad=0, device=cpu),\n",
      "      %315 : Long(1, strides=[1], requires_grad=0, device=cpu),\n",
      "      %318 : Float(25, 25, 7, strides=[175, 7, 1], requires_grad=0, device=cuda:0),\n",
      "      %319 : Long(1, strides=[1], requires_grad=0, device=cpu),\n",
      "      %320 : Long(1, strides=[1], requires_grad=0, device=cpu),\n",
      "      %323 : Float(25, 25, 7, strides=[175, 7, 1], requires_grad=0, device=cuda:0),\n",
      "      %324 : Long(1, strides=[1], requires_grad=0, device=cpu),\n",
      "      %325 : Long(1, strides=[1], requires_grad=0, device=cpu),\n",
      "      %328 : Float(25, 25, 7, strides=[175, 7, 1], requires_grad=0, device=cuda:0),\n",
      "      %329 : Long(1, strides=[1], requires_grad=0, device=cpu),\n",
      "      %330 : Long(1, strides=[1], requires_grad=0, device=cpu),\n",
      "      %333 : Float(25, 25, 7, strides=[175, 7, 1], requires_grad=0, device=cuda:0),\n",
      "      %334 : Long(1, strides=[1], requires_grad=0, device=cpu),\n",
      "      %335 : Long(1, strides=[1], requires_grad=0, device=cpu),\n",
      "      %338 : Float(25, 25, 7, strides=[175, 7, 1], requires_grad=0, device=cuda:0),\n",
      "      %339 : Long(1, strides=[1], requires_grad=0, device=cpu),\n",
      "      %340 : Long(1, strides=[1], requires_grad=0, device=cpu),\n",
      "      %343 : Float(25, 25, 7, strides=[175, 7, 1], requires_grad=0, device=cuda:0),\n",
      "      %344 : Long(1, strides=[1], requires_grad=0, device=cpu),\n",
      "      %345 : Long(1, strides=[1], requires_grad=0, device=cpu),\n",
      "      %346 : Long(1, strides=[1], requires_grad=0, device=cpu)):\n",
      "  %44 : Float(1, 25, 790, strides=[19750, 790, 1], requires_grad=1, device=cuda:0) = onnx::Conv[dilations=[1], group=1, kernel_shape=[7], pads=[6, 6], strides=[1]](%input, %288, %tcn.network.0.conv1.bias) # /usr/local/lib/python3.8/dist-packages/torch/nn/modules/conv.py:294:0\n",
      "  %45 : Long(3, strides=[1], device=cpu) = onnx::Shape(%44)\n",
      "  %46 : Long(device=cpu) = onnx::Constant[value={2}]()\n",
      "  %47 : Long(device=cpu) = onnx::Gather[axis=0](%45, %46) # /runfa/shivb/TCN/TCN/tcn_trt.py:12:0\n",
      "  %48 : Long(requires_grad=0, device=cpu) = onnx::Constant[value={6}]()\n",
      "  %49 : Long(requires_grad=0, device=cpu) = onnx::Sub(%47, %48)\n",
      "  %52 : Long(requires_grad=0, device=cpu) = onnx::Constant[value={0}]()\n",
      "  %53 : Long(device=cpu) = onnx::Add(%52, %49)\n",
      "  %55 : Long(1, strides=[1], device=cpu) = onnx::Unsqueeze[axes=[0]](%53)\n",
      "  %57 : Float(1, 25, 784, strides=[19750, 790, 1], requires_grad=1, device=cuda:0) = onnx::Slice(%44, %289, %55, %290) # /runfa/shivb/TCN/TCN/tcn_trt.py:13:0\n",
      "  %58 : Float(1, 25, 784, strides=[19600, 784, 1], requires_grad=1, device=cuda:0) = onnx::Relu(%57) # /usr/local/lib/python3.8/dist-packages/torch/nn/functional.py:1298:0\n",
      "  %62 : Float(1, 25, 790, strides=[19750, 790, 1], requires_grad=1, device=cuda:0) = onnx::Conv[dilations=[1], group=1, kernel_shape=[7], pads=[6, 6], strides=[1]](%58, %293, %tcn.network.0.conv2.bias) # /usr/local/lib/python3.8/dist-packages/torch/nn/modules/conv.py:294:0\n",
      "  %63 : Long(3, strides=[1], device=cpu) = onnx::Shape(%62)\n",
      "  %64 : Long(device=cpu) = onnx::Constant[value={2}]()\n",
      "  %65 : Long(device=cpu) = onnx::Gather[axis=0](%63, %64) # /runfa/shivb/TCN/TCN/tcn_trt.py:12:0\n",
      "  %66 : Long(requires_grad=0, device=cpu) = onnx::Constant[value={6}]()\n",
      "  %67 : Long(requires_grad=0, device=cpu) = onnx::Sub(%65, %66)\n",
      "  %70 : Long(requires_grad=0, device=cpu) = onnx::Constant[value={0}]()\n",
      "  %71 : Long(device=cpu) = onnx::Add(%70, %67)\n",
      "  %73 : Long(1, strides=[1], device=cpu) = onnx::Unsqueeze[axes=[0]](%71)\n",
      "  %75 : Float(1, 25, 784, strides=[19750, 790, 1], requires_grad=1, device=cuda:0) = onnx::Slice(%62, %294, %73, %295) # /runfa/shivb/TCN/TCN/tcn_trt.py:13:0\n",
      "  %76 : Float(1, 25, 784, strides=[19600, 784, 1], requires_grad=1, device=cuda:0) = onnx::Relu(%75) # /usr/local/lib/python3.8/dist-packages/torch/nn/functional.py:1298:0\n",
      "  %77 : Float(1, 25, 784, strides=[19600, 784, 1], requires_grad=1, device=cuda:0) = onnx::Conv[dilations=[1], group=1, kernel_shape=[1], pads=[0, 0], strides=[1]](%input, %tcn.network.0.downsample.weight, %tcn.network.0.downsample.bias) # /usr/local/lib/python3.8/dist-packages/torch/nn/modules/conv.py:294:0\n",
      "  %78 : Float(1, 25, 784, strides=[19600, 784, 1], requires_grad=1, device=cuda:0) = onnx::Add(%76, %77) # /runfa/shivb/TCN/TCN/tcn_trt.py:50:0\n",
      "  %79 : Float(1, 25, 784, strides=[19600, 784, 1], requires_grad=1, device=cuda:0) = onnx::Relu(%78) # /usr/local/lib/python3.8/dist-packages/torch/nn/functional.py:1298:0\n",
      "  %83 : Float(1, 25, 796, strides=[19900, 796, 1], requires_grad=1, device=cuda:0) = onnx::Conv[dilations=[2], group=1, kernel_shape=[7], pads=[12, 12], strides=[1]](%79, %298, %tcn.network.1.conv1.bias) # /usr/local/lib/python3.8/dist-packages/torch/nn/modules/conv.py:294:0\n",
      "  %84 : Long(3, strides=[1], device=cpu) = onnx::Shape(%83)\n",
      "  %85 : Long(device=cpu) = onnx::Constant[value={2}]()\n",
      "  %86 : Long(device=cpu) = onnx::Gather[axis=0](%84, %85) # /runfa/shivb/TCN/TCN/tcn_trt.py:12:0\n",
      "  %87 : Long(requires_grad=0, device=cpu) = onnx::Constant[value={12}]()\n",
      "  %88 : Long(requires_grad=0, device=cpu) = onnx::Sub(%86, %87)\n",
      "  %91 : Long(requires_grad=0, device=cpu) = onnx::Constant[value={0}]()\n",
      "  %92 : Long(device=cpu) = onnx::Add(%91, %88)\n",
      "  %94 : Long(1, strides=[1], device=cpu) = onnx::Unsqueeze[axes=[0]](%92)\n",
      "  %96 : Float(1, 25, 784, strides=[19900, 796, 1], requires_grad=1, device=cuda:0) = onnx::Slice(%83, %299, %94, %300) # /runfa/shivb/TCN/TCN/tcn_trt.py:13:0\n",
      "  %97 : Float(1, 25, 784, strides=[19600, 784, 1], requires_grad=1, device=cuda:0) = onnx::Relu(%96) # /usr/local/lib/python3.8/dist-packages/torch/nn/functional.py:1298:0\n",
      "  %101 : Float(1, 25, 796, strides=[19900, 796, 1], requires_grad=1, device=cuda:0) = onnx::Conv[dilations=[2], group=1, kernel_shape=[7], pads=[12, 12], strides=[1]](%97, %303, %tcn.network.1.conv2.bias) # /usr/local/lib/python3.8/dist-packages/torch/nn/modules/conv.py:294:0\n",
      "  %102 : Long(3, strides=[1], device=cpu) = onnx::Shape(%101)\n",
      "  %103 : Long(device=cpu) = onnx::Constant[value={2}]()\n",
      "  %104 : Long(device=cpu) = onnx::Gather[axis=0](%102, %103) # /runfa/shivb/TCN/TCN/tcn_trt.py:12:0\n",
      "  %105 : Long(requires_grad=0, device=cpu) = onnx::Constant[value={12}]()\n",
      "  %106 : Long(requires_grad=0, device=cpu) = onnx::Sub(%104, %105)\n",
      "  %109 : Long(requires_grad=0, device=cpu) = onnx::Constant[value={0}]()\n",
      "  %110 : Long(device=cpu) = onnx::Add(%109, %106)\n",
      "  %112 : Long(1, strides=[1], device=cpu) = onnx::Unsqueeze[axes=[0]](%110)\n",
      "  %114 : Float(1, 25, 784, strides=[19900, 796, 1], requires_grad=1, device=cuda:0) = onnx::Slice(%101, %304, %112, %305) # /runfa/shivb/TCN/TCN/tcn_trt.py:13:0\n",
      "  %115 : Float(1, 25, 784, strides=[19600, 784, 1], requires_grad=1, device=cuda:0) = onnx::Relu(%114) # /usr/local/lib/python3.8/dist-packages/torch/nn/functional.py:1298:0\n",
      "  %116 : Float(1, 25, 784, strides=[19600, 784, 1], requires_grad=1, device=cuda:0) = onnx::Add(%115, %79) # /runfa/shivb/TCN/TCN/tcn_trt.py:50:0\n",
      "  %117 : Float(1, 25, 784, strides=[19600, 784, 1], requires_grad=1, device=cuda:0) = onnx::Relu(%116) # /usr/local/lib/python3.8/dist-packages/torch/nn/functional.py:1298:0\n",
      "  %121 : Float(1, 25, 808, strides=[20200, 808, 1], requires_grad=1, device=cuda:0) = onnx::Conv[dilations=[4], group=1, kernel_shape=[7], pads=[24, 24], strides=[1]](%117, %308, %tcn.network.2.conv1.bias) # /usr/local/lib/python3.8/dist-packages/torch/nn/modules/conv.py:294:0\n",
      "  %122 : Long(3, strides=[1], device=cpu) = onnx::Shape(%121)\n",
      "  %123 : Long(device=cpu) = onnx::Constant[value={2}]()\n",
      "  %124 : Long(device=cpu) = onnx::Gather[axis=0](%122, %123) # /runfa/shivb/TCN/TCN/tcn_trt.py:12:0\n",
      "  %125 : Long(requires_grad=0, device=cpu) = onnx::Constant[value={24}]()\n",
      "  %126 : Long(requires_grad=0, device=cpu) = onnx::Sub(%124, %125)\n",
      "  %129 : Long(requires_grad=0, device=cpu) = onnx::Constant[value={0}]()\n",
      "  %130 : Long(device=cpu) = onnx::Add(%129, %126)\n",
      "  %132 : Long(1, strides=[1], device=cpu) = onnx::Unsqueeze[axes=[0]](%130)\n",
      "  %134 : Float(1, 25, 784, strides=[20200, 808, 1], requires_grad=1, device=cuda:0) = onnx::Slice(%121, %309, %132, %310) # /runfa/shivb/TCN/TCN/tcn_trt.py:13:0\n",
      "  %135 : Float(1, 25, 784, strides=[19600, 784, 1], requires_grad=1, device=cuda:0) = onnx::Relu(%134) # /usr/local/lib/python3.8/dist-packages/torch/nn/functional.py:1298:0\n",
      "  %139 : Float(1, 25, 808, strides=[20200, 808, 1], requires_grad=1, device=cuda:0) = onnx::Conv[dilations=[4], group=1, kernel_shape=[7], pads=[24, 24], strides=[1]](%135, %313, %tcn.network.2.conv2.bias) # /usr/local/lib/python3.8/dist-packages/torch/nn/modules/conv.py:294:0\n",
      "  %140 : Long(3, strides=[1], device=cpu) = onnx::Shape(%139)\n",
      "  %141 : Long(device=cpu) = onnx::Constant[value={2}]()\n",
      "  %142 : Long(device=cpu) = onnx::Gather[axis=0](%140, %141) # /runfa/shivb/TCN/TCN/tcn_trt.py:12:0\n",
      "  %143 : Long(requires_grad=0, device=cpu) = onnx::Constant[value={24}]()\n",
      "  %144 : Long(requires_grad=0, device=cpu) = onnx::Sub(%142, %143)\n",
      "  %147 : Long(requires_grad=0, device=cpu) = onnx::Constant[value={0}]()\n",
      "  %148 : Long(device=cpu) = onnx::Add(%147, %144)\n",
      "  %150 : Long(1, strides=[1], device=cpu) = onnx::Unsqueeze[axes=[0]](%148)\n",
      "  %152 : Float(1, 25, 784, strides=[20200, 808, 1], requires_grad=1, device=cuda:0) = onnx::Slice(%139, %314, %150, %315) # /runfa/shivb/TCN/TCN/tcn_trt.py:13:0\n",
      "  %153 : Float(1, 25, 784, strides=[19600, 784, 1], requires_grad=1, device=cuda:0) = onnx::Relu(%152) # /usr/local/lib/python3.8/dist-packages/torch/nn/functional.py:1298:0\n",
      "  %154 : Float(1, 25, 784, strides=[19600, 784, 1], requires_grad=1, device=cuda:0) = onnx::Add(%153, %117) # /runfa/shivb/TCN/TCN/tcn_trt.py:50:0\n",
      "  %155 : Float(1, 25, 784, strides=[19600, 784, 1], requires_grad=1, device=cuda:0) = onnx::Relu(%154) # /usr/local/lib/python3.8/dist-packages/torch/nn/functional.py:1298:0\n",
      "  %159 : Float(1, 25, 832, strides=[20800, 832, 1], requires_grad=1, device=cuda:0) = onnx::Conv[dilations=[8], group=1, kernel_shape=[7], pads=[48, 48], strides=[1]](%155, %318, %tcn.network.3.conv1.bias) # /usr/local/lib/python3.8/dist-packages/torch/nn/modules/conv.py:294:0\n",
      "  %160 : Long(3, strides=[1], device=cpu) = onnx::Shape(%159)\n",
      "  %161 : Long(device=cpu) = onnx::Constant[value={2}]()\n",
      "  %162 : Long(device=cpu) = onnx::Gather[axis=0](%160, %161) # /runfa/shivb/TCN/TCN/tcn_trt.py:12:0\n",
      "  %163 : Long(requires_grad=0, device=cpu) = onnx::Constant[value={48}]()\n",
      "  %164 : Long(requires_grad=0, device=cpu) = onnx::Sub(%162, %163)\n",
      "  %167 : Long(requires_grad=0, device=cpu) = onnx::Constant[value={0}]()\n",
      "  %168 : Long(device=cpu) = onnx::Add(%167, %164)\n",
      "  %170 : Long(1, strides=[1], device=cpu) = onnx::Unsqueeze[axes=[0]](%168)\n",
      "  %172 : Float(1, 25, 784, strides=[20800, 832, 1], requires_grad=1, device=cuda:0) = onnx::Slice(%159, %319, %170, %320) # /runfa/shivb/TCN/TCN/tcn_trt.py:13:0\n",
      "  %173 : Float(1, 25, 784, strides=[19600, 784, 1], requires_grad=1, device=cuda:0) = onnx::Relu(%172) # /usr/local/lib/python3.8/dist-packages/torch/nn/functional.py:1298:0\n",
      "  %177 : Float(1, 25, 832, strides=[20800, 832, 1], requires_grad=1, device=cuda:0) = onnx::Conv[dilations=[8], group=1, kernel_shape=[7], pads=[48, 48], strides=[1]](%173, %323, %tcn.network.3.conv2.bias) # /usr/local/lib/python3.8/dist-packages/torch/nn/modules/conv.py:294:0\n",
      "  %178 : Long(3, strides=[1], device=cpu) = onnx::Shape(%177)\n",
      "  %179 : Long(device=cpu) = onnx::Constant[value={2}]()\n",
      "  %180 : Long(device=cpu) = onnx::Gather[axis=0](%178, %179) # /runfa/shivb/TCN/TCN/tcn_trt.py:12:0\n",
      "  %181 : Long(requires_grad=0, device=cpu) = onnx::Constant[value={48}]()\n",
      "  %182 : Long(requires_grad=0, device=cpu) = onnx::Sub(%180, %181)\n",
      "  %185 : Long(requires_grad=0, device=cpu) = onnx::Constant[value={0}]()\n",
      "  %186 : Long(device=cpu) = onnx::Add(%185, %182)\n",
      "  %188 : Long(1, strides=[1], device=cpu) = onnx::Unsqueeze[axes=[0]](%186)\n",
      "  %190 : Float(1, 25, 784, strides=[20800, 832, 1], requires_grad=1, device=cuda:0) = onnx::Slice(%177, %324, %188, %325) # /runfa/shivb/TCN/TCN/tcn_trt.py:13:0\n",
      "  %191 : Float(1, 25, 784, strides=[19600, 784, 1], requires_grad=1, device=cuda:0) = onnx::Relu(%190) # /usr/local/lib/python3.8/dist-packages/torch/nn/functional.py:1298:0\n",
      "  %192 : Float(1, 25, 784, strides=[19600, 784, 1], requires_grad=1, device=cuda:0) = onnx::Add(%191, %155) # /runfa/shivb/TCN/TCN/tcn_trt.py:50:0\n",
      "  %193 : Float(1, 25, 784, strides=[19600, 784, 1], requires_grad=1, device=cuda:0) = onnx::Relu(%192) # /usr/local/lib/python3.8/dist-packages/torch/nn/functional.py:1298:0\n",
      "  %197 : Float(1, 25, 880, strides=[22000, 880, 1], requires_grad=1, device=cuda:0) = onnx::Conv[dilations=[16], group=1, kernel_shape=[7], pads=[96, 96], strides=[1]](%193, %328, %tcn.network.4.conv1.bias) # /usr/local/lib/python3.8/dist-packages/torch/nn/modules/conv.py:294:0\n",
      "  %198 : Long(3, strides=[1], device=cpu) = onnx::Shape(%197)\n",
      "  %199 : Long(device=cpu) = onnx::Constant[value={2}]()\n",
      "  %200 : Long(device=cpu) = onnx::Gather[axis=0](%198, %199) # /runfa/shivb/TCN/TCN/tcn_trt.py:12:0\n",
      "  %201 : Long(requires_grad=0, device=cpu) = onnx::Constant[value={96}]()\n",
      "  %202 : Long(requires_grad=0, device=cpu) = onnx::Sub(%200, %201)\n",
      "  %205 : Long(requires_grad=0, device=cpu) = onnx::Constant[value={0}]()\n",
      "  %206 : Long(device=cpu) = onnx::Add(%205, %202)\n",
      "  %208 : Long(1, strides=[1], device=cpu) = onnx::Unsqueeze[axes=[0]](%206)\n",
      "  %210 : Float(1, 25, 784, strides=[22000, 880, 1], requires_grad=1, device=cuda:0) = onnx::Slice(%197, %329, %208, %330) # /runfa/shivb/TCN/TCN/tcn_trt.py:13:0\n",
      "  %211 : Float(1, 25, 784, strides=[19600, 784, 1], requires_grad=1, device=cuda:0) = onnx::Relu(%210) # /usr/local/lib/python3.8/dist-packages/torch/nn/functional.py:1298:0\n",
      "  %215 : Float(1, 25, 880, strides=[22000, 880, 1], requires_grad=1, device=cuda:0) = onnx::Conv[dilations=[16], group=1, kernel_shape=[7], pads=[96, 96], strides=[1]](%211, %333, %tcn.network.4.conv2.bias) # /usr/local/lib/python3.8/dist-packages/torch/nn/modules/conv.py:294:0\n",
      "  %216 : Long(3, strides=[1], device=cpu) = onnx::Shape(%215)\n",
      "  %217 : Long(device=cpu) = onnx::Constant[value={2}]()\n",
      "  %218 : Long(device=cpu) = onnx::Gather[axis=0](%216, %217) # /runfa/shivb/TCN/TCN/tcn_trt.py:12:0\n",
      "  %219 : Long(requires_grad=0, device=cpu) = onnx::Constant[value={96}]()\n",
      "  %220 : Long(requires_grad=0, device=cpu) = onnx::Sub(%218, %219)\n",
      "  %223 : Long(requires_grad=0, device=cpu) = onnx::Constant[value={0}]()\n",
      "  %224 : Long(device=cpu) = onnx::Add(%223, %220)\n",
      "  %226 : Long(1, strides=[1], device=cpu) = onnx::Unsqueeze[axes=[0]](%224)\n",
      "  %228 : Float(1, 25, 784, strides=[22000, 880, 1], requires_grad=1, device=cuda:0) = onnx::Slice(%215, %334, %226, %335) # /runfa/shivb/TCN/TCN/tcn_trt.py:13:0\n",
      "  %229 : Float(1, 25, 784, strides=[19600, 784, 1], requires_grad=1, device=cuda:0) = onnx::Relu(%228) # /usr/local/lib/python3.8/dist-packages/torch/nn/functional.py:1298:0\n",
      "  %230 : Float(1, 25, 784, strides=[19600, 784, 1], requires_grad=1, device=cuda:0) = onnx::Add(%229, %193) # /runfa/shivb/TCN/TCN/tcn_trt.py:50:0\n",
      "  %231 : Float(1, 25, 784, strides=[19600, 784, 1], requires_grad=1, device=cuda:0) = onnx::Relu(%230) # /usr/local/lib/python3.8/dist-packages/torch/nn/functional.py:1298:0\n",
      "  %235 : Float(1, 25, 976, strides=[24400, 976, 1], requires_grad=1, device=cuda:0) = onnx::Conv[dilations=[32], group=1, kernel_shape=[7], pads=[192, 192], strides=[1]](%231, %338, %tcn.network.5.conv1.bias) # /usr/local/lib/python3.8/dist-packages/torch/nn/modules/conv.py:294:0\n",
      "  %236 : Long(3, strides=[1], device=cpu) = onnx::Shape(%235)\n",
      "  %237 : Long(device=cpu) = onnx::Constant[value={2}]()\n",
      "  %238 : Long(device=cpu) = onnx::Gather[axis=0](%236, %237) # /runfa/shivb/TCN/TCN/tcn_trt.py:12:0\n",
      "  %239 : Long(requires_grad=0, device=cpu) = onnx::Constant[value={192}]()\n",
      "  %240 : Long(requires_grad=0, device=cpu) = onnx::Sub(%238, %239)\n",
      "  %243 : Long(requires_grad=0, device=cpu) = onnx::Constant[value={0}]()\n",
      "  %244 : Long(device=cpu) = onnx::Add(%243, %240)\n",
      "  %246 : Long(1, strides=[1], device=cpu) = onnx::Unsqueeze[axes=[0]](%244)\n",
      "  %248 : Float(1, 25, 784, strides=[24400, 976, 1], requires_grad=1, device=cuda:0) = onnx::Slice(%235, %339, %246, %340) # /runfa/shivb/TCN/TCN/tcn_trt.py:13:0\n",
      "  %249 : Float(1, 25, 784, strides=[19600, 784, 1], requires_grad=1, device=cuda:0) = onnx::Relu(%248) # /usr/local/lib/python3.8/dist-packages/torch/nn/functional.py:1298:0\n",
      "  %253 : Float(1, 25, 976, strides=[24400, 976, 1], requires_grad=1, device=cuda:0) = onnx::Conv[dilations=[32], group=1, kernel_shape=[7], pads=[192, 192], strides=[1]](%249, %343, %tcn.network.5.conv2.bias) # /usr/local/lib/python3.8/dist-packages/torch/nn/modules/conv.py:294:0\n",
      "  %254 : Long(3, strides=[1], device=cpu) = onnx::Shape(%253)\n",
      "  %255 : Long(device=cpu) = onnx::Constant[value={2}]()\n",
      "  %256 : Long(device=cpu) = onnx::Gather[axis=0](%254, %255) # /runfa/shivb/TCN/TCN/tcn_trt.py:12:0\n",
      "  %257 : Long(requires_grad=0, device=cpu) = onnx::Constant[value={192}]()\n",
      "  %258 : Long(requires_grad=0, device=cpu) = onnx::Sub(%256, %257)\n",
      "  %261 : Long(requires_grad=0, device=cpu) = onnx::Constant[value={0}]()\n",
      "  %262 : Long(device=cpu) = onnx::Add(%261, %258)\n",
      "  %264 : Long(1, strides=[1], device=cpu) = onnx::Unsqueeze[axes=[0]](%262)\n",
      "  %266 : Float(1, 25, 784, strides=[24400, 976, 1], requires_grad=1, device=cuda:0) = onnx::Slice(%253, %344, %264, %345) # /runfa/shivb/TCN/TCN/tcn_trt.py:13:0\n",
      "  %267 : Float(1, 25, 784, strides=[19600, 784, 1], requires_grad=1, device=cuda:0) = onnx::Relu(%266) # /usr/local/lib/python3.8/dist-packages/torch/nn/functional.py:1298:0\n",
      "  %268 : Float(1, 25, 784, strides=[19600, 784, 1], requires_grad=1, device=cuda:0) = onnx::Add(%267, %231) # /runfa/shivb/TCN/TCN/tcn_trt.py:50:0\n",
      "  %269 : Float(1, 25, 784, strides=[19600, 784, 1], requires_grad=1, device=cuda:0) = onnx::Relu(%268) # /usr/local/lib/python3.8/dist-packages/torch/nn/functional.py:1298:0\n",
      "  %270 : Long(3, strides=[1], device=cpu) = onnx::Shape(%269)\n",
      "  %271 : Long(device=cpu) = onnx::Constant[value={2}]()\n",
      "  %272 : Long(device=cpu) = onnx::Gather[axis=0](%270, %271) # /runfa/shivb/TCN/TCN/mnist_pixel/model.py:30:0\n",
      "  %273 : Long(requires_grad=0, device=cpu) = onnx::Constant[value={1}]()\n",
      "  %274 : Long(requires_grad=0, device=cpu) = onnx::Sub(%272, %273)\n",
      "  %276 : Long(requires_grad=0, device=cpu) = onnx::Constant[value={1}]()\n",
      "  %277 : Long(device=cpu) = onnx::Add(%274, %276)\n",
      "  %278 : Long(1, strides=[1], device=cpu) = onnx::Unsqueeze[axes=[0]](%274)\n",
      "  %279 : Long(1, strides=[1], device=cpu) = onnx::Unsqueeze[axes=[0]](%277)\n",
      "  %281 : Float(1, 25, 1, strides=[19600, 784, 1], requires_grad=1, device=cuda:0) = onnx::Slice(%269, %278, %279, %346) # /runfa/shivb/TCN/TCN/mnist_pixel/model.py:30:0\n",
      "  %282 : Float(1, 25, strides=[19600, 784], requires_grad=1, device=cuda:0) = onnx::Squeeze[axes=[2]](%281) # /runfa/shivb/TCN/TCN/mnist_pixel/model.py:30:0\n",
      "  %283 : Float(1, 10, strides=[10, 1], requires_grad=1, device=cuda:0) = onnx::Gemm[alpha=1., beta=1., transB=1](%282, %linear.weight, %linear.bias) # /usr/local/lib/python3.8/dist-packages/torch/nn/functional.py:1847:0\n",
      "  %284 : Float(1, 10, strides=[10, 1], requires_grad=1, device=cuda:0) = onnx::Softmax[axis=1](%283) # /usr/local/lib/python3.8/dist-packages/torch/nn/functional.py:1679:0\n",
      "  %output : Long(1, strides=[1], requires_grad=0, device=cuda:0) = onnx::ArgMax[axis=1, keepdims=0, select_last_index=0](%284) # /runfa/shivb/TCN/TCN/mnist_pixel/model.py:33:0\n",
      "  return (%output)\n",
      "\n"
     ]
    }
   ],
   "source": [
    "onnx_model = torch.onnx.export(\n",
    "    model,\n",
    "    test_t,\n",
    "    f'{model_path}/{model_name}.onnx',\n",
    "    opset_version=12,\n",
    "    do_constant_folding=True,\n",
    "    export_params=True,\n",
    "    input_names = ['input'],\n",
    "    output_names = ['output'],\n",
    "    verbose=True\n",
    ")\n"
   ]
  },
  {
   "cell_type": "code",
   "execution_count": 9,
   "id": "5253ca1e",
   "metadata": {},
   "outputs": [],
   "source": [
    "onnx_model = onnx.load(model_path / (model_name+'.onnx'))\n",
    "onnx.checker.check_model(onnx_model)\n",
    "inferred_model = shape_inference.infer_shapes(onnx_model)\n",
    "onnx.checker.check_model(inferred_model)"
   ]
  },
  {
   "cell_type": "code",
   "execution_count": 10,
   "id": "1c559662",
   "metadata": {},
   "outputs": [],
   "source": [
    "onnx_path = model_path / (model_name+'.onnx')\n",
    "ort_session = ort.InferenceSession(str(onnx_path))"
   ]
  },
  {
   "cell_type": "code",
   "execution_count": 11,
   "id": "4d09e5bb",
   "metadata": {},
   "outputs": [
    {
     "name": "stdout",
     "output_type": "stream",
     "text": [
      "Exported model has been tested with ONNXRuntime, and the result looks good!\n"
     ]
    }
   ],
   "source": [
    "def to_numpy(tensor):\n",
    "    return tensor.detach().cpu().numpy() if tensor.requires_grad else tensor.cpu().numpy()\n",
    "\n",
    "# compute ONNX Runtime output prediction\n",
    "ort_inputs = {ort_session.get_inputs()[0].name: to_numpy(test_t)}\n",
    "ort_outs = ort_session.run(None, ort_inputs)\n",
    "\n",
    "# compare ONNX Runtime and PyTorch results\n",
    "np.testing.assert_allclose(to_numpy(test_out), ort_outs[0], rtol=1e-03, atol=1e-05)\n",
    "print(\"Exported model has been tested with ONNXRuntime, and the result looks good!\")"
   ]
  },
  {
   "cell_type": "code",
   "execution_count": 13,
   "id": "9517ec92",
   "metadata": {},
   "outputs": [
    {
     "data": {
      "application/vnd.jupyter.widget-view+json": {
       "model_id": "0efb0263d3e74f79a1f913a1b8465417",
       "version_major": 2,
       "version_minor": 0
      },
      "text/plain": [
       "Image(value=b'\\x89PNG\\r\\n\\x1a\\n\\x00\\x00\\x00\\rIHDR\\x00\\x00\\x00\\x1c\\x00\\x00\\x00\\x1c\\x08\\x00\\x00\\x00\\x00Wf\\x80H\\x…"
      ]
     },
     "metadata": {},
     "output_type": "display_data"
    },
    {
     "data": {
      "application/vnd.jupyter.widget-view+json": {
       "model_id": "0fe99d642c5b4af9a44bab661a0dd5b9",
       "version_major": 2,
       "version_minor": 0
      },
      "text/plain": [
       "VBox(children=(Label(value='True Label: N/A'), Label(value='Predicted Label: N/A')))"
      ]
     },
     "metadata": {},
     "output_type": "display_data"
    },
    {
     "ename": "KeyboardInterrupt",
     "evalue": "",
     "output_type": "error",
     "traceback": [
      "\u001b[0;31m---------------------------------------------------------------------------\u001b[0m",
      "\u001b[0;31mKeyboardInterrupt\u001b[0m                         Traceback (most recent call last)",
      "\u001b[0;32m<ipython-input-13-9c0df4ef6355>\u001b[0m in \u001b[0;36m<module>\u001b[0;34m\u001b[0m\n\u001b[1;32m     44\u001b[0m         \u001b[0m_\u001b[0m\u001b[0;34m,\u001b[0m \u001b[0mencoded_image\u001b[0m \u001b[0;34m=\u001b[0m \u001b[0mcv2\u001b[0m\u001b[0;34m.\u001b[0m\u001b[0mimencode\u001b[0m\u001b[0;34m(\u001b[0m\u001b[0;34m'.png'\u001b[0m\u001b[0;34m,\u001b[0m \u001b[0mcurr_im\u001b[0m\u001b[0;34m)\u001b[0m\u001b[0;34m\u001b[0m\u001b[0;34m\u001b[0m\u001b[0m\n\u001b[1;32m     45\u001b[0m         \u001b[0mim_bytes\u001b[0m \u001b[0;34m=\u001b[0m \u001b[0mencoded_image\u001b[0m\u001b[0;34m.\u001b[0m\u001b[0mtobytes\u001b[0m\u001b[0;34m(\u001b[0m\u001b[0;34m)\u001b[0m\u001b[0;34m\u001b[0m\u001b[0;34m\u001b[0m\u001b[0m\n\u001b[0;32m---> 46\u001b[0;31m         \u001b[0mim_disp\u001b[0m\u001b[0;34m.\u001b[0m\u001b[0mvalue\u001b[0m \u001b[0;34m=\u001b[0m \u001b[0mim_bytes\u001b[0m\u001b[0;34m\u001b[0m\u001b[0;34m\u001b[0m\u001b[0m\n\u001b[0m\u001b[1;32m     47\u001b[0m \u001b[0;34m\u001b[0m\u001b[0m\n\u001b[1;32m     48\u001b[0m         \u001b[0mort_inputs\u001b[0m \u001b[0;34m=\u001b[0m \u001b[0;34m{\u001b[0m\u001b[0mort_session\u001b[0m\u001b[0;34m.\u001b[0m\u001b[0mget_inputs\u001b[0m\u001b[0;34m(\u001b[0m\u001b[0;34m)\u001b[0m\u001b[0;34m[\u001b[0m\u001b[0;36m0\u001b[0m\u001b[0;34m]\u001b[0m\u001b[0;34m.\u001b[0m\u001b[0mname\u001b[0m\u001b[0;34m:\u001b[0m \u001b[0mto_numpy\u001b[0m\u001b[0;34m(\u001b[0m\u001b[0mdata_queue\u001b[0m\u001b[0;34m)\u001b[0m\u001b[0;34m}\u001b[0m\u001b[0;34m\u001b[0m\u001b[0;34m\u001b[0m\u001b[0m\n",
      "\u001b[0;32m/usr/local/lib/python3.8/dist-packages/traitlets/traitlets.py\u001b[0m in \u001b[0;36m__set__\u001b[0;34m(self, obj, value)\u001b[0m\n\u001b[1;32m    602\u001b[0m             \u001b[0;32mraise\u001b[0m \u001b[0mTraitError\u001b[0m\u001b[0;34m(\u001b[0m\u001b[0;34m'The \"%s\" trait is read-only.'\u001b[0m \u001b[0;34m%\u001b[0m \u001b[0mself\u001b[0m\u001b[0;34m.\u001b[0m\u001b[0mname\u001b[0m\u001b[0;34m)\u001b[0m\u001b[0;34m\u001b[0m\u001b[0;34m\u001b[0m\u001b[0m\n\u001b[1;32m    603\u001b[0m         \u001b[0;32melse\u001b[0m\u001b[0;34m:\u001b[0m\u001b[0;34m\u001b[0m\u001b[0;34m\u001b[0m\u001b[0m\n\u001b[0;32m--> 604\u001b[0;31m             \u001b[0mself\u001b[0m\u001b[0;34m.\u001b[0m\u001b[0mset\u001b[0m\u001b[0;34m(\u001b[0m\u001b[0mobj\u001b[0m\u001b[0;34m,\u001b[0m \u001b[0mvalue\u001b[0m\u001b[0;34m)\u001b[0m\u001b[0;34m\u001b[0m\u001b[0;34m\u001b[0m\u001b[0m\n\u001b[0m\u001b[1;32m    605\u001b[0m \u001b[0;34m\u001b[0m\u001b[0m\n\u001b[1;32m    606\u001b[0m     \u001b[0;32mdef\u001b[0m \u001b[0m_validate\u001b[0m\u001b[0;34m(\u001b[0m\u001b[0mself\u001b[0m\u001b[0;34m,\u001b[0m \u001b[0mobj\u001b[0m\u001b[0;34m,\u001b[0m \u001b[0mvalue\u001b[0m\u001b[0;34m)\u001b[0m\u001b[0;34m:\u001b[0m\u001b[0;34m\u001b[0m\u001b[0;34m\u001b[0m\u001b[0m\n",
      "\u001b[0;32m/usr/local/lib/python3.8/dist-packages/traitlets/traitlets.py\u001b[0m in \u001b[0;36mset\u001b[0;34m(self, obj, value)\u001b[0m\n\u001b[1;32m    591\u001b[0m             \u001b[0;31m# we explicitly compare silent to True just in case the equality\u001b[0m\u001b[0;34m\u001b[0m\u001b[0;34m\u001b[0m\u001b[0;34m\u001b[0m\u001b[0m\n\u001b[1;32m    592\u001b[0m             \u001b[0;31m# comparison above returns something other than True/False\u001b[0m\u001b[0;34m\u001b[0m\u001b[0;34m\u001b[0m\u001b[0;34m\u001b[0m\u001b[0m\n\u001b[0;32m--> 593\u001b[0;31m             \u001b[0mobj\u001b[0m\u001b[0;34m.\u001b[0m\u001b[0m_notify_trait\u001b[0m\u001b[0;34m(\u001b[0m\u001b[0mself\u001b[0m\u001b[0;34m.\u001b[0m\u001b[0mname\u001b[0m\u001b[0;34m,\u001b[0m \u001b[0mold_value\u001b[0m\u001b[0;34m,\u001b[0m \u001b[0mnew_value\u001b[0m\u001b[0;34m)\u001b[0m\u001b[0;34m\u001b[0m\u001b[0;34m\u001b[0m\u001b[0m\n\u001b[0m\u001b[1;32m    594\u001b[0m \u001b[0;34m\u001b[0m\u001b[0m\n\u001b[1;32m    595\u001b[0m     \u001b[0;32mdef\u001b[0m \u001b[0m__set__\u001b[0m\u001b[0;34m(\u001b[0m\u001b[0mself\u001b[0m\u001b[0;34m,\u001b[0m \u001b[0mobj\u001b[0m\u001b[0;34m,\u001b[0m \u001b[0mvalue\u001b[0m\u001b[0;34m)\u001b[0m\u001b[0;34m:\u001b[0m\u001b[0;34m\u001b[0m\u001b[0;34m\u001b[0m\u001b[0m\n",
      "\u001b[0;32m/usr/local/lib/python3.8/dist-packages/traitlets/traitlets.py\u001b[0m in \u001b[0;36m_notify_trait\u001b[0;34m(self, name, old_value, new_value)\u001b[0m\n\u001b[1;32m   1215\u001b[0m \u001b[0;34m\u001b[0m\u001b[0m\n\u001b[1;32m   1216\u001b[0m     \u001b[0;32mdef\u001b[0m \u001b[0m_notify_trait\u001b[0m\u001b[0;34m(\u001b[0m\u001b[0mself\u001b[0m\u001b[0;34m,\u001b[0m \u001b[0mname\u001b[0m\u001b[0;34m,\u001b[0m \u001b[0mold_value\u001b[0m\u001b[0;34m,\u001b[0m \u001b[0mnew_value\u001b[0m\u001b[0;34m)\u001b[0m\u001b[0;34m:\u001b[0m\u001b[0;34m\u001b[0m\u001b[0;34m\u001b[0m\u001b[0m\n\u001b[0;32m-> 1217\u001b[0;31m         self.notify_change(Bunch(\n\u001b[0m\u001b[1;32m   1218\u001b[0m             \u001b[0mname\u001b[0m\u001b[0;34m=\u001b[0m\u001b[0mname\u001b[0m\u001b[0;34m,\u001b[0m\u001b[0;34m\u001b[0m\u001b[0;34m\u001b[0m\u001b[0m\n\u001b[1;32m   1219\u001b[0m             \u001b[0mold\u001b[0m\u001b[0;34m=\u001b[0m\u001b[0mold_value\u001b[0m\u001b[0;34m,\u001b[0m\u001b[0;34m\u001b[0m\u001b[0;34m\u001b[0m\u001b[0m\n",
      "\u001b[0;32m/usr/local/lib/python3.8/dist-packages/ipywidgets/widgets/widget.py\u001b[0m in \u001b[0;36mnotify_change\u001b[0;34m(self, change)\u001b[0m\n\u001b[1;32m    603\u001b[0m             \u001b[0;32mif\u001b[0m \u001b[0mname\u001b[0m \u001b[0;32min\u001b[0m \u001b[0mself\u001b[0m\u001b[0;34m.\u001b[0m\u001b[0mkeys\u001b[0m \u001b[0;32mand\u001b[0m \u001b[0mself\u001b[0m\u001b[0;34m.\u001b[0m\u001b[0m_should_send_property\u001b[0m\u001b[0;34m(\u001b[0m\u001b[0mname\u001b[0m\u001b[0;34m,\u001b[0m \u001b[0mgetattr\u001b[0m\u001b[0;34m(\u001b[0m\u001b[0mself\u001b[0m\u001b[0;34m,\u001b[0m \u001b[0mname\u001b[0m\u001b[0;34m)\u001b[0m\u001b[0;34m)\u001b[0m\u001b[0;34m:\u001b[0m\u001b[0;34m\u001b[0m\u001b[0;34m\u001b[0m\u001b[0m\n\u001b[1;32m    604\u001b[0m                 \u001b[0;31m# Send new state to front-end\u001b[0m\u001b[0;34m\u001b[0m\u001b[0;34m\u001b[0m\u001b[0;34m\u001b[0m\u001b[0m\n\u001b[0;32m--> 605\u001b[0;31m                 \u001b[0mself\u001b[0m\u001b[0;34m.\u001b[0m\u001b[0msend_state\u001b[0m\u001b[0;34m(\u001b[0m\u001b[0mkey\u001b[0m\u001b[0;34m=\u001b[0m\u001b[0mname\u001b[0m\u001b[0;34m)\u001b[0m\u001b[0;34m\u001b[0m\u001b[0;34m\u001b[0m\u001b[0m\n\u001b[0m\u001b[1;32m    606\u001b[0m         \u001b[0msuper\u001b[0m\u001b[0;34m(\u001b[0m\u001b[0mWidget\u001b[0m\u001b[0;34m,\u001b[0m \u001b[0mself\u001b[0m\u001b[0;34m)\u001b[0m\u001b[0;34m.\u001b[0m\u001b[0mnotify_change\u001b[0m\u001b[0;34m(\u001b[0m\u001b[0mchange\u001b[0m\u001b[0;34m)\u001b[0m\u001b[0;34m\u001b[0m\u001b[0;34m\u001b[0m\u001b[0m\n\u001b[1;32m    607\u001b[0m \u001b[0;34m\u001b[0m\u001b[0m\n",
      "\u001b[0;32m/usr/local/lib/python3.8/dist-packages/ipywidgets/widgets/widget.py\u001b[0m in \u001b[0;36msend_state\u001b[0;34m(self, key)\u001b[0m\n\u001b[1;32m    487\u001b[0m             \u001b[0mstate\u001b[0m\u001b[0;34m,\u001b[0m \u001b[0mbuffer_paths\u001b[0m\u001b[0;34m,\u001b[0m \u001b[0mbuffers\u001b[0m \u001b[0;34m=\u001b[0m \u001b[0m_remove_buffers\u001b[0m\u001b[0;34m(\u001b[0m\u001b[0mstate\u001b[0m\u001b[0;34m)\u001b[0m\u001b[0;34m\u001b[0m\u001b[0;34m\u001b[0m\u001b[0m\n\u001b[1;32m    488\u001b[0m             \u001b[0mmsg\u001b[0m \u001b[0;34m=\u001b[0m \u001b[0;34m{\u001b[0m\u001b[0;34m'method'\u001b[0m\u001b[0;34m:\u001b[0m \u001b[0;34m'update'\u001b[0m\u001b[0;34m,\u001b[0m \u001b[0;34m'state'\u001b[0m\u001b[0;34m:\u001b[0m \u001b[0mstate\u001b[0m\u001b[0;34m,\u001b[0m \u001b[0;34m'buffer_paths'\u001b[0m\u001b[0;34m:\u001b[0m \u001b[0mbuffer_paths\u001b[0m\u001b[0;34m}\u001b[0m\u001b[0;34m\u001b[0m\u001b[0;34m\u001b[0m\u001b[0m\n\u001b[0;32m--> 489\u001b[0;31m             \u001b[0mself\u001b[0m\u001b[0;34m.\u001b[0m\u001b[0m_send\u001b[0m\u001b[0;34m(\u001b[0m\u001b[0mmsg\u001b[0m\u001b[0;34m,\u001b[0m \u001b[0mbuffers\u001b[0m\u001b[0;34m=\u001b[0m\u001b[0mbuffers\u001b[0m\u001b[0;34m)\u001b[0m\u001b[0;34m\u001b[0m\u001b[0;34m\u001b[0m\u001b[0m\n\u001b[0m\u001b[1;32m    490\u001b[0m \u001b[0;34m\u001b[0m\u001b[0m\n\u001b[1;32m    491\u001b[0m \u001b[0;34m\u001b[0m\u001b[0m\n",
      "\u001b[0;32m/usr/local/lib/python3.8/dist-packages/ipywidgets/widgets/widget.py\u001b[0m in \u001b[0;36m_send\u001b[0;34m(self, msg, buffers)\u001b[0m\n\u001b[1;32m    735\u001b[0m         \u001b[0;34m\"\"\"Sends a message to the model in the front-end.\"\"\"\u001b[0m\u001b[0;34m\u001b[0m\u001b[0;34m\u001b[0m\u001b[0m\n\u001b[1;32m    736\u001b[0m         \u001b[0;32mif\u001b[0m \u001b[0mself\u001b[0m\u001b[0;34m.\u001b[0m\u001b[0mcomm\u001b[0m \u001b[0;32mis\u001b[0m \u001b[0;32mnot\u001b[0m \u001b[0;32mNone\u001b[0m \u001b[0;32mand\u001b[0m \u001b[0mself\u001b[0m\u001b[0;34m.\u001b[0m\u001b[0mcomm\u001b[0m\u001b[0;34m.\u001b[0m\u001b[0mkernel\u001b[0m \u001b[0;32mis\u001b[0m \u001b[0;32mnot\u001b[0m \u001b[0;32mNone\u001b[0m\u001b[0;34m:\u001b[0m\u001b[0;34m\u001b[0m\u001b[0;34m\u001b[0m\u001b[0m\n\u001b[0;32m--> 737\u001b[0;31m             \u001b[0mself\u001b[0m\u001b[0;34m.\u001b[0m\u001b[0mcomm\u001b[0m\u001b[0;34m.\u001b[0m\u001b[0msend\u001b[0m\u001b[0;34m(\u001b[0m\u001b[0mdata\u001b[0m\u001b[0;34m=\u001b[0m\u001b[0mmsg\u001b[0m\u001b[0;34m,\u001b[0m \u001b[0mbuffers\u001b[0m\u001b[0;34m=\u001b[0m\u001b[0mbuffers\u001b[0m\u001b[0;34m)\u001b[0m\u001b[0;34m\u001b[0m\u001b[0;34m\u001b[0m\u001b[0m\n\u001b[0m\u001b[1;32m    738\u001b[0m \u001b[0;34m\u001b[0m\u001b[0m\n\u001b[1;32m    739\u001b[0m     \u001b[0;32mdef\u001b[0m \u001b[0m_repr_keys\u001b[0m\u001b[0;34m(\u001b[0m\u001b[0mself\u001b[0m\u001b[0;34m)\u001b[0m\u001b[0;34m:\u001b[0m\u001b[0;34m\u001b[0m\u001b[0;34m\u001b[0m\u001b[0m\n",
      "\u001b[0;32m/usr/local/lib/python3.8/dist-packages/ipykernel/comm/comm.py\u001b[0m in \u001b[0;36msend\u001b[0;34m(self, data, metadata, buffers)\u001b[0m\n\u001b[1;32m    120\u001b[0m     \u001b[0;32mdef\u001b[0m \u001b[0msend\u001b[0m\u001b[0;34m(\u001b[0m\u001b[0mself\u001b[0m\u001b[0;34m,\u001b[0m \u001b[0mdata\u001b[0m\u001b[0;34m=\u001b[0m\u001b[0;32mNone\u001b[0m\u001b[0;34m,\u001b[0m \u001b[0mmetadata\u001b[0m\u001b[0;34m=\u001b[0m\u001b[0;32mNone\u001b[0m\u001b[0;34m,\u001b[0m \u001b[0mbuffers\u001b[0m\u001b[0;34m=\u001b[0m\u001b[0;32mNone\u001b[0m\u001b[0;34m)\u001b[0m\u001b[0;34m:\u001b[0m\u001b[0;34m\u001b[0m\u001b[0;34m\u001b[0m\u001b[0m\n\u001b[1;32m    121\u001b[0m         \u001b[0;34m\"\"\"Send a message to the frontend-side version of this comm\"\"\"\u001b[0m\u001b[0;34m\u001b[0m\u001b[0;34m\u001b[0m\u001b[0m\n\u001b[0;32m--> 122\u001b[0;31m         self._publish_msg('comm_msg',\n\u001b[0m\u001b[1;32m    123\u001b[0m             \u001b[0mdata\u001b[0m\u001b[0;34m=\u001b[0m\u001b[0mdata\u001b[0m\u001b[0;34m,\u001b[0m \u001b[0mmetadata\u001b[0m\u001b[0;34m=\u001b[0m\u001b[0mmetadata\u001b[0m\u001b[0;34m,\u001b[0m \u001b[0mbuffers\u001b[0m\u001b[0;34m=\u001b[0m\u001b[0mbuffers\u001b[0m\u001b[0;34m,\u001b[0m\u001b[0;34m\u001b[0m\u001b[0;34m\u001b[0m\u001b[0m\n\u001b[1;32m    124\u001b[0m         )\n",
      "\u001b[0;32m/usr/local/lib/python3.8/dist-packages/ipykernel/comm/comm.py\u001b[0m in \u001b[0;36m_publish_msg\u001b[0;34m(self, msg_type, data, metadata, buffers, **keys)\u001b[0m\n\u001b[1;32m     64\u001b[0m         \u001b[0mmetadata\u001b[0m \u001b[0;34m=\u001b[0m \u001b[0;34m{\u001b[0m\u001b[0;34m}\u001b[0m \u001b[0;32mif\u001b[0m \u001b[0mmetadata\u001b[0m \u001b[0;32mis\u001b[0m \u001b[0;32mNone\u001b[0m \u001b[0;32melse\u001b[0m \u001b[0mmetadata\u001b[0m\u001b[0;34m\u001b[0m\u001b[0;34m\u001b[0m\u001b[0m\n\u001b[1;32m     65\u001b[0m         \u001b[0mcontent\u001b[0m \u001b[0;34m=\u001b[0m \u001b[0mjson_clean\u001b[0m\u001b[0;34m(\u001b[0m\u001b[0mdict\u001b[0m\u001b[0;34m(\u001b[0m\u001b[0mdata\u001b[0m\u001b[0;34m=\u001b[0m\u001b[0mdata\u001b[0m\u001b[0;34m,\u001b[0m \u001b[0mcomm_id\u001b[0m\u001b[0;34m=\u001b[0m\u001b[0mself\u001b[0m\u001b[0;34m.\u001b[0m\u001b[0mcomm_id\u001b[0m\u001b[0;34m,\u001b[0m \u001b[0;34m**\u001b[0m\u001b[0mkeys\u001b[0m\u001b[0;34m)\u001b[0m\u001b[0;34m)\u001b[0m\u001b[0;34m\u001b[0m\u001b[0;34m\u001b[0m\u001b[0m\n\u001b[0;32m---> 66\u001b[0;31m         self.kernel.session.send(self.kernel.iopub_socket, msg_type,\n\u001b[0m\u001b[1;32m     67\u001b[0m             \u001b[0mcontent\u001b[0m\u001b[0;34m,\u001b[0m\u001b[0;34m\u001b[0m\u001b[0;34m\u001b[0m\u001b[0m\n\u001b[1;32m     68\u001b[0m             \u001b[0mmetadata\u001b[0m\u001b[0;34m=\u001b[0m\u001b[0mjson_clean\u001b[0m\u001b[0;34m(\u001b[0m\u001b[0mmetadata\u001b[0m\u001b[0;34m)\u001b[0m\u001b[0;34m,\u001b[0m\u001b[0;34m\u001b[0m\u001b[0;34m\u001b[0m\u001b[0m\n",
      "\u001b[0;32m/usr/local/lib/python3.8/dist-packages/jupyter_client/session.py\u001b[0m in \u001b[0;36msend\u001b[0;34m(self, stream, msg_or_type, content, parent, ident, buffers, track, header, metadata)\u001b[0m\n\u001b[1;32m    740\u001b[0m         \u001b[0;32mif\u001b[0m \u001b[0mself\u001b[0m\u001b[0;34m.\u001b[0m\u001b[0madapt_version\u001b[0m\u001b[0;34m:\u001b[0m\u001b[0;34m\u001b[0m\u001b[0;34m\u001b[0m\u001b[0m\n\u001b[1;32m    741\u001b[0m             \u001b[0mmsg\u001b[0m \u001b[0;34m=\u001b[0m \u001b[0madapt\u001b[0m\u001b[0;34m(\u001b[0m\u001b[0mmsg\u001b[0m\u001b[0;34m,\u001b[0m \u001b[0mself\u001b[0m\u001b[0;34m.\u001b[0m\u001b[0madapt_version\u001b[0m\u001b[0;34m)\u001b[0m\u001b[0;34m\u001b[0m\u001b[0;34m\u001b[0m\u001b[0m\n\u001b[0;32m--> 742\u001b[0;31m         \u001b[0mto_send\u001b[0m \u001b[0;34m=\u001b[0m \u001b[0mself\u001b[0m\u001b[0;34m.\u001b[0m\u001b[0mserialize\u001b[0m\u001b[0;34m(\u001b[0m\u001b[0mmsg\u001b[0m\u001b[0;34m,\u001b[0m \u001b[0mident\u001b[0m\u001b[0;34m)\u001b[0m\u001b[0;34m\u001b[0m\u001b[0;34m\u001b[0m\u001b[0m\n\u001b[0m\u001b[1;32m    743\u001b[0m         \u001b[0mto_send\u001b[0m\u001b[0;34m.\u001b[0m\u001b[0mextend\u001b[0m\u001b[0;34m(\u001b[0m\u001b[0mbuffers\u001b[0m\u001b[0;34m)\u001b[0m\u001b[0;34m\u001b[0m\u001b[0;34m\u001b[0m\u001b[0m\n\u001b[1;32m    744\u001b[0m         \u001b[0mlongest\u001b[0m \u001b[0;34m=\u001b[0m \u001b[0mmax\u001b[0m\u001b[0;34m(\u001b[0m\u001b[0;34m[\u001b[0m \u001b[0mlen\u001b[0m\u001b[0;34m(\u001b[0m\u001b[0ms\u001b[0m\u001b[0;34m)\u001b[0m \u001b[0;32mfor\u001b[0m \u001b[0ms\u001b[0m \u001b[0;32min\u001b[0m \u001b[0mto_send\u001b[0m \u001b[0;34m]\u001b[0m\u001b[0;34m)\u001b[0m\u001b[0;34m\u001b[0m\u001b[0;34m\u001b[0m\u001b[0m\n",
      "\u001b[0;32m/usr/local/lib/python3.8/dist-packages/jupyter_client/session.py\u001b[0m in \u001b[0;36mserialize\u001b[0;34m(self, msg, ident)\u001b[0m\n\u001b[1;32m    628\u001b[0m             \u001b[0mcontent\u001b[0m \u001b[0;34m=\u001b[0m \u001b[0mself\u001b[0m\u001b[0;34m.\u001b[0m\u001b[0mnone\u001b[0m\u001b[0;34m\u001b[0m\u001b[0;34m\u001b[0m\u001b[0m\n\u001b[1;32m    629\u001b[0m         \u001b[0;32melif\u001b[0m \u001b[0misinstance\u001b[0m\u001b[0;34m(\u001b[0m\u001b[0mcontent\u001b[0m\u001b[0;34m,\u001b[0m \u001b[0mdict\u001b[0m\u001b[0;34m)\u001b[0m\u001b[0;34m:\u001b[0m\u001b[0;34m\u001b[0m\u001b[0;34m\u001b[0m\u001b[0m\n\u001b[0;32m--> 630\u001b[0;31m             \u001b[0mcontent\u001b[0m \u001b[0;34m=\u001b[0m \u001b[0mself\u001b[0m\u001b[0;34m.\u001b[0m\u001b[0mpack\u001b[0m\u001b[0;34m(\u001b[0m\u001b[0mcontent\u001b[0m\u001b[0;34m)\u001b[0m\u001b[0;34m\u001b[0m\u001b[0;34m\u001b[0m\u001b[0m\n\u001b[0m\u001b[1;32m    631\u001b[0m         \u001b[0;32melif\u001b[0m \u001b[0misinstance\u001b[0m\u001b[0;34m(\u001b[0m\u001b[0mcontent\u001b[0m\u001b[0;34m,\u001b[0m \u001b[0mbytes\u001b[0m\u001b[0;34m)\u001b[0m\u001b[0;34m:\u001b[0m\u001b[0;34m\u001b[0m\u001b[0;34m\u001b[0m\u001b[0m\n\u001b[1;32m    632\u001b[0m             \u001b[0;31m# content is already packed, as in a relayed message\u001b[0m\u001b[0;34m\u001b[0m\u001b[0;34m\u001b[0m\u001b[0;34m\u001b[0m\u001b[0m\n",
      "\u001b[0;32m/usr/local/lib/python3.8/dist-packages/jupyter_client/session.py\u001b[0m in \u001b[0;36m<lambda>\u001b[0;34m(obj)\u001b[0m\n\u001b[1;32m     80\u001b[0m \u001b[0;31m# allow unicode\u001b[0m\u001b[0;34m\u001b[0m\u001b[0;34m\u001b[0m\u001b[0;34m\u001b[0m\u001b[0m\n\u001b[1;32m     81\u001b[0m \u001b[0;31m# disallow nan, because it's not actually valid JSON\u001b[0m\u001b[0;34m\u001b[0m\u001b[0;34m\u001b[0m\u001b[0;34m\u001b[0m\u001b[0m\n\u001b[0;32m---> 82\u001b[0;31m json_packer = lambda obj: jsonapi.dumps(obj, default=date_default,\n\u001b[0m\u001b[1;32m     83\u001b[0m     \u001b[0mensure_ascii\u001b[0m\u001b[0;34m=\u001b[0m\u001b[0;32mFalse\u001b[0m\u001b[0;34m,\u001b[0m \u001b[0mallow_nan\u001b[0m\u001b[0;34m=\u001b[0m\u001b[0;32mFalse\u001b[0m\u001b[0;34m,\u001b[0m\u001b[0;34m\u001b[0m\u001b[0;34m\u001b[0m\u001b[0m\n\u001b[1;32m     84\u001b[0m )\n",
      "\u001b[0;32m/usr/local/lib/python3.8/dist-packages/zmq/utils/jsonapi.py\u001b[0m in \u001b[0;36mdumps\u001b[0;34m(o, **kwargs)\u001b[0m\n\u001b[1;32m     39\u001b[0m         \u001b[0mkwargs\u001b[0m\u001b[0;34m[\u001b[0m\u001b[0;34m'separators'\u001b[0m\u001b[0;34m]\u001b[0m \u001b[0;34m=\u001b[0m \u001b[0;34m(\u001b[0m\u001b[0;34m','\u001b[0m\u001b[0;34m,\u001b[0m \u001b[0;34m':'\u001b[0m\u001b[0;34m)\u001b[0m\u001b[0;34m\u001b[0m\u001b[0;34m\u001b[0m\u001b[0m\n\u001b[1;32m     40\u001b[0m \u001b[0;34m\u001b[0m\u001b[0m\n\u001b[0;32m---> 41\u001b[0;31m     \u001b[0ms\u001b[0m \u001b[0;34m=\u001b[0m \u001b[0mjsonmod\u001b[0m\u001b[0;34m.\u001b[0m\u001b[0mdumps\u001b[0m\u001b[0;34m(\u001b[0m\u001b[0mo\u001b[0m\u001b[0;34m,\u001b[0m \u001b[0;34m**\u001b[0m\u001b[0mkwargs\u001b[0m\u001b[0;34m)\u001b[0m\u001b[0;34m\u001b[0m\u001b[0;34m\u001b[0m\u001b[0m\n\u001b[0m\u001b[1;32m     42\u001b[0m \u001b[0;34m\u001b[0m\u001b[0m\n\u001b[1;32m     43\u001b[0m     \u001b[0;32mif\u001b[0m \u001b[0misinstance\u001b[0m\u001b[0;34m(\u001b[0m\u001b[0ms\u001b[0m\u001b[0;34m,\u001b[0m \u001b[0municode\u001b[0m\u001b[0;34m)\u001b[0m\u001b[0;34m:\u001b[0m\u001b[0;34m\u001b[0m\u001b[0;34m\u001b[0m\u001b[0m\n",
      "\u001b[0;32m/usr/lib/python3.8/json/__init__.py\u001b[0m in \u001b[0;36mdumps\u001b[0;34m(obj, skipkeys, ensure_ascii, check_circular, allow_nan, cls, indent, separators, default, sort_keys, **kw)\u001b[0m\n\u001b[1;32m    232\u001b[0m     \u001b[0;32mif\u001b[0m \u001b[0mcls\u001b[0m \u001b[0;32mis\u001b[0m \u001b[0;32mNone\u001b[0m\u001b[0;34m:\u001b[0m\u001b[0;34m\u001b[0m\u001b[0;34m\u001b[0m\u001b[0m\n\u001b[1;32m    233\u001b[0m         \u001b[0mcls\u001b[0m \u001b[0;34m=\u001b[0m \u001b[0mJSONEncoder\u001b[0m\u001b[0;34m\u001b[0m\u001b[0;34m\u001b[0m\u001b[0m\n\u001b[0;32m--> 234\u001b[0;31m     return cls(\n\u001b[0m\u001b[1;32m    235\u001b[0m         \u001b[0mskipkeys\u001b[0m\u001b[0;34m=\u001b[0m\u001b[0mskipkeys\u001b[0m\u001b[0;34m,\u001b[0m \u001b[0mensure_ascii\u001b[0m\u001b[0;34m=\u001b[0m\u001b[0mensure_ascii\u001b[0m\u001b[0;34m,\u001b[0m\u001b[0;34m\u001b[0m\u001b[0;34m\u001b[0m\u001b[0m\n\u001b[1;32m    236\u001b[0m         \u001b[0mcheck_circular\u001b[0m\u001b[0;34m=\u001b[0m\u001b[0mcheck_circular\u001b[0m\u001b[0;34m,\u001b[0m \u001b[0mallow_nan\u001b[0m\u001b[0;34m=\u001b[0m\u001b[0mallow_nan\u001b[0m\u001b[0;34m,\u001b[0m \u001b[0mindent\u001b[0m\u001b[0;34m=\u001b[0m\u001b[0mindent\u001b[0m\u001b[0;34m,\u001b[0m\u001b[0;34m\u001b[0m\u001b[0;34m\u001b[0m\u001b[0m\n",
      "\u001b[0;32m/usr/lib/python3.8/json/encoder.py\u001b[0m in \u001b[0;36m__init__\u001b[0;34m(self, skipkeys, ensure_ascii, check_circular, allow_nan, sort_keys, indent, separators, default)\u001b[0m\n\u001b[1;32m    102\u001b[0m     \u001b[0mitem_separator\u001b[0m \u001b[0;34m=\u001b[0m \u001b[0;34m', '\u001b[0m\u001b[0;34m\u001b[0m\u001b[0;34m\u001b[0m\u001b[0m\n\u001b[1;32m    103\u001b[0m     \u001b[0mkey_separator\u001b[0m \u001b[0;34m=\u001b[0m \u001b[0;34m': '\u001b[0m\u001b[0;34m\u001b[0m\u001b[0;34m\u001b[0m\u001b[0m\n\u001b[0;32m--> 104\u001b[0;31m     def __init__(self, *, skipkeys=False, ensure_ascii=True,\n\u001b[0m\u001b[1;32m    105\u001b[0m             \u001b[0mcheck_circular\u001b[0m\u001b[0;34m=\u001b[0m\u001b[0;32mTrue\u001b[0m\u001b[0;34m,\u001b[0m \u001b[0mallow_nan\u001b[0m\u001b[0;34m=\u001b[0m\u001b[0;32mTrue\u001b[0m\u001b[0;34m,\u001b[0m \u001b[0msort_keys\u001b[0m\u001b[0;34m=\u001b[0m\u001b[0;32mFalse\u001b[0m\u001b[0;34m,\u001b[0m\u001b[0;34m\u001b[0m\u001b[0;34m\u001b[0m\u001b[0m\n\u001b[1;32m    106\u001b[0m             indent=None, separators=None, default=None):\n",
      "\u001b[0;31mKeyboardInterrupt\u001b[0m: "
     ]
    }
   ],
   "source": [
    "num_samples = 0\n",
    "# fig, ax = plt.subplots(1,1)\n",
    "\n",
    "im_queue = [0 for i in range(28*28)]\n",
    "data_queue = torch.zeros((1,1,28*28)).cuda()\n",
    "curr_im = np.array(im_queue, dtype=np.uint8).reshape((28,28))\n",
    "_, encoded_image = cv2.imencode('.png', curr_im)\n",
    "im_bytes = encoded_image.tobytes()\n",
    "im_disp = widgets.Image(value=im_bytes, width=200, height=200)\n",
    "\n",
    "true_val = widgets.Label(value=f'True Label: N/A')\n",
    "pred_val = widgets.Label(value=f'Predicted Label: N/A')\n",
    "label_disp = widgets.VBox((true_val, pred_val))\n",
    "\n",
    "display.display(im_disp)\n",
    "display.display(label_disp)\n",
    "\n",
    "for data, target in test_loader:\n",
    "    im = data.squeeze().cpu().detach().numpy()\n",
    "    rows, cols = im.shape\n",
    "    im = (im - im.min())\n",
    "    im = (im/im.max() * 255).astype('uint8')\n",
    "    curr_im = np.ones(im.shape, dtype=np.uint8)*255\n",
    "    \n",
    "    true_val.value = f'True Label: {target.item()}'\n",
    "\n",
    "    if torch.cuda.is_available():\n",
    "        data, target = data.cuda(), target.cuda()\n",
    "    \n",
    "    data = data.view(data.size()[0], 1, -1)\n",
    "    \n",
    "    for i in range(data.size()[2]):\n",
    "        num_samples += 1\n",
    "        curr_row = i // cols\n",
    "        curr_col = i % cols\n",
    "        \n",
    "        im_queue.append(im[curr_row,curr_col])\n",
    "        im_queue = im_queue[1:]\n",
    "        \n",
    "        data_queue = data_queue.roll(-1, 2)\n",
    "        data_queue[:,:,-1] = data[:,:,i]\n",
    "        \n",
    "        curr_im = np.array(im_queue, dtype=np.uint8).reshape((28,28))\n",
    "        _, encoded_image = cv2.imencode('.png', curr_im)\n",
    "        im_bytes = encoded_image.tobytes()\n",
    "        im_disp.value = im_bytes\n",
    "        \n",
    "        ort_inputs = {ort_session.get_inputs()[0].name: to_numpy(data_queue)}\n",
    "        ort_outs = ort_session.run(None, ort_inputs)\n",
    "        # pred = ort_outs[0].argmax(axis=1)[0]\n",
    "        pred = ort_outs[0]\n",
    "        # output = model(data_queue)\n",
    "        # pred = output.max(1, keepdim=True)[1] #max returns values and indices\n",
    "        \n",
    "        if num_samples > model.receptive_field:\n",
    "            pred_val.value = f'Predicted Label: {pred.item()}'\n",
    "    \n",
    "        time.sleep(0.001)\n",
    "    \n",
    "    \n",
    "    for i in np.zeros(np.random.randint(50, 200)):\n",
    "        im_queue.append(0)\n",
    "        im_queue = im_queue[1:]\n",
    "        data_queue = data_queue.roll(-1, 2)\n",
    "        data_queue[:,:,-1] = i\n",
    "        \n",
    "        curr_im = np.array(im_queue, dtype=np.uint8).reshape((28,28)) \n",
    "        _, encoded_image = cv2.imencode('.png', curr_im)\n",
    "        im_bytes = encoded_image.tobytes()\n",
    "        im_disp.value = im_bytes\n",
    "        true_val.value = f'True Label: N/A'\n",
    "        num_samples += 1\n",
    "\n",
    "        ort_inputs = {ort_session.get_inputs()[0].name: to_numpy(data_queue)}\n",
    "        ort_outs = ort_session.run(None, ort_inputs)\n",
    "        # pred = ort_outs[0].argmax(axis=1)[0]\n",
    "        pred = ort_outs[0]\n",
    "        \n",
    "        if num_samples > model.receptive_field:\n",
    "            pred_val.value = f'Predicted Label: {pred.item()}'\n",
    "        "
   ]
  },
  {
   "cell_type": "code",
   "execution_count": 11,
   "id": "2733bc8a",
   "metadata": {},
   "outputs": [],
   "source": [
    "import tensorrt as trt"
   ]
  },
  {
   "cell_type": "code",
   "execution_count": 13,
   "id": "1a523685",
   "metadata": {},
   "outputs": [
    {
     "ename": "NameError",
     "evalue": "name 'TRT_LOGGER' is not defined",
     "output_type": "error",
     "traceback": [
      "\u001b[0;31m---------------------------------------------------------------------------\u001b[0m",
      "\u001b[0;31mNameError\u001b[0m                                 Traceback (most recent call last)",
      "\u001b[0;32m<ipython-input-13-27945402d0c3>\u001b[0m in \u001b[0;36m<module>\u001b[0;34m\u001b[0m\n\u001b[1;32m      1\u001b[0m \u001b[0monnx_model_path\u001b[0m \u001b[0;34m=\u001b[0m \u001b[0;34mf'{model_path}/{model_name}.onnx'\u001b[0m\u001b[0;34m\u001b[0m\u001b[0;34m\u001b[0m\u001b[0m\n\u001b[1;32m      2\u001b[0m \u001b[0mEXPLICIT_BATCH\u001b[0m \u001b[0;34m=\u001b[0m \u001b[0;36m1\u001b[0m \u001b[0;34m<<\u001b[0m \u001b[0;34m(\u001b[0m\u001b[0mint\u001b[0m\u001b[0;34m)\u001b[0m\u001b[0;34m(\u001b[0m\u001b[0mtrt\u001b[0m\u001b[0;34m.\u001b[0m\u001b[0mNetworkDefinitionCreationFlag\u001b[0m\u001b[0;34m.\u001b[0m\u001b[0mEXPLICIT_BATCH\u001b[0m\u001b[0;34m)\u001b[0m\u001b[0;34m\u001b[0m\u001b[0;34m\u001b[0m\u001b[0m\n\u001b[0;32m----> 3\u001b[0;31m \u001b[0;32mwith\u001b[0m \u001b[0mtrt\u001b[0m\u001b[0;34m.\u001b[0m\u001b[0mBuilder\u001b[0m\u001b[0;34m(\u001b[0m\u001b[0mTRT_LOGGER\u001b[0m\u001b[0;34m)\u001b[0m \u001b[0;32mas\u001b[0m \u001b[0mbuilder\u001b[0m\u001b[0;34m,\u001b[0m \u001b[0mbuilder\u001b[0m\u001b[0;34m.\u001b[0m\u001b[0mcreate_network\u001b[0m\u001b[0;34m(\u001b[0m\u001b[0mEXPLICIT_BATCH\u001b[0m\u001b[0;34m)\u001b[0m \u001b[0;32mas\u001b[0m \u001b[0mnetwork\u001b[0m\u001b[0;34m,\u001b[0m \u001b[0mtrt\u001b[0m\u001b[0;34m.\u001b[0m\u001b[0mOnnxParser\u001b[0m\u001b[0;34m(\u001b[0m\u001b[0mnetwork\u001b[0m\u001b[0;34m,\u001b[0m \u001b[0mTRT_LOGGER\u001b[0m\u001b[0;34m)\u001b[0m \u001b[0;32mas\u001b[0m \u001b[0mparser\u001b[0m\u001b[0;34m:\u001b[0m\u001b[0;34m\u001b[0m\u001b[0;34m\u001b[0m\u001b[0m\n\u001b[0m\u001b[1;32m      4\u001b[0m     \u001b[0;32mwith\u001b[0m \u001b[0mopen\u001b[0m\u001b[0;34m(\u001b[0m\u001b[0monnx_model_path\u001b[0m\u001b[0;34m,\u001b[0m \u001b[0;34m'rb'\u001b[0m\u001b[0;34m)\u001b[0m \u001b[0;32mas\u001b[0m \u001b[0mmodel\u001b[0m\u001b[0;34m:\u001b[0m\u001b[0;34m\u001b[0m\u001b[0;34m\u001b[0m\u001b[0m\n\u001b[1;32m      5\u001b[0m         \u001b[0;32mif\u001b[0m \u001b[0;32mnot\u001b[0m \u001b[0mparser\u001b[0m\u001b[0;34m.\u001b[0m\u001b[0mparse\u001b[0m\u001b[0;34m(\u001b[0m\u001b[0mmodel\u001b[0m\u001b[0;34m.\u001b[0m\u001b[0mread\u001b[0m\u001b[0;34m(\u001b[0m\u001b[0;34m)\u001b[0m\u001b[0;34m)\u001b[0m\u001b[0;34m:\u001b[0m\u001b[0;34m\u001b[0m\u001b[0;34m\u001b[0m\u001b[0m\n",
      "\u001b[0;31mNameError\u001b[0m: name 'TRT_LOGGER' is not defined"
     ]
    }
   ],
   "source": [
    "onnx_model_path = f'{model_path}/{model_name}.onnx'\n",
    "EXPLICIT_BATCH = 1 << (int)(trt.NetworkDefinitionCreationFlag.EXPLICIT_BATCH)\n",
    "with trt.Builder(TRT_LOGGER) as builder, builder.create_network(EXPLICIT_BATCH) as network, trt.OnnxParser(network, TRT_LOGGER) as parser:\n",
    "    with open(onnx_model_path, 'rb') as model:\n",
    "        if not parser.parse(model.read()):\n",
    "            for error in range(parser.num_errors):\n",
    "                print(parser.get_error(error))"
   ]
  },
  {
   "cell_type": "code",
   "execution_count": 75,
   "id": "4ff5a6b8",
   "metadata": {},
   "outputs": [],
   "source": [
    "batch_size = 16\n",
    "data_path = Path('./TCN/mnist_pixel/data/mnist')\n",
    "_, test_loader = data_generator(data_path, batch_size)"
   ]
  },
  {
   "cell_type": "code",
   "execution_count": 76,
   "id": "61fc9b95",
   "metadata": {},
   "outputs": [],
   "source": [
    "data, target = next(iter(test_loader))"
   ]
  },
  {
   "cell_type": "code",
   "execution_count": 77,
   "id": "fc262eea",
   "metadata": {},
   "outputs": [
    {
     "data": {
      "text/plain": [
       "torch.Size([16, 1, 784])"
      ]
     },
     "execution_count": 77,
     "metadata": {},
     "output_type": "execute_result"
    }
   ],
   "source": [
    "data = data.view(-1, 1, 784)\n",
    "data.size()"
   ]
  },
  {
   "cell_type": "code",
   "execution_count": 78,
   "id": "b5091d35",
   "metadata": {},
   "outputs": [],
   "source": [
    "aug_data = augment_data(data, 200, 25)"
   ]
  },
  {
   "cell_type": "code",
   "execution_count": 79,
   "id": "769e66cb",
   "metadata": {},
   "outputs": [],
   "source": [
    "aug_data = (aug_data - aug_data.min()).numpy()\n",
    "aug_data = (aug_data/aug_data.max() * 255).astype('uint8')"
   ]
  },
  {
   "cell_type": "code",
   "execution_count": 80,
   "id": "efbfc850",
   "metadata": {},
   "outputs": [],
   "source": [
    "aug_imgs = np.array(aug_data, dtype=np.uint8).reshape((batch_size, 1, 28,28))"
   ]
  },
  {
   "cell_type": "code",
   "execution_count": 81,
   "id": "fba903f5",
   "metadata": {},
   "outputs": [
    {
     "data": {
      "application/vnd.jupyter.widget-view+json": {
       "model_id": "25bfc846d77a4b73b6df9fa9f5ddfec5",
       "version_major": 2,
       "version_minor": 0
      },
      "text/plain": [
       "Image(value=b'\\x89PNG\\r\\n\\x1a\\n\\x00\\x00\\x00\\rIHDR\\x00\\x00\\x00\\x1c\\x00\\x00\\x00\\x1c\\x08\\x00\\x00\\x00\\x00Wf\\x80H\\x…"
      ]
     },
     "metadata": {},
     "output_type": "display_data"
    },
    {
     "data": {
      "application/vnd.jupyter.widget-view+json": {
       "model_id": "7021b4db51744f7d86398d4af8a417a2",
       "version_major": 2,
       "version_minor": 0
      },
      "text/plain": [
       "Image(value=b'\\x89PNG\\r\\n\\x1a\\n\\x00\\x00\\x00\\rIHDR\\x00\\x00\\x00\\x1c\\x00\\x00\\x00\\x1c\\x08\\x00\\x00\\x00\\x00Wf\\x80H\\x…"
      ]
     },
     "metadata": {},
     "output_type": "display_data"
    },
    {
     "data": {
      "application/vnd.jupyter.widget-view+json": {
       "model_id": "ee3837a1fd1c4de5aba4c471699be88a",
       "version_major": 2,
       "version_minor": 0
      },
      "text/plain": [
       "Image(value=b'\\x89PNG\\r\\n\\x1a\\n\\x00\\x00\\x00\\rIHDR\\x00\\x00\\x00\\x1c\\x00\\x00\\x00\\x1c\\x08\\x00\\x00\\x00\\x00Wf\\x80H\\x…"
      ]
     },
     "metadata": {},
     "output_type": "display_data"
    },
    {
     "data": {
      "application/vnd.jupyter.widget-view+json": {
       "model_id": "e4359c1942044bfb8e5ace0cb5282a57",
       "version_major": 2,
       "version_minor": 0
      },
      "text/plain": [
       "Image(value=b'\\x89PNG\\r\\n\\x1a\\n\\x00\\x00\\x00\\rIHDR\\x00\\x00\\x00\\x1c\\x00\\x00\\x00\\x1c\\x08\\x00\\x00\\x00\\x00Wf\\x80H\\x…"
      ]
     },
     "metadata": {},
     "output_type": "display_data"
    },
    {
     "data": {
      "application/vnd.jupyter.widget-view+json": {
       "model_id": "0d7e1be5c94f4c86828e158f2288058d",
       "version_major": 2,
       "version_minor": 0
      },
      "text/plain": [
       "Image(value=b'\\x89PNG\\r\\n\\x1a\\n\\x00\\x00\\x00\\rIHDR\\x00\\x00\\x00\\x1c\\x00\\x00\\x00\\x1c\\x08\\x00\\x00\\x00\\x00Wf\\x80H\\x…"
      ]
     },
     "metadata": {},
     "output_type": "display_data"
    },
    {
     "data": {
      "application/vnd.jupyter.widget-view+json": {
       "model_id": "638452a05c2149499f6b0ee503c801b4",
       "version_major": 2,
       "version_minor": 0
      },
      "text/plain": [
       "Image(value=b'\\x89PNG\\r\\n\\x1a\\n\\x00\\x00\\x00\\rIHDR\\x00\\x00\\x00\\x1c\\x00\\x00\\x00\\x1c\\x08\\x00\\x00\\x00\\x00Wf\\x80H\\x…"
      ]
     },
     "metadata": {},
     "output_type": "display_data"
    },
    {
     "data": {
      "application/vnd.jupyter.widget-view+json": {
       "model_id": "e86a3b2c7ed24b939c88b07730891714",
       "version_major": 2,
       "version_minor": 0
      },
      "text/plain": [
       "Image(value=b\"\\x89PNG\\r\\n\\x1a\\n\\x00\\x00\\x00\\rIHDR\\x00\\x00\\x00\\x1c\\x00\\x00\\x00\\x1c\\x08\\x00\\x00\\x00\\x00Wf\\x80H\\x…"
      ]
     },
     "metadata": {},
     "output_type": "display_data"
    },
    {
     "data": {
      "application/vnd.jupyter.widget-view+json": {
       "model_id": "8f37cf74435a4124877b3e8f2cbf420e",
       "version_major": 2,
       "version_minor": 0
      },
      "text/plain": [
       "Image(value=b'\\x89PNG\\r\\n\\x1a\\n\\x00\\x00\\x00\\rIHDR\\x00\\x00\\x00\\x1c\\x00\\x00\\x00\\x1c\\x08\\x00\\x00\\x00\\x00Wf\\x80H\\x…"
      ]
     },
     "metadata": {},
     "output_type": "display_data"
    },
    {
     "data": {
      "application/vnd.jupyter.widget-view+json": {
       "model_id": "c074d2cf22c241c8bfb7704daf29caa2",
       "version_major": 2,
       "version_minor": 0
      },
      "text/plain": [
       "Image(value=b'\\x89PNG\\r\\n\\x1a\\n\\x00\\x00\\x00\\rIHDR\\x00\\x00\\x00\\x1c\\x00\\x00\\x00\\x1c\\x08\\x00\\x00\\x00\\x00Wf\\x80H\\x…"
      ]
     },
     "metadata": {},
     "output_type": "display_data"
    },
    {
     "data": {
      "application/vnd.jupyter.widget-view+json": {
       "model_id": "961f9191b53b4a3e857bc8318c185ffb",
       "version_major": 2,
       "version_minor": 0
      },
      "text/plain": [
       "Image(value=b'\\x89PNG\\r\\n\\x1a\\n\\x00\\x00\\x00\\rIHDR\\x00\\x00\\x00\\x1c\\x00\\x00\\x00\\x1c\\x08\\x00\\x00\\x00\\x00Wf\\x80H\\x…"
      ]
     },
     "metadata": {},
     "output_type": "display_data"
    },
    {
     "data": {
      "application/vnd.jupyter.widget-view+json": {
       "model_id": "3c3d91b8857b464184d169d2ae0df22d",
       "version_major": 2,
       "version_minor": 0
      },
      "text/plain": [
       "Image(value=b'\\x89PNG\\r\\n\\x1a\\n\\x00\\x00\\x00\\rIHDR\\x00\\x00\\x00\\x1c\\x00\\x00\\x00\\x1c\\x08\\x00\\x00\\x00\\x00Wf\\x80H\\x…"
      ]
     },
     "metadata": {},
     "output_type": "display_data"
    },
    {
     "data": {
      "application/vnd.jupyter.widget-view+json": {
       "model_id": "ccd0b0ffe7594b65a5d6a368c90f1146",
       "version_major": 2,
       "version_minor": 0
      },
      "text/plain": [
       "Image(value=b'\\x89PNG\\r\\n\\x1a\\n\\x00\\x00\\x00\\rIHDR\\x00\\x00\\x00\\x1c\\x00\\x00\\x00\\x1c\\x08\\x00\\x00\\x00\\x00Wf\\x80H\\x…"
      ]
     },
     "metadata": {},
     "output_type": "display_data"
    },
    {
     "data": {
      "application/vnd.jupyter.widget-view+json": {
       "model_id": "46f90a9877ab4222967904e19c90c61a",
       "version_major": 2,
       "version_minor": 0
      },
      "text/plain": [
       "Image(value=b\"\\x89PNG\\r\\n\\x1a\\n\\x00\\x00\\x00\\rIHDR\\x00\\x00\\x00\\x1c\\x00\\x00\\x00\\x1c\\x08\\x00\\x00\\x00\\x00Wf\\x80H\\x…"
      ]
     },
     "metadata": {},
     "output_type": "display_data"
    },
    {
     "data": {
      "application/vnd.jupyter.widget-view+json": {
       "model_id": "2517bd5213aa40309ab7ec33b70e0168",
       "version_major": 2,
       "version_minor": 0
      },
      "text/plain": [
       "Image(value=b'\\x89PNG\\r\\n\\x1a\\n\\x00\\x00\\x00\\rIHDR\\x00\\x00\\x00\\x1c\\x00\\x00\\x00\\x1c\\x08\\x00\\x00\\x00\\x00Wf\\x80H\\x…"
      ]
     },
     "metadata": {},
     "output_type": "display_data"
    },
    {
     "data": {
      "application/vnd.jupyter.widget-view+json": {
       "model_id": "470b652ac0df4819a5e971b967b7dd79",
       "version_major": 2,
       "version_minor": 0
      },
      "text/plain": [
       "Image(value=b'\\x89PNG\\r\\n\\x1a\\n\\x00\\x00\\x00\\rIHDR\\x00\\x00\\x00\\x1c\\x00\\x00\\x00\\x1c\\x08\\x00\\x00\\x00\\x00Wf\\x80H\\x…"
      ]
     },
     "metadata": {},
     "output_type": "display_data"
    },
    {
     "data": {
      "application/vnd.jupyter.widget-view+json": {
       "model_id": "1cfba1fd28ba4a4d94e25a1cd4e931aa",
       "version_major": 2,
       "version_minor": 0
      },
      "text/plain": [
       "Image(value=b'\\x89PNG\\r\\n\\x1a\\n\\x00\\x00\\x00\\rIHDR\\x00\\x00\\x00\\x1c\\x00\\x00\\x00\\x1c\\x08\\x00\\x00\\x00\\x00Wf\\x80H\\x…"
      ]
     },
     "metadata": {},
     "output_type": "display_data"
    }
   ],
   "source": [
    "im_bytes = []\n",
    "im_disp = []\n",
    "for i in range(batch_size):\n",
    "    curr_im = aug_imgs[i,0,:,:].squeeze()\n",
    "    _, encoded_image = cv2.imencode('.png', curr_im)\n",
    "    im_bytes.append(encoded_image.tobytes())\n",
    "    im_disp.append(widgets.Image(value=im_bytes[i], width=200, height=200))\n",
    "    display.display(im_disp[i])"
   ]
  },
  {
   "cell_type": "code",
   "execution_count": null,
   "id": "82a26bcd",
   "metadata": {},
   "outputs": [],
   "source": []
  }
 ],
 "metadata": {
  "kernelspec": {
   "display_name": "Python 3",
   "language": "python",
   "name": "python3"
  },
  "language_info": {
   "codemirror_mode": {
    "name": "ipython",
    "version": 3
   },
   "file_extension": ".py",
   "mimetype": "text/x-python",
   "name": "python",
   "nbconvert_exporter": "python",
   "pygments_lexer": "ipython3",
   "version": "3.8.5"
  }
 },
 "nbformat": 4,
 "nbformat_minor": 5
}
