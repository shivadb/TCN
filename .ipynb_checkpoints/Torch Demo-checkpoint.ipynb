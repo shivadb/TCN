{
 "cells": [
  {
   "cell_type": "code",
   "execution_count": 1,
   "id": "3c47dab4",
   "metadata": {},
   "outputs": [],
   "source": [
    "%matplotlib inline\n",
    "import torch\n",
    "import torch.nn.functional as F\n",
    "import os, sys\n",
    "from pathlib import Path\n",
    "from TCN.mnist_pixel.utils import data_generator\n",
    "from TCN.mnist_pixel.model import TCN\n",
    "import numpy as np\n",
    "import matplotlib.pyplot as plt\n",
    "import pickle\n",
    "from IPython import display\n",
    "import ipywidgets as widgets\n",
    "from PIL import Image\n",
    "import io\n",
    "import cv2\n",
    "import time"
   ]
  },
  {
   "cell_type": "code",
   "execution_count": 2,
   "id": "b32dc7c7",
   "metadata": {},
   "outputs": [
    {
     "name": "stdout",
     "output_type": "stream",
     "text": [
      "Namespace(batch_size=64, clip=-1, cuda=True, dropout=0.05, epochs=50, ksize=7, levels=6, log_interval=100, lr=0.002, modelname='aug_k7l6', nhid=25, optim='Adam', permute=False, savedir=PosixPath('models'), savemodel=True, seed=-1, seq_augment=True)\n",
      "TCN/mnist_pixel/models/aug_k7l6.pt\n"
     ]
    },
    {
     "name": "stderr",
     "output_type": "stream",
     "text": [
      "/usr/local/lib/python3.8/dist-packages/torchvision/datasets/mnist.py:498: UserWarning: The given NumPy array is not writeable, and PyTorch does not support non-writeable tensors. This means you can write to the underlying (supposedly non-writeable) NumPy array using the tensor. You may want to copy the array to protect its data or make it writeable before converting it to a tensor. This type of warning will be suppressed for the rest of this program. (Triggered internally at  /pytorch/torch/csrc/utils/tensor_numpy.cpp:180.)\n",
      "  return torch.from_numpy(parsed.astype(m[2], copy=False)).view(*s)\n"
     ]
    },
    {
     "ename": "RuntimeError",
     "evalue": "Error(s) in loading state_dict for TCN:\n\tUnexpected key(s) in state_dict: \"tcn.network.0.net.0.bias\", \"tcn.network.0.net.0.weight_g\", \"tcn.network.0.net.0.weight_v\", \"tcn.network.0.net.4.bias\", \"tcn.network.0.net.4.weight_g\", \"tcn.network.0.net.4.weight_v\", \"tcn.network.1.net.0.bias\", \"tcn.network.1.net.0.weight_g\", \"tcn.network.1.net.0.weight_v\", \"tcn.network.1.net.4.bias\", \"tcn.network.1.net.4.weight_g\", \"tcn.network.1.net.4.weight_v\", \"tcn.network.2.net.0.bias\", \"tcn.network.2.net.0.weight_g\", \"tcn.network.2.net.0.weight_v\", \"tcn.network.2.net.4.bias\", \"tcn.network.2.net.4.weight_g\", \"tcn.network.2.net.4.weight_v\", \"tcn.network.3.net.0.bias\", \"tcn.network.3.net.0.weight_g\", \"tcn.network.3.net.0.weight_v\", \"tcn.network.3.net.4.bias\", \"tcn.network.3.net.4.weight_g\", \"tcn.network.3.net.4.weight_v\", \"tcn.network.4.net.0.bias\", \"tcn.network.4.net.0.weight_g\", \"tcn.network.4.net.0.weight_v\", \"tcn.network.4.net.4.bias\", \"tcn.network.4.net.4.weight_g\", \"tcn.network.4.net.4.weight_v\", \"tcn.network.5.net.0.bias\", \"tcn.network.5.net.0.weight_g\", \"tcn.network.5.net.0.weight_v\", \"tcn.network.5.net.4.bias\", \"tcn.network.5.net.4.weight_g\", \"tcn.network.5.net.4.weight_v\". ",
     "output_type": "error",
     "traceback": [
      "\u001b[0;31m---------------------------------------------------------------------------\u001b[0m",
      "\u001b[0;31mRuntimeError\u001b[0m                              Traceback (most recent call last)",
      "\u001b[0;32m<ipython-input-2-f0b2b64dea27>\u001b[0m in \u001b[0;36m<module>\u001b[0;34m\u001b[0m\n\u001b[1;32m     14\u001b[0m \u001b[0m_\u001b[0m\u001b[0;34m,\u001b[0m \u001b[0mtest_loader\u001b[0m \u001b[0;34m=\u001b[0m \u001b[0mdata_generator\u001b[0m\u001b[0;34m(\u001b[0m\u001b[0mdata_path\u001b[0m\u001b[0;34m,\u001b[0m \u001b[0mbatch_size\u001b[0m\u001b[0;34m)\u001b[0m\u001b[0;34m\u001b[0m\u001b[0;34m\u001b[0m\u001b[0m\n\u001b[1;32m     15\u001b[0m \u001b[0mmodel\u001b[0m \u001b[0;34m=\u001b[0m \u001b[0mTCN\u001b[0m\u001b[0;34m(\u001b[0m\u001b[0min_channels\u001b[0m\u001b[0;34m,\u001b[0m \u001b[0mn_classes\u001b[0m\u001b[0;34m,\u001b[0m \u001b[0mchannel_sizes\u001b[0m\u001b[0;34m,\u001b[0m \u001b[0mkernel_size\u001b[0m\u001b[0;34m=\u001b[0m\u001b[0margs\u001b[0m\u001b[0;34m.\u001b[0m\u001b[0mksize\u001b[0m\u001b[0;34m,\u001b[0m \u001b[0mtrt\u001b[0m\u001b[0;34m=\u001b[0m\u001b[0;32mTrue\u001b[0m\u001b[0;34m)\u001b[0m\u001b[0;34m\u001b[0m\u001b[0;34m\u001b[0m\u001b[0m\n\u001b[0;32m---> 16\u001b[0;31m \u001b[0mmodel\u001b[0m\u001b[0;34m.\u001b[0m\u001b[0mload_state_dict\u001b[0m\u001b[0;34m(\u001b[0m\u001b[0mtorch\u001b[0m\u001b[0;34m.\u001b[0m\u001b[0mload\u001b[0m\u001b[0;34m(\u001b[0m\u001b[0mmodel_path\u001b[0m \u001b[0;34m/\u001b[0m \u001b[0;34m(\u001b[0m\u001b[0mmodel_name\u001b[0m\u001b[0;34m+\u001b[0m\u001b[0;34m'.pt'\u001b[0m\u001b[0;34m)\u001b[0m\u001b[0;34m)\u001b[0m\u001b[0;34m)\u001b[0m\u001b[0;34m\u001b[0m\u001b[0;34m\u001b[0m\u001b[0m\n\u001b[0m\u001b[1;32m     17\u001b[0m \u001b[0mmodel\u001b[0m\u001b[0;34m.\u001b[0m\u001b[0meval\u001b[0m\u001b[0;34m(\u001b[0m\u001b[0;34m)\u001b[0m\u001b[0;34m\u001b[0m\u001b[0;34m\u001b[0m\u001b[0m\n\u001b[1;32m     18\u001b[0m \u001b[0;34m\u001b[0m\u001b[0m\n",
      "\u001b[0;32m/usr/local/lib/python3.8/dist-packages/torch/nn/modules/module.py\u001b[0m in \u001b[0;36mload_state_dict\u001b[0;34m(self, state_dict, strict)\u001b[0m\n\u001b[1;32m   1404\u001b[0m \u001b[0;34m\u001b[0m\u001b[0m\n\u001b[1;32m   1405\u001b[0m         \u001b[0;32mif\u001b[0m \u001b[0mlen\u001b[0m\u001b[0;34m(\u001b[0m\u001b[0merror_msgs\u001b[0m\u001b[0;34m)\u001b[0m \u001b[0;34m>\u001b[0m \u001b[0;36m0\u001b[0m\u001b[0;34m:\u001b[0m\u001b[0;34m\u001b[0m\u001b[0;34m\u001b[0m\u001b[0m\n\u001b[0;32m-> 1406\u001b[0;31m             raise RuntimeError('Error(s) in loading state_dict for {}:\\n\\t{}'.format(\n\u001b[0m\u001b[1;32m   1407\u001b[0m                                self.__class__.__name__, \"\\n\\t\".join(error_msgs)))\n\u001b[1;32m   1408\u001b[0m         \u001b[0;32mreturn\u001b[0m \u001b[0m_IncompatibleKeys\u001b[0m\u001b[0;34m(\u001b[0m\u001b[0mmissing_keys\u001b[0m\u001b[0;34m,\u001b[0m \u001b[0munexpected_keys\u001b[0m\u001b[0;34m)\u001b[0m\u001b[0;34m\u001b[0m\u001b[0;34m\u001b[0m\u001b[0m\n",
      "\u001b[0;31mRuntimeError\u001b[0m: Error(s) in loading state_dict for TCN:\n\tUnexpected key(s) in state_dict: \"tcn.network.0.net.0.bias\", \"tcn.network.0.net.0.weight_g\", \"tcn.network.0.net.0.weight_v\", \"tcn.network.0.net.4.bias\", \"tcn.network.0.net.4.weight_g\", \"tcn.network.0.net.4.weight_v\", \"tcn.network.1.net.0.bias\", \"tcn.network.1.net.0.weight_g\", \"tcn.network.1.net.0.weight_v\", \"tcn.network.1.net.4.bias\", \"tcn.network.1.net.4.weight_g\", \"tcn.network.1.net.4.weight_v\", \"tcn.network.2.net.0.bias\", \"tcn.network.2.net.0.weight_g\", \"tcn.network.2.net.0.weight_v\", \"tcn.network.2.net.4.bias\", \"tcn.network.2.net.4.weight_g\", \"tcn.network.2.net.4.weight_v\", \"tcn.network.3.net.0.bias\", \"tcn.network.3.net.0.weight_g\", \"tcn.network.3.net.0.weight_v\", \"tcn.network.3.net.4.bias\", \"tcn.network.3.net.4.weight_g\", \"tcn.network.3.net.4.weight_v\", \"tcn.network.4.net.0.bias\", \"tcn.network.4.net.0.weight_g\", \"tcn.network.4.net.0.weight_v\", \"tcn.network.4.net.4.bias\", \"tcn.network.4.net.4.weight_g\", \"tcn.network.4.net.4.weight_v\", \"tcn.network.5.net.0.bias\", \"tcn.network.5.net.0.weight_g\", \"tcn.network.5.net.0.weight_v\", \"tcn.network.5.net.4.bias\", \"tcn.network.5.net.4.weight_g\", \"tcn.network.5.net.4.weight_v\". "
     ]
    }
   ],
   "source": [
    "model_path = Path('./TCN/mnist_pixel/models')\n",
    "data_path = Path('./TCN/mnist_pixel/data/mnist')\n",
    "model_name = 'aug_k7l6'\n",
    "batch_size = 1\n",
    "in_channels = 1\n",
    "n_classes = 10\n",
    "\n",
    "args = pickle.load(open(model_path / (model_name+'_args.pkl'), 'rb'))\n",
    "print(args)\n",
    "channel_sizes = [args.nhid] * args.levels\n",
    "\n",
    "print(model_path / (model_name+'.pt'))\n",
    "\n",
    "_, test_loader = data_generator(data_path, batch_size)\n",
    "model = TCN(in_channels, n_classes, channel_sizes, kernel_size=args.ksize, trt=True)\n",
    "model.load_state_dict(torch.load(model_path / (model_name+'.pt')), strict=False)\n",
    "model.eval()\n",
    "\n",
    "print(model.receptive_field)\n",
    "\n",
    "if torch.cuda.is_available():\n",
    "    model.cuda()\n",
    "    "
   ]
  },
  {
   "cell_type": "code",
   "execution_count": 3,
   "id": "195dd282",
   "metadata": {},
   "outputs": [],
   "source": [
    "test_t = torch.zeros(1,1,784).cuda()\n",
    "test_out = model(test_t)"
   ]
  },
  {
   "cell_type": "code",
   "execution_count": 4,
   "id": "1b001b40",
   "metadata": {},
   "outputs": [
    {
     "data": {
      "application/vnd.jupyter.widget-view+json": {
       "model_id": "59461ad748ac4495af9d5b54a073c918",
       "version_major": 2,
       "version_minor": 0
      },
      "text/plain": [
       "Image(value=b'\\x89PNG\\r\\n\\x1a\\n\\x00\\x00\\x00\\rIHDR\\x00\\x00\\x00\\x1c\\x00\\x00\\x00\\x1c\\x08\\x00\\x00\\x00\\x00Wf\\x80H\\x…"
      ]
     },
     "metadata": {},
     "output_type": "display_data"
    },
    {
     "data": {
      "application/vnd.jupyter.widget-view+json": {
       "model_id": "fbf3fcd300bb4f16a79776c6eb498a1b",
       "version_major": 2,
       "version_minor": 0
      },
      "text/plain": [
       "VBox(children=(Label(value='True Label: N/A'), Label(value='Predicted Label: N/A')))"
      ]
     },
     "metadata": {},
     "output_type": "display_data"
    },
    {
     "ename": "KeyboardInterrupt",
     "evalue": "",
     "output_type": "error",
     "traceback": [
      "\u001b[0;31m---------------------------------------------------------------------------\u001b[0m",
      "\u001b[0;31mKeyboardInterrupt\u001b[0m                         Traceback (most recent call last)",
      "\u001b[0;32m<ipython-input-4-3bbf99bb9ba0>\u001b[0m in \u001b[0;36m<module>\u001b[0;34m\u001b[0m\n\u001b[1;32m     44\u001b[0m         \u001b[0m_\u001b[0m\u001b[0;34m,\u001b[0m \u001b[0mencoded_image\u001b[0m \u001b[0;34m=\u001b[0m \u001b[0mcv2\u001b[0m\u001b[0;34m.\u001b[0m\u001b[0mimencode\u001b[0m\u001b[0;34m(\u001b[0m\u001b[0;34m'.png'\u001b[0m\u001b[0;34m,\u001b[0m \u001b[0mcurr_im\u001b[0m\u001b[0;34m)\u001b[0m\u001b[0;34m\u001b[0m\u001b[0;34m\u001b[0m\u001b[0m\n\u001b[1;32m     45\u001b[0m         \u001b[0mim_bytes\u001b[0m \u001b[0;34m=\u001b[0m \u001b[0mencoded_image\u001b[0m\u001b[0;34m.\u001b[0m\u001b[0mtobytes\u001b[0m\u001b[0;34m(\u001b[0m\u001b[0;34m)\u001b[0m\u001b[0;34m\u001b[0m\u001b[0;34m\u001b[0m\u001b[0m\n\u001b[0;32m---> 46\u001b[0;31m         \u001b[0mim_disp\u001b[0m\u001b[0;34m.\u001b[0m\u001b[0mvalue\u001b[0m \u001b[0;34m=\u001b[0m \u001b[0mim_bytes\u001b[0m\u001b[0;34m\u001b[0m\u001b[0;34m\u001b[0m\u001b[0m\n\u001b[0m\u001b[1;32m     47\u001b[0m \u001b[0;34m\u001b[0m\u001b[0m\n\u001b[1;32m     48\u001b[0m         \u001b[0;31m# output = model(data[:,:,i].view(data.size()[0], data.size()[1], 1))\u001b[0m\u001b[0;34m\u001b[0m\u001b[0;34m\u001b[0m\u001b[0;34m\u001b[0m\u001b[0m\n",
      "\u001b[0;32m/usr/local/lib/python3.8/dist-packages/traitlets/traitlets.py\u001b[0m in \u001b[0;36m__set__\u001b[0;34m(self, obj, value)\u001b[0m\n\u001b[1;32m    602\u001b[0m             \u001b[0;32mraise\u001b[0m \u001b[0mTraitError\u001b[0m\u001b[0;34m(\u001b[0m\u001b[0;34m'The \"%s\" trait is read-only.'\u001b[0m \u001b[0;34m%\u001b[0m \u001b[0mself\u001b[0m\u001b[0;34m.\u001b[0m\u001b[0mname\u001b[0m\u001b[0;34m)\u001b[0m\u001b[0;34m\u001b[0m\u001b[0;34m\u001b[0m\u001b[0m\n\u001b[1;32m    603\u001b[0m         \u001b[0;32melse\u001b[0m\u001b[0;34m:\u001b[0m\u001b[0;34m\u001b[0m\u001b[0;34m\u001b[0m\u001b[0m\n\u001b[0;32m--> 604\u001b[0;31m             \u001b[0mself\u001b[0m\u001b[0;34m.\u001b[0m\u001b[0mset\u001b[0m\u001b[0;34m(\u001b[0m\u001b[0mobj\u001b[0m\u001b[0;34m,\u001b[0m \u001b[0mvalue\u001b[0m\u001b[0;34m)\u001b[0m\u001b[0;34m\u001b[0m\u001b[0;34m\u001b[0m\u001b[0m\n\u001b[0m\u001b[1;32m    605\u001b[0m \u001b[0;34m\u001b[0m\u001b[0m\n\u001b[1;32m    606\u001b[0m     \u001b[0;32mdef\u001b[0m \u001b[0m_validate\u001b[0m\u001b[0;34m(\u001b[0m\u001b[0mself\u001b[0m\u001b[0;34m,\u001b[0m \u001b[0mobj\u001b[0m\u001b[0;34m,\u001b[0m \u001b[0mvalue\u001b[0m\u001b[0;34m)\u001b[0m\u001b[0;34m:\u001b[0m\u001b[0;34m\u001b[0m\u001b[0;34m\u001b[0m\u001b[0m\n",
      "\u001b[0;32m/usr/local/lib/python3.8/dist-packages/traitlets/traitlets.py\u001b[0m in \u001b[0;36mset\u001b[0;34m(self, obj, value)\u001b[0m\n\u001b[1;32m    591\u001b[0m             \u001b[0;31m# we explicitly compare silent to True just in case the equality\u001b[0m\u001b[0;34m\u001b[0m\u001b[0;34m\u001b[0m\u001b[0;34m\u001b[0m\u001b[0m\n\u001b[1;32m    592\u001b[0m             \u001b[0;31m# comparison above returns something other than True/False\u001b[0m\u001b[0;34m\u001b[0m\u001b[0;34m\u001b[0m\u001b[0;34m\u001b[0m\u001b[0m\n\u001b[0;32m--> 593\u001b[0;31m             \u001b[0mobj\u001b[0m\u001b[0;34m.\u001b[0m\u001b[0m_notify_trait\u001b[0m\u001b[0;34m(\u001b[0m\u001b[0mself\u001b[0m\u001b[0;34m.\u001b[0m\u001b[0mname\u001b[0m\u001b[0;34m,\u001b[0m \u001b[0mold_value\u001b[0m\u001b[0;34m,\u001b[0m \u001b[0mnew_value\u001b[0m\u001b[0;34m)\u001b[0m\u001b[0;34m\u001b[0m\u001b[0;34m\u001b[0m\u001b[0m\n\u001b[0m\u001b[1;32m    594\u001b[0m \u001b[0;34m\u001b[0m\u001b[0m\n\u001b[1;32m    595\u001b[0m     \u001b[0;32mdef\u001b[0m \u001b[0m__set__\u001b[0m\u001b[0;34m(\u001b[0m\u001b[0mself\u001b[0m\u001b[0;34m,\u001b[0m \u001b[0mobj\u001b[0m\u001b[0;34m,\u001b[0m \u001b[0mvalue\u001b[0m\u001b[0;34m)\u001b[0m\u001b[0;34m:\u001b[0m\u001b[0;34m\u001b[0m\u001b[0;34m\u001b[0m\u001b[0m\n",
      "\u001b[0;32m/usr/local/lib/python3.8/dist-packages/traitlets/traitlets.py\u001b[0m in \u001b[0;36m_notify_trait\u001b[0;34m(self, name, old_value, new_value)\u001b[0m\n\u001b[1;32m   1215\u001b[0m \u001b[0;34m\u001b[0m\u001b[0m\n\u001b[1;32m   1216\u001b[0m     \u001b[0;32mdef\u001b[0m \u001b[0m_notify_trait\u001b[0m\u001b[0;34m(\u001b[0m\u001b[0mself\u001b[0m\u001b[0;34m,\u001b[0m \u001b[0mname\u001b[0m\u001b[0;34m,\u001b[0m \u001b[0mold_value\u001b[0m\u001b[0;34m,\u001b[0m \u001b[0mnew_value\u001b[0m\u001b[0;34m)\u001b[0m\u001b[0;34m:\u001b[0m\u001b[0;34m\u001b[0m\u001b[0;34m\u001b[0m\u001b[0m\n\u001b[0;32m-> 1217\u001b[0;31m         self.notify_change(Bunch(\n\u001b[0m\u001b[1;32m   1218\u001b[0m             \u001b[0mname\u001b[0m\u001b[0;34m=\u001b[0m\u001b[0mname\u001b[0m\u001b[0;34m,\u001b[0m\u001b[0;34m\u001b[0m\u001b[0;34m\u001b[0m\u001b[0m\n\u001b[1;32m   1219\u001b[0m             \u001b[0mold\u001b[0m\u001b[0;34m=\u001b[0m\u001b[0mold_value\u001b[0m\u001b[0;34m,\u001b[0m\u001b[0;34m\u001b[0m\u001b[0;34m\u001b[0m\u001b[0m\n",
      "\u001b[0;32m/usr/local/lib/python3.8/dist-packages/ipywidgets/widgets/widget.py\u001b[0m in \u001b[0;36mnotify_change\u001b[0;34m(self, change)\u001b[0m\n\u001b[1;32m    603\u001b[0m             \u001b[0;32mif\u001b[0m \u001b[0mname\u001b[0m \u001b[0;32min\u001b[0m \u001b[0mself\u001b[0m\u001b[0;34m.\u001b[0m\u001b[0mkeys\u001b[0m \u001b[0;32mand\u001b[0m \u001b[0mself\u001b[0m\u001b[0;34m.\u001b[0m\u001b[0m_should_send_property\u001b[0m\u001b[0;34m(\u001b[0m\u001b[0mname\u001b[0m\u001b[0;34m,\u001b[0m \u001b[0mgetattr\u001b[0m\u001b[0;34m(\u001b[0m\u001b[0mself\u001b[0m\u001b[0;34m,\u001b[0m \u001b[0mname\u001b[0m\u001b[0;34m)\u001b[0m\u001b[0;34m)\u001b[0m\u001b[0;34m:\u001b[0m\u001b[0;34m\u001b[0m\u001b[0;34m\u001b[0m\u001b[0m\n\u001b[1;32m    604\u001b[0m                 \u001b[0;31m# Send new state to front-end\u001b[0m\u001b[0;34m\u001b[0m\u001b[0;34m\u001b[0m\u001b[0;34m\u001b[0m\u001b[0m\n\u001b[0;32m--> 605\u001b[0;31m                 \u001b[0mself\u001b[0m\u001b[0;34m.\u001b[0m\u001b[0msend_state\u001b[0m\u001b[0;34m(\u001b[0m\u001b[0mkey\u001b[0m\u001b[0;34m=\u001b[0m\u001b[0mname\u001b[0m\u001b[0;34m)\u001b[0m\u001b[0;34m\u001b[0m\u001b[0;34m\u001b[0m\u001b[0m\n\u001b[0m\u001b[1;32m    606\u001b[0m         \u001b[0msuper\u001b[0m\u001b[0;34m(\u001b[0m\u001b[0mWidget\u001b[0m\u001b[0;34m,\u001b[0m \u001b[0mself\u001b[0m\u001b[0;34m)\u001b[0m\u001b[0;34m.\u001b[0m\u001b[0mnotify_change\u001b[0m\u001b[0;34m(\u001b[0m\u001b[0mchange\u001b[0m\u001b[0;34m)\u001b[0m\u001b[0;34m\u001b[0m\u001b[0;34m\u001b[0m\u001b[0m\n\u001b[1;32m    607\u001b[0m \u001b[0;34m\u001b[0m\u001b[0m\n",
      "\u001b[0;32m/usr/local/lib/python3.8/dist-packages/ipywidgets/widgets/widget.py\u001b[0m in \u001b[0;36msend_state\u001b[0;34m(self, key)\u001b[0m\n\u001b[1;32m    479\u001b[0m             \u001b[0mA\u001b[0m \u001b[0msingle\u001b[0m \u001b[0mproperty\u001b[0m\u001b[0;31m'\u001b[0m\u001b[0ms\u001b[0m \u001b[0mname\u001b[0m \u001b[0;32mor\u001b[0m \u001b[0miterable\u001b[0m \u001b[0mof\u001b[0m \u001b[0mproperty\u001b[0m \u001b[0mnames\u001b[0m \u001b[0mto\u001b[0m \u001b[0msync\u001b[0m \u001b[0;32mwith\u001b[0m \u001b[0mthe\u001b[0m \u001b[0mfront\u001b[0m\u001b[0;34m-\u001b[0m\u001b[0mend\u001b[0m\u001b[0;34m.\u001b[0m\u001b[0;34m\u001b[0m\u001b[0;34m\u001b[0m\u001b[0m\n\u001b[1;32m    480\u001b[0m         \"\"\"\n\u001b[0;32m--> 481\u001b[0;31m         \u001b[0mstate\u001b[0m \u001b[0;34m=\u001b[0m \u001b[0mself\u001b[0m\u001b[0;34m.\u001b[0m\u001b[0mget_state\u001b[0m\u001b[0;34m(\u001b[0m\u001b[0mkey\u001b[0m\u001b[0;34m=\u001b[0m\u001b[0mkey\u001b[0m\u001b[0;34m)\u001b[0m\u001b[0;34m\u001b[0m\u001b[0;34m\u001b[0m\u001b[0m\n\u001b[0m\u001b[1;32m    482\u001b[0m         \u001b[0;32mif\u001b[0m \u001b[0mlen\u001b[0m\u001b[0;34m(\u001b[0m\u001b[0mstate\u001b[0m\u001b[0;34m)\u001b[0m \u001b[0;34m>\u001b[0m \u001b[0;36m0\u001b[0m\u001b[0;34m:\u001b[0m\u001b[0;34m\u001b[0m\u001b[0;34m\u001b[0m\u001b[0m\n\u001b[1;32m    483\u001b[0m             \u001b[0;32mif\u001b[0m \u001b[0mself\u001b[0m\u001b[0;34m.\u001b[0m\u001b[0m_property_lock\u001b[0m\u001b[0;34m:\u001b[0m  \u001b[0;31m# we need to keep this dict up to date with the front-end values\u001b[0m\u001b[0;34m\u001b[0m\u001b[0;34m\u001b[0m\u001b[0m\n",
      "\u001b[0;32m/usr/local/lib/python3.8/dist-packages/ipywidgets/widgets/widget.py\u001b[0m in \u001b[0;36mget_state\u001b[0;34m(self, key, drop_defaults)\u001b[0m\n\u001b[1;32m    513\u001b[0m             \u001b[0;32mraise\u001b[0m \u001b[0mValueError\u001b[0m\u001b[0;34m(\u001b[0m\u001b[0;34m\"key must be a string, an iterable of keys, or None\"\u001b[0m\u001b[0;34m)\u001b[0m\u001b[0;34m\u001b[0m\u001b[0;34m\u001b[0m\u001b[0m\n\u001b[1;32m    514\u001b[0m         \u001b[0mstate\u001b[0m \u001b[0;34m=\u001b[0m \u001b[0;34m{\u001b[0m\u001b[0;34m}\u001b[0m\u001b[0;34m\u001b[0m\u001b[0;34m\u001b[0m\u001b[0m\n\u001b[0;32m--> 515\u001b[0;31m         \u001b[0mtraits\u001b[0m \u001b[0;34m=\u001b[0m \u001b[0mself\u001b[0m\u001b[0;34m.\u001b[0m\u001b[0mtraits\u001b[0m\u001b[0;34m(\u001b[0m\u001b[0;34m)\u001b[0m\u001b[0;34m\u001b[0m\u001b[0;34m\u001b[0m\u001b[0m\n\u001b[0m\u001b[1;32m    516\u001b[0m         \u001b[0;32mfor\u001b[0m \u001b[0mk\u001b[0m \u001b[0;32min\u001b[0m \u001b[0mkeys\u001b[0m\u001b[0;34m:\u001b[0m\u001b[0;34m\u001b[0m\u001b[0;34m\u001b[0m\u001b[0m\n\u001b[1;32m    517\u001b[0m             \u001b[0mto_json\u001b[0m \u001b[0;34m=\u001b[0m \u001b[0mself\u001b[0m\u001b[0;34m.\u001b[0m\u001b[0mtrait_metadata\u001b[0m\u001b[0;34m(\u001b[0m\u001b[0mk\u001b[0m\u001b[0;34m,\u001b[0m \u001b[0;34m'to_json'\u001b[0m\u001b[0;34m,\u001b[0m \u001b[0mself\u001b[0m\u001b[0;34m.\u001b[0m\u001b[0m_trait_to_json\u001b[0m\u001b[0;34m)\u001b[0m\u001b[0;34m\u001b[0m\u001b[0;34m\u001b[0m\u001b[0m\n",
      "\u001b[0;32m/usr/local/lib/python3.8/dist-packages/traitlets/traitlets.py\u001b[0m in \u001b[0;36mtraits\u001b[0;34m(self, **metadata)\u001b[0m\n\u001b[1;32m   1604\u001b[0m         \u001b[0mto\u001b[0m \u001b[0mthe\u001b[0m \u001b[0mfunction\u001b[0m\u001b[0;34m.\u001b[0m\u001b[0;34m\u001b[0m\u001b[0;34m\u001b[0m\u001b[0m\n\u001b[1;32m   1605\u001b[0m         \"\"\"\n\u001b[0;32m-> 1606\u001b[0;31m         traits = dict([memb for memb in getmembers(self.__class__) if\n\u001b[0m\u001b[1;32m   1607\u001b[0m                      isinstance(memb[1], TraitType)])\n\u001b[1;32m   1608\u001b[0m \u001b[0;34m\u001b[0m\u001b[0m\n",
      "\u001b[0;32m/usr/local/lib/python3.8/dist-packages/traitlets/traitlets.py\u001b[0m in \u001b[0;36mgetmembers\u001b[0;34m(object, predicate)\u001b[0m\n\u001b[1;32m    225\u001b[0m     \"\"\"\n\u001b[1;32m    226\u001b[0m     \u001b[0mresults\u001b[0m \u001b[0;34m=\u001b[0m \u001b[0;34m[\u001b[0m\u001b[0;34m]\u001b[0m\u001b[0;34m\u001b[0m\u001b[0;34m\u001b[0m\u001b[0m\n\u001b[0;32m--> 227\u001b[0;31m     \u001b[0;32mfor\u001b[0m \u001b[0mkey\u001b[0m \u001b[0;32min\u001b[0m \u001b[0mdir\u001b[0m\u001b[0;34m(\u001b[0m\u001b[0mobject\u001b[0m\u001b[0;34m)\u001b[0m\u001b[0;34m:\u001b[0m\u001b[0;34m\u001b[0m\u001b[0;34m\u001b[0m\u001b[0m\n\u001b[0m\u001b[1;32m    228\u001b[0m         \u001b[0;32mtry\u001b[0m\u001b[0;34m:\u001b[0m\u001b[0;34m\u001b[0m\u001b[0;34m\u001b[0m\u001b[0m\n\u001b[1;32m    229\u001b[0m             \u001b[0mvalue\u001b[0m \u001b[0;34m=\u001b[0m \u001b[0mgetattr\u001b[0m\u001b[0;34m(\u001b[0m\u001b[0mobject\u001b[0m\u001b[0;34m,\u001b[0m \u001b[0mkey\u001b[0m\u001b[0;34m)\u001b[0m\u001b[0;34m\u001b[0m\u001b[0;34m\u001b[0m\u001b[0m\n",
      "\u001b[0;31mKeyboardInterrupt\u001b[0m: "
     ]
    }
   ],
   "source": [
    "num_samples = 0\n",
    "# fig, ax = plt.subplots(1,1)\n",
    "\n",
    "im_queue = [0 for i in range(28*28)]\n",
    "data_queue = torch.zeros((1,1,28*28)).cuda()\n",
    "curr_im = np.array(im_queue, dtype=np.uint8).reshape((28,28))\n",
    "_, encoded_image = cv2.imencode('.png', curr_im)\n",
    "im_bytes = encoded_image.tobytes()\n",
    "im_disp = widgets.Image(value=im_bytes, width=200, height=200)\n",
    "\n",
    "true_val = widgets.Label(value=f'True Label: N/A')\n",
    "pred_val = widgets.Label(value=f'Predicted Label: N/A')\n",
    "label_disp = widgets.VBox((true_val, pred_val))\n",
    "\n",
    "display.display(im_disp)\n",
    "display.display(label_disp)\n",
    "\n",
    "for data, target in test_loader:\n",
    "    im = data.squeeze().cpu().detach().numpy()\n",
    "    rows, cols = im.shape\n",
    "    im = (im - im.min())\n",
    "    im = (im/im.max() * 255).astype('uint8')\n",
    "    curr_im = np.ones(im.shape, dtype=np.uint8)*255\n",
    "    \n",
    "    true_val.value = f'True Label: {target.item()}'\n",
    "\n",
    "    if torch.cuda.is_available():\n",
    "        data, target = data.cuda(), target.cuda()\n",
    "    \n",
    "    data = data.view(data.size()[0], 1, -1)\n",
    "    \n",
    "    for i in range(data.size()[2]):\n",
    "        num_samples += 1\n",
    "        curr_row = i // cols\n",
    "        curr_col = i % cols\n",
    "        \n",
    "        im_queue.append(im[curr_row,curr_col])\n",
    "        im_queue = im_queue[1:]\n",
    "        \n",
    "        data_queue = data_queue.roll(-1, 2)\n",
    "        data_queue[:,:,-1] = data[:,:,i]\n",
    "        \n",
    "        curr_im = np.array(im_queue, dtype=np.uint8).reshape((28,28))\n",
    "        _, encoded_image = cv2.imencode('.png', curr_im)\n",
    "        im_bytes = encoded_image.tobytes()\n",
    "        im_disp.value = im_bytes\n",
    "        \n",
    "        # output = model(data[:,:,i].view(data.size()[0], data.size()[1], 1))\n",
    "        output = model(data_queue)\n",
    "        pred = output.max(1, keepdim=True)[1] #max returns values and indices\n",
    "        \n",
    "        if num_samples > model.receptive_field:\n",
    "            pred_val.value = f'Predicted Label: {pred.item()}'\n",
    "    \n",
    "        time.sleep(0.001)\n",
    "    \n",
    "    \n",
    "    for i in np.zeros(np.random.randint(50, 200)):\n",
    "        im_queue.append(0)\n",
    "        im_queue = im_queue[1:]\n",
    "        data_queue = data_queue.roll(-1, 2)\n",
    "        data_queue[:,:,-1] = i\n",
    "        curr_im = np.array(im_queue, dtype=np.uint8).reshape((28,28)) \n",
    "        _, encoded_image = cv2.imencode('.png', curr_im)\n",
    "        im_bytes = encoded_image.tobytes()\n",
    "        im_disp.value = im_bytes\n",
    "        true_val.value = f'True Label: N/A'\n",
    "        num_samples += 1\n",
    "        # output = model(torch.tensor([i], dtype=torch.float).cuda().view(1, 1, 1))\n",
    "        output = model(data_queue)\n",
    "        pred = output.max(1, keepdim=True)[1] #max returns values and indices\n",
    "        if num_samples > model.receptive_field:\n",
    "            pred_val.value = f'Predicted Label: {pred.item()}'\n",
    "        \n"
   ]
  },
  {
   "cell_type": "code",
   "execution_count": 5,
   "id": "ca519c61",
   "metadata": {},
   "outputs": [
    {
     "name": "stdout",
     "output_type": "stream",
     "text": [
      "1.7.0\n"
     ]
    }
   ],
   "source": [
    "import onnx\n",
    "import onnxruntime as ort\n",
    "from onnx import helper, shape_inference\n",
    "print(ort.__version__)"
   ]
  },
  {
   "cell_type": "code",
   "execution_count": 6,
   "id": "5b2833f3",
   "metadata": {},
   "outputs": [
    {
     "name": "stdout",
     "output_type": "stream",
     "text": [
      "graph(%input : Float(1, 1, 784, strides=[784, 784, 1], requires_grad=0, device=cuda:0),\n",
      "      %tcn.network.0.conv1.bias : Float(25, strides=[1], requires_grad=1, device=cuda:0),\n",
      "      %tcn.network.0.conv2.bias : Float(25, strides=[1], requires_grad=1, device=cuda:0),\n",
      "      %tcn.network.0.downsample.weight : Float(25, 1, 1, strides=[1, 1, 1], requires_grad=1, device=cuda:0),\n",
      "      %tcn.network.0.downsample.bias : Float(25, strides=[1], requires_grad=1, device=cuda:0),\n",
      "      %tcn.network.1.conv1.bias : Float(25, strides=[1], requires_grad=1, device=cuda:0),\n",
      "      %tcn.network.1.conv2.bias : Float(25, strides=[1], requires_grad=1, device=cuda:0),\n",
      "      %tcn.network.2.conv1.bias : Float(25, strides=[1], requires_grad=1, device=cuda:0),\n",
      "      %tcn.network.2.conv2.bias : Float(25, strides=[1], requires_grad=1, device=cuda:0),\n",
      "      %tcn.network.3.conv1.bias : Float(25, strides=[1], requires_grad=1, device=cuda:0),\n",
      "      %tcn.network.3.conv2.bias : Float(25, strides=[1], requires_grad=1, device=cuda:0),\n",
      "      %tcn.network.4.conv1.bias : Float(25, strides=[1], requires_grad=1, device=cuda:0),\n",
      "      %tcn.network.4.conv2.bias : Float(25, strides=[1], requires_grad=1, device=cuda:0),\n",
      "      %tcn.network.5.conv1.bias : Float(25, strides=[1], requires_grad=1, device=cuda:0),\n",
      "      %tcn.network.5.conv2.bias : Float(25, strides=[1], requires_grad=1, device=cuda:0),\n",
      "      %linear.weight : Float(10, 25, strides=[25, 1], requires_grad=1, device=cuda:0),\n",
      "      %linear.bias : Float(10, strides=[1], requires_grad=1, device=cuda:0),\n",
      "      %180 : Float(25, 1, 7, strides=[7, 7, 1], requires_grad=0, device=cuda:0),\n",
      "      %183 : Float(25, 25, 7, strides=[175, 7, 1], requires_grad=0, device=cuda:0),\n",
      "      %186 : Float(25, 25, 7, strides=[175, 7, 1], requires_grad=0, device=cuda:0),\n",
      "      %189 : Float(25, 25, 7, strides=[175, 7, 1], requires_grad=0, device=cuda:0),\n",
      "      %192 : Float(25, 25, 7, strides=[175, 7, 1], requires_grad=0, device=cuda:0),\n",
      "      %195 : Float(25, 25, 7, strides=[175, 7, 1], requires_grad=0, device=cuda:0),\n",
      "      %198 : Float(25, 25, 7, strides=[175, 7, 1], requires_grad=0, device=cuda:0),\n",
      "      %201 : Float(25, 25, 7, strides=[175, 7, 1], requires_grad=0, device=cuda:0),\n",
      "      %204 : Float(25, 25, 7, strides=[175, 7, 1], requires_grad=0, device=cuda:0),\n",
      "      %207 : Float(25, 25, 7, strides=[175, 7, 1], requires_grad=0, device=cuda:0),\n",
      "      %210 : Float(25, 25, 7, strides=[175, 7, 1], requires_grad=0, device=cuda:0),\n",
      "      %213 : Float(25, 25, 7, strides=[175, 7, 1], requires_grad=0, device=cuda:0)):\n",
      "  %44 : Float(1, 25, 790, strides=[19750, 790, 1], requires_grad=1, device=cuda:0) = onnx::Conv[dilations=[1], group=1, kernel_shape=[7], pads=[6, 6], strides=[1]](%input, %180, %tcn.network.0.conv1.bias) # /runfa/shivb/TCN/TCN/tcn.py:12:0\n",
      "  %45 : Long(1, strides=[1], device=cpu) = onnx::Constant[value={2}]()\n",
      "  %46 : Long(1, strides=[1], device=cpu) = onnx::Constant[value={0}]()\n",
      "  %47 : Long(1, strides=[1], device=cpu) = onnx::Constant[value={-6}]()\n",
      "  %48 : Long(1, strides=[1], device=cpu) = onnx::Constant[value={1}]()\n",
      "  %49 : Float(1, 25, 784, strides=[19600, 784, 1], requires_grad=1, device=cuda:0) = onnx::Slice(%44, %46, %47, %45, %48) # /runfa/shivb/TCN/TCN/tcn.py:12:0\n",
      "  %50 : Float(1, 25, 784, strides=[19600, 784, 1], requires_grad=1, device=cuda:0) = onnx::Relu(%49) # /usr/local/lib/python3.8/dist-packages/torch/nn/functional.py:1168:0\n",
      "  %54 : Float(1, 25, 790, strides=[19750, 790, 1], requires_grad=1, device=cuda:0) = onnx::Conv[dilations=[1], group=1, kernel_shape=[7], pads=[6, 6], strides=[1]](%50, %183, %tcn.network.0.conv2.bias) # /runfa/shivb/TCN/TCN/tcn.py:12:0\n",
      "  %55 : Long(1, strides=[1], device=cpu) = onnx::Constant[value={2}]()\n",
      "  %56 : Long(1, strides=[1], device=cpu) = onnx::Constant[value={0}]()\n",
      "  %57 : Long(1, strides=[1], device=cpu) = onnx::Constant[value={-6}]()\n",
      "  %58 : Long(1, strides=[1], device=cpu) = onnx::Constant[value={1}]()\n",
      "  %59 : Float(1, 25, 784, strides=[19600, 784, 1], requires_grad=1, device=cuda:0) = onnx::Slice(%54, %56, %57, %55, %58) # /runfa/shivb/TCN/TCN/tcn.py:12:0\n",
      "  %60 : Float(1, 25, 784, strides=[19600, 784, 1], requires_grad=1, device=cuda:0) = onnx::Relu(%59) # /usr/local/lib/python3.8/dist-packages/torch/nn/functional.py:1168:0\n",
      "  %61 : Float(1, 25, 784, strides=[19600, 784, 1], requires_grad=1, device=cuda:0) = onnx::Conv[dilations=[1], group=1, kernel_shape=[1], pads=[0, 0], strides=[1]](%input, %tcn.network.0.downsample.weight, %tcn.network.0.downsample.bias) # /usr/local/lib/python3.8/dist-packages/torch/nn/modules/conv.py:294:0\n",
      "  %62 : Float(1, 25, 784, strides=[19600, 784, 1], requires_grad=1, device=cuda:0) = onnx::Add(%60, %61) # /runfa/shivb/TCN/TCN/tcn.py:93:0\n",
      "  %63 : Float(1, 25, 784, strides=[19600, 784, 1], requires_grad=1, device=cuda:0) = onnx::Relu(%62) # /usr/local/lib/python3.8/dist-packages/torch/nn/functional.py:1298:0\n",
      "  %67 : Float(1, 25, 796, strides=[19900, 796, 1], requires_grad=1, device=cuda:0) = onnx::Conv[dilations=[2], group=1, kernel_shape=[7], pads=[12, 12], strides=[1]](%63, %186, %tcn.network.1.conv1.bias) # /runfa/shivb/TCN/TCN/tcn.py:12:0\n",
      "  %68 : Long(1, strides=[1], device=cpu) = onnx::Constant[value={2}]()\n",
      "  %69 : Long(1, strides=[1], device=cpu) = onnx::Constant[value={0}]()\n",
      "  %70 : Long(1, strides=[1], device=cpu) = onnx::Constant[value={-12}]()\n",
      "  %71 : Long(1, strides=[1], device=cpu) = onnx::Constant[value={1}]()\n",
      "  %72 : Float(1, 25, 784, strides=[19600, 784, 1], requires_grad=1, device=cuda:0) = onnx::Slice(%67, %69, %70, %68, %71) # /runfa/shivb/TCN/TCN/tcn.py:12:0\n",
      "  %73 : Float(1, 25, 784, strides=[19600, 784, 1], requires_grad=1, device=cuda:0) = onnx::Relu(%72) # /usr/local/lib/python3.8/dist-packages/torch/nn/functional.py:1168:0\n",
      "  %77 : Float(1, 25, 796, strides=[19900, 796, 1], requires_grad=1, device=cuda:0) = onnx::Conv[dilations=[2], group=1, kernel_shape=[7], pads=[12, 12], strides=[1]](%73, %189, %tcn.network.1.conv2.bias) # /runfa/shivb/TCN/TCN/tcn.py:12:0\n",
      "  %78 : Long(1, strides=[1], device=cpu) = onnx::Constant[value={2}]()\n",
      "  %79 : Long(1, strides=[1], device=cpu) = onnx::Constant[value={0}]()\n",
      "  %80 : Long(1, strides=[1], device=cpu) = onnx::Constant[value={-12}]()\n",
      "  %81 : Long(1, strides=[1], device=cpu) = onnx::Constant[value={1}]()\n",
      "  %82 : Float(1, 25, 784, strides=[19600, 784, 1], requires_grad=1, device=cuda:0) = onnx::Slice(%77, %79, %80, %78, %81) # /runfa/shivb/TCN/TCN/tcn.py:12:0\n",
      "  %83 : Float(1, 25, 784, strides=[19600, 784, 1], requires_grad=1, device=cuda:0) = onnx::Relu(%82) # /usr/local/lib/python3.8/dist-packages/torch/nn/functional.py:1168:0\n",
      "  %84 : Float(1, 25, 784, strides=[19600, 784, 1], requires_grad=1, device=cuda:0) = onnx::Add(%83, %63) # /runfa/shivb/TCN/TCN/tcn.py:93:0\n",
      "  %85 : Float(1, 25, 784, strides=[19600, 784, 1], requires_grad=1, device=cuda:0) = onnx::Relu(%84) # /usr/local/lib/python3.8/dist-packages/torch/nn/functional.py:1298:0\n",
      "  %89 : Float(1, 25, 808, strides=[20200, 808, 1], requires_grad=1, device=cuda:0) = onnx::Conv[dilations=[4], group=1, kernel_shape=[7], pads=[24, 24], strides=[1]](%85, %192, %tcn.network.2.conv1.bias) # /runfa/shivb/TCN/TCN/tcn.py:12:0\n",
      "  %90 : Long(1, strides=[1], device=cpu) = onnx::Constant[value={2}]()\n",
      "  %91 : Long(1, strides=[1], device=cpu) = onnx::Constant[value={0}]()\n",
      "  %92 : Long(1, strides=[1], device=cpu) = onnx::Constant[value={-24}]()\n",
      "  %93 : Long(1, strides=[1], device=cpu) = onnx::Constant[value={1}]()\n",
      "  %94 : Float(1, 25, 784, strides=[19600, 784, 1], requires_grad=1, device=cuda:0) = onnx::Slice(%89, %91, %92, %90, %93) # /runfa/shivb/TCN/TCN/tcn.py:12:0\n",
      "  %95 : Float(1, 25, 784, strides=[19600, 784, 1], requires_grad=1, device=cuda:0) = onnx::Relu(%94) # /usr/local/lib/python3.8/dist-packages/torch/nn/functional.py:1168:0\n",
      "  %99 : Float(1, 25, 808, strides=[20200, 808, 1], requires_grad=1, device=cuda:0) = onnx::Conv[dilations=[4], group=1, kernel_shape=[7], pads=[24, 24], strides=[1]](%95, %195, %tcn.network.2.conv2.bias) # /runfa/shivb/TCN/TCN/tcn.py:12:0\n",
      "  %100 : Long(1, strides=[1], device=cpu) = onnx::Constant[value={2}]()\n",
      "  %101 : Long(1, strides=[1], device=cpu) = onnx::Constant[value={0}]()\n",
      "  %102 : Long(1, strides=[1], device=cpu) = onnx::Constant[value={-24}]()\n",
      "  %103 : Long(1, strides=[1], device=cpu) = onnx::Constant[value={1}]()\n",
      "  %104 : Float(1, 25, 784, strides=[19600, 784, 1], requires_grad=1, device=cuda:0) = onnx::Slice(%99, %101, %102, %100, %103) # /runfa/shivb/TCN/TCN/tcn.py:12:0\n",
      "  %105 : Float(1, 25, 784, strides=[19600, 784, 1], requires_grad=1, device=cuda:0) = onnx::Relu(%104) # /usr/local/lib/python3.8/dist-packages/torch/nn/functional.py:1168:0\n",
      "  %106 : Float(1, 25, 784, strides=[19600, 784, 1], requires_grad=1, device=cuda:0) = onnx::Add(%105, %85) # /runfa/shivb/TCN/TCN/tcn.py:93:0\n",
      "  %107 : Float(1, 25, 784, strides=[19600, 784, 1], requires_grad=1, device=cuda:0) = onnx::Relu(%106) # /usr/local/lib/python3.8/dist-packages/torch/nn/functional.py:1298:0\n",
      "  %111 : Float(1, 25, 832, strides=[20800, 832, 1], requires_grad=1, device=cuda:0) = onnx::Conv[dilations=[8], group=1, kernel_shape=[7], pads=[48, 48], strides=[1]](%107, %198, %tcn.network.3.conv1.bias) # /runfa/shivb/TCN/TCN/tcn.py:12:0\n",
      "  %112 : Long(1, strides=[1], device=cpu) = onnx::Constant[value={2}]()\n",
      "  %113 : Long(1, strides=[1], device=cpu) = onnx::Constant[value={0}]()\n",
      "  %114 : Long(1, strides=[1], device=cpu) = onnx::Constant[value={-48}]()\n",
      "  %115 : Long(1, strides=[1], device=cpu) = onnx::Constant[value={1}]()\n",
      "  %116 : Float(1, 25, 784, strides=[19600, 784, 1], requires_grad=1, device=cuda:0) = onnx::Slice(%111, %113, %114, %112, %115) # /runfa/shivb/TCN/TCN/tcn.py:12:0\n",
      "  %117 : Float(1, 25, 784, strides=[19600, 784, 1], requires_grad=1, device=cuda:0) = onnx::Relu(%116) # /usr/local/lib/python3.8/dist-packages/torch/nn/functional.py:1168:0\n",
      "  %121 : Float(1, 25, 832, strides=[20800, 832, 1], requires_grad=1, device=cuda:0) = onnx::Conv[dilations=[8], group=1, kernel_shape=[7], pads=[48, 48], strides=[1]](%117, %201, %tcn.network.3.conv2.bias) # /runfa/shivb/TCN/TCN/tcn.py:12:0\n",
      "  %122 : Long(1, strides=[1], device=cpu) = onnx::Constant[value={2}]()\n",
      "  %123 : Long(1, strides=[1], device=cpu) = onnx::Constant[value={0}]()\n",
      "  %124 : Long(1, strides=[1], device=cpu) = onnx::Constant[value={-48}]()\n",
      "  %125 : Long(1, strides=[1], device=cpu) = onnx::Constant[value={1}]()\n",
      "  %126 : Float(1, 25, 784, strides=[19600, 784, 1], requires_grad=1, device=cuda:0) = onnx::Slice(%121, %123, %124, %122, %125) # /runfa/shivb/TCN/TCN/tcn.py:12:0\n",
      "  %127 : Float(1, 25, 784, strides=[19600, 784, 1], requires_grad=1, device=cuda:0) = onnx::Relu(%126) # /usr/local/lib/python3.8/dist-packages/torch/nn/functional.py:1168:0\n",
      "  %128 : Float(1, 25, 784, strides=[19600, 784, 1], requires_grad=1, device=cuda:0) = onnx::Add(%127, %107) # /runfa/shivb/TCN/TCN/tcn.py:93:0\n",
      "  %129 : Float(1, 25, 784, strides=[19600, 784, 1], requires_grad=1, device=cuda:0) = onnx::Relu(%128) # /usr/local/lib/python3.8/dist-packages/torch/nn/functional.py:1298:0\n",
      "  %133 : Float(1, 25, 880, strides=[22000, 880, 1], requires_grad=1, device=cuda:0) = onnx::Conv[dilations=[16], group=1, kernel_shape=[7], pads=[96, 96], strides=[1]](%129, %204, %tcn.network.4.conv1.bias) # /runfa/shivb/TCN/TCN/tcn.py:12:0\n",
      "  %134 : Long(1, strides=[1], device=cpu) = onnx::Constant[value={2}]()\n",
      "  %135 : Long(1, strides=[1], device=cpu) = onnx::Constant[value={0}]()\n",
      "  %136 : Long(1, strides=[1], device=cpu) = onnx::Constant[value={-96}]()\n",
      "  %137 : Long(1, strides=[1], device=cpu) = onnx::Constant[value={1}]()\n",
      "  %138 : Float(1, 25, 784, strides=[19600, 784, 1], requires_grad=1, device=cuda:0) = onnx::Slice(%133, %135, %136, %134, %137) # /runfa/shivb/TCN/TCN/tcn.py:12:0\n",
      "  %139 : Float(1, 25, 784, strides=[19600, 784, 1], requires_grad=1, device=cuda:0) = onnx::Relu(%138) # /usr/local/lib/python3.8/dist-packages/torch/nn/functional.py:1168:0\n",
      "  %143 : Float(1, 25, 880, strides=[22000, 880, 1], requires_grad=1, device=cuda:0) = onnx::Conv[dilations=[16], group=1, kernel_shape=[7], pads=[96, 96], strides=[1]](%139, %207, %tcn.network.4.conv2.bias) # /runfa/shivb/TCN/TCN/tcn.py:12:0\n",
      "  %144 : Long(1, strides=[1], device=cpu) = onnx::Constant[value={2}]()\n",
      "  %145 : Long(1, strides=[1], device=cpu) = onnx::Constant[value={0}]()\n",
      "  %146 : Long(1, strides=[1], device=cpu) = onnx::Constant[value={-96}]()\n",
      "  %147 : Long(1, strides=[1], device=cpu) = onnx::Constant[value={1}]()\n",
      "  %148 : Float(1, 25, 784, strides=[19600, 784, 1], requires_grad=1, device=cuda:0) = onnx::Slice(%143, %145, %146, %144, %147) # /runfa/shivb/TCN/TCN/tcn.py:12:0\n",
      "  %149 : Float(1, 25, 784, strides=[19600, 784, 1], requires_grad=1, device=cuda:0) = onnx::Relu(%148) # /usr/local/lib/python3.8/dist-packages/torch/nn/functional.py:1168:0\n",
      "  %150 : Float(1, 25, 784, strides=[19600, 784, 1], requires_grad=1, device=cuda:0) = onnx::Add(%149, %129) # /runfa/shivb/TCN/TCN/tcn.py:93:0\n",
      "  %151 : Float(1, 25, 784, strides=[19600, 784, 1], requires_grad=1, device=cuda:0) = onnx::Relu(%150) # /usr/local/lib/python3.8/dist-packages/torch/nn/functional.py:1298:0\n",
      "  %155 : Float(1, 25, 976, strides=[24400, 976, 1], requires_grad=1, device=cuda:0) = onnx::Conv[dilations=[32], group=1, kernel_shape=[7], pads=[192, 192], strides=[1]](%151, %210, %tcn.network.5.conv1.bias) # /runfa/shivb/TCN/TCN/tcn.py:12:0\n",
      "  %156 : Long(1, strides=[1], device=cpu) = onnx::Constant[value={2}]()\n",
      "  %157 : Long(1, strides=[1], device=cpu) = onnx::Constant[value={0}]()\n",
      "  %158 : Long(1, strides=[1], device=cpu) = onnx::Constant[value={-192}]()\n",
      "  %159 : Long(1, strides=[1], device=cpu) = onnx::Constant[value={1}]()\n",
      "  %160 : Float(1, 25, 784, strides=[19600, 784, 1], requires_grad=1, device=cuda:0) = onnx::Slice(%155, %157, %158, %156, %159) # /runfa/shivb/TCN/TCN/tcn.py:12:0\n",
      "  %161 : Float(1, 25, 784, strides=[19600, 784, 1], requires_grad=1, device=cuda:0) = onnx::Relu(%160) # /usr/local/lib/python3.8/dist-packages/torch/nn/functional.py:1168:0\n",
      "  %165 : Float(1, 25, 976, strides=[24400, 976, 1], requires_grad=1, device=cuda:0) = onnx::Conv[dilations=[32], group=1, kernel_shape=[7], pads=[192, 192], strides=[1]](%161, %213, %tcn.network.5.conv2.bias) # /runfa/shivb/TCN/TCN/tcn.py:12:0\n",
      "  %166 : Long(1, strides=[1], device=cpu) = onnx::Constant[value={2}]()\n",
      "  %167 : Long(1, strides=[1], device=cpu) = onnx::Constant[value={0}]()\n",
      "  %168 : Long(1, strides=[1], device=cpu) = onnx::Constant[value={-192}]()\n",
      "  %169 : Long(1, strides=[1], device=cpu) = onnx::Constant[value={1}]()\n",
      "  %170 : Float(1, 25, 784, strides=[19600, 784, 1], requires_grad=1, device=cuda:0) = onnx::Slice(%165, %167, %168, %166, %169) # /runfa/shivb/TCN/TCN/tcn.py:12:0\n",
      "  %171 : Float(1, 25, 784, strides=[19600, 784, 1], requires_grad=1, device=cuda:0) = onnx::Relu(%170) # /usr/local/lib/python3.8/dist-packages/torch/nn/functional.py:1168:0\n",
      "  %172 : Float(1, 25, 784, strides=[19600, 784, 1], requires_grad=1, device=cuda:0) = onnx::Add(%171, %151) # /runfa/shivb/TCN/TCN/tcn.py:93:0\n",
      "  %173 : Float(1, 25, 784, strides=[19600, 784, 1], requires_grad=1, device=cuda:0) = onnx::Relu(%172) # /runfa/shivb/TCN/TCN/mnist_pixel/model.py:24:0\n",
      "  %174 : Long(requires_grad=0, device=cpu) = onnx::Constant[value={-1}]()\n",
      "  %175 : Float(1, 25, strides=[19600, 784], requires_grad=1, device=cuda:0) = onnx::Gather[axis=2](%173, %174) # /runfa/shivb/TCN/TCN/mnist_pixel/model.py:24:0\n",
      "  %176 : Float(1, 10, strides=[10, 1], requires_grad=1, device=cuda:0) = onnx::Gemm[alpha=1., beta=1., transB=1](%175, %linear.weight, %linear.bias) # /usr/local/lib/python3.8/dist-packages/torch/nn/functional.py:1847:0\n",
      "  %output : Float(1, 10, strides=[10, 1], requires_grad=1, device=cuda:0) = onnx::LogSoftmax[axis=1](%176) # /usr/local/lib/python3.8/dist-packages/torch/nn/functional.py:1768:0\n",
      "  return (%output)\n",
      "\n"
     ]
    }
   ],
   "source": [
    "onnx_model = torch.onnx.export(\n",
    "    model,\n",
    "    test_t,\n",
    "    f'{model_path}/{model_name}.onnx',\n",
    "    opset_version=12,\n",
    "    do_constant_folding=True,\n",
    "    export_params=True,\n",
    "    input_names = ['input'],\n",
    "    output_names = ['output'],\n",
    "    verbose=True\n",
    ")\n"
   ]
  },
  {
   "cell_type": "code",
   "execution_count": 7,
   "id": "5253ca1e",
   "metadata": {},
   "outputs": [],
   "source": [
    "onnx_model = onnx.load(model_path / (model_name+'.onnx'))\n",
    "onnx.checker.check_model(onnx_model)\n",
    "inferred_model = shape_inference.infer_shapes(onnx_model)\n",
    "onnx.checker.check_model(inferred_model)"
   ]
  },
  {
   "cell_type": "code",
   "execution_count": 8,
   "id": "1c559662",
   "metadata": {},
   "outputs": [],
   "source": [
    "onnx_path = model_path / (model_name+'.onnx')\n",
    "ort_session = ort.InferenceSession(str(onnx_path))"
   ]
  },
  {
   "cell_type": "code",
   "execution_count": 9,
   "id": "4d09e5bb",
   "metadata": {},
   "outputs": [
    {
     "name": "stdout",
     "output_type": "stream",
     "text": [
      "Exported model has been tested with ONNXRuntime, and the result looks good!\n"
     ]
    }
   ],
   "source": [
    "def to_numpy(tensor):\n",
    "    return tensor.detach().cpu().numpy() if tensor.requires_grad else tensor.cpu().numpy()\n",
    "\n",
    "# compute ONNX Runtime output prediction\n",
    "ort_inputs = {ort_session.get_inputs()[0].name: to_numpy(test_t)}\n",
    "ort_outs = ort_session.run(None, ort_inputs)\n",
    "\n",
    "# compare ONNX Runtime and PyTorch results\n",
    "np.testing.assert_allclose(to_numpy(test_out), ort_outs[0], rtol=1e-03, atol=1e-05)\n",
    "print(\"Exported model has been tested with ONNXRuntime, and the result looks good!\")"
   ]
  },
  {
   "cell_type": "code",
   "execution_count": 10,
   "id": "9517ec92",
   "metadata": {},
   "outputs": [
    {
     "data": {
      "application/vnd.jupyter.widget-view+json": {
       "model_id": "18db9fcd02c949949b68b5b78f181751",
       "version_major": 2,
       "version_minor": 0
      },
      "text/plain": [
       "Image(value=b'\\x89PNG\\r\\n\\x1a\\n\\x00\\x00\\x00\\rIHDR\\x00\\x00\\x00\\x1c\\x00\\x00\\x00\\x1c\\x08\\x00\\x00\\x00\\x00Wf\\x80H\\x…"
      ]
     },
     "metadata": {},
     "output_type": "display_data"
    },
    {
     "data": {
      "application/vnd.jupyter.widget-view+json": {
       "model_id": "8e2f4d76d8b241c89575a4c39c945c66",
       "version_major": 2,
       "version_minor": 0
      },
      "text/plain": [
       "VBox(children=(Label(value='True Label: N/A'), Label(value='Predicted Label: N/A')))"
      ]
     },
     "metadata": {},
     "output_type": "display_data"
    },
    {
     "ename": "KeyboardInterrupt",
     "evalue": "",
     "output_type": "error",
     "traceback": [
      "\u001b[0;31m---------------------------------------------------------------------------\u001b[0m",
      "\u001b[0;31mKeyboardInterrupt\u001b[0m                         Traceback (most recent call last)",
      "\u001b[0;32m<ipython-input-10-4bcb865b33e4>\u001b[0m in \u001b[0;36m<module>\u001b[0;34m\u001b[0m\n\u001b[1;32m     44\u001b[0m         \u001b[0m_\u001b[0m\u001b[0;34m,\u001b[0m \u001b[0mencoded_image\u001b[0m \u001b[0;34m=\u001b[0m \u001b[0mcv2\u001b[0m\u001b[0;34m.\u001b[0m\u001b[0mimencode\u001b[0m\u001b[0;34m(\u001b[0m\u001b[0;34m'.png'\u001b[0m\u001b[0;34m,\u001b[0m \u001b[0mcurr_im\u001b[0m\u001b[0;34m)\u001b[0m\u001b[0;34m\u001b[0m\u001b[0;34m\u001b[0m\u001b[0m\n\u001b[1;32m     45\u001b[0m         \u001b[0mim_bytes\u001b[0m \u001b[0;34m=\u001b[0m \u001b[0mencoded_image\u001b[0m\u001b[0;34m.\u001b[0m\u001b[0mtobytes\u001b[0m\u001b[0;34m(\u001b[0m\u001b[0;34m)\u001b[0m\u001b[0;34m\u001b[0m\u001b[0;34m\u001b[0m\u001b[0m\n\u001b[0;32m---> 46\u001b[0;31m         \u001b[0mim_disp\u001b[0m\u001b[0;34m.\u001b[0m\u001b[0mvalue\u001b[0m \u001b[0;34m=\u001b[0m \u001b[0mim_bytes\u001b[0m\u001b[0;34m\u001b[0m\u001b[0;34m\u001b[0m\u001b[0m\n\u001b[0m\u001b[1;32m     47\u001b[0m \u001b[0;34m\u001b[0m\u001b[0m\n\u001b[1;32m     48\u001b[0m         \u001b[0mort_inputs\u001b[0m \u001b[0;34m=\u001b[0m \u001b[0;34m{\u001b[0m\u001b[0mort_session\u001b[0m\u001b[0;34m.\u001b[0m\u001b[0mget_inputs\u001b[0m\u001b[0;34m(\u001b[0m\u001b[0;34m)\u001b[0m\u001b[0;34m[\u001b[0m\u001b[0;36m0\u001b[0m\u001b[0;34m]\u001b[0m\u001b[0;34m.\u001b[0m\u001b[0mname\u001b[0m\u001b[0;34m:\u001b[0m \u001b[0mto_numpy\u001b[0m\u001b[0;34m(\u001b[0m\u001b[0mdata_queue\u001b[0m\u001b[0;34m)\u001b[0m\u001b[0;34m}\u001b[0m\u001b[0;34m\u001b[0m\u001b[0;34m\u001b[0m\u001b[0m\n",
      "\u001b[0;32m/usr/local/lib/python3.8/dist-packages/traitlets/traitlets.py\u001b[0m in \u001b[0;36m__set__\u001b[0;34m(self, obj, value)\u001b[0m\n\u001b[1;32m    602\u001b[0m             \u001b[0;32mraise\u001b[0m \u001b[0mTraitError\u001b[0m\u001b[0;34m(\u001b[0m\u001b[0;34m'The \"%s\" trait is read-only.'\u001b[0m \u001b[0;34m%\u001b[0m \u001b[0mself\u001b[0m\u001b[0;34m.\u001b[0m\u001b[0mname\u001b[0m\u001b[0;34m)\u001b[0m\u001b[0;34m\u001b[0m\u001b[0;34m\u001b[0m\u001b[0m\n\u001b[1;32m    603\u001b[0m         \u001b[0;32melse\u001b[0m\u001b[0;34m:\u001b[0m\u001b[0;34m\u001b[0m\u001b[0;34m\u001b[0m\u001b[0m\n\u001b[0;32m--> 604\u001b[0;31m             \u001b[0mself\u001b[0m\u001b[0;34m.\u001b[0m\u001b[0mset\u001b[0m\u001b[0;34m(\u001b[0m\u001b[0mobj\u001b[0m\u001b[0;34m,\u001b[0m \u001b[0mvalue\u001b[0m\u001b[0;34m)\u001b[0m\u001b[0;34m\u001b[0m\u001b[0;34m\u001b[0m\u001b[0m\n\u001b[0m\u001b[1;32m    605\u001b[0m \u001b[0;34m\u001b[0m\u001b[0m\n\u001b[1;32m    606\u001b[0m     \u001b[0;32mdef\u001b[0m \u001b[0m_validate\u001b[0m\u001b[0;34m(\u001b[0m\u001b[0mself\u001b[0m\u001b[0;34m,\u001b[0m \u001b[0mobj\u001b[0m\u001b[0;34m,\u001b[0m \u001b[0mvalue\u001b[0m\u001b[0;34m)\u001b[0m\u001b[0;34m:\u001b[0m\u001b[0;34m\u001b[0m\u001b[0;34m\u001b[0m\u001b[0m\n",
      "\u001b[0;32m/usr/local/lib/python3.8/dist-packages/traitlets/traitlets.py\u001b[0m in \u001b[0;36mset\u001b[0;34m(self, obj, value)\u001b[0m\n\u001b[1;32m    591\u001b[0m             \u001b[0;31m# we explicitly compare silent to True just in case the equality\u001b[0m\u001b[0;34m\u001b[0m\u001b[0;34m\u001b[0m\u001b[0;34m\u001b[0m\u001b[0m\n\u001b[1;32m    592\u001b[0m             \u001b[0;31m# comparison above returns something other than True/False\u001b[0m\u001b[0;34m\u001b[0m\u001b[0;34m\u001b[0m\u001b[0;34m\u001b[0m\u001b[0m\n\u001b[0;32m--> 593\u001b[0;31m             \u001b[0mobj\u001b[0m\u001b[0;34m.\u001b[0m\u001b[0m_notify_trait\u001b[0m\u001b[0;34m(\u001b[0m\u001b[0mself\u001b[0m\u001b[0;34m.\u001b[0m\u001b[0mname\u001b[0m\u001b[0;34m,\u001b[0m \u001b[0mold_value\u001b[0m\u001b[0;34m,\u001b[0m \u001b[0mnew_value\u001b[0m\u001b[0;34m)\u001b[0m\u001b[0;34m\u001b[0m\u001b[0;34m\u001b[0m\u001b[0m\n\u001b[0m\u001b[1;32m    594\u001b[0m \u001b[0;34m\u001b[0m\u001b[0m\n\u001b[1;32m    595\u001b[0m     \u001b[0;32mdef\u001b[0m \u001b[0m__set__\u001b[0m\u001b[0;34m(\u001b[0m\u001b[0mself\u001b[0m\u001b[0;34m,\u001b[0m \u001b[0mobj\u001b[0m\u001b[0;34m,\u001b[0m \u001b[0mvalue\u001b[0m\u001b[0;34m)\u001b[0m\u001b[0;34m:\u001b[0m\u001b[0;34m\u001b[0m\u001b[0;34m\u001b[0m\u001b[0m\n",
      "\u001b[0;32m/usr/local/lib/python3.8/dist-packages/traitlets/traitlets.py\u001b[0m in \u001b[0;36m_notify_trait\u001b[0;34m(self, name, old_value, new_value)\u001b[0m\n\u001b[1;32m   1215\u001b[0m \u001b[0;34m\u001b[0m\u001b[0m\n\u001b[1;32m   1216\u001b[0m     \u001b[0;32mdef\u001b[0m \u001b[0m_notify_trait\u001b[0m\u001b[0;34m(\u001b[0m\u001b[0mself\u001b[0m\u001b[0;34m,\u001b[0m \u001b[0mname\u001b[0m\u001b[0;34m,\u001b[0m \u001b[0mold_value\u001b[0m\u001b[0;34m,\u001b[0m \u001b[0mnew_value\u001b[0m\u001b[0;34m)\u001b[0m\u001b[0;34m:\u001b[0m\u001b[0;34m\u001b[0m\u001b[0;34m\u001b[0m\u001b[0m\n\u001b[0;32m-> 1217\u001b[0;31m         self.notify_change(Bunch(\n\u001b[0m\u001b[1;32m   1218\u001b[0m             \u001b[0mname\u001b[0m\u001b[0;34m=\u001b[0m\u001b[0mname\u001b[0m\u001b[0;34m,\u001b[0m\u001b[0;34m\u001b[0m\u001b[0;34m\u001b[0m\u001b[0m\n\u001b[1;32m   1219\u001b[0m             \u001b[0mold\u001b[0m\u001b[0;34m=\u001b[0m\u001b[0mold_value\u001b[0m\u001b[0;34m,\u001b[0m\u001b[0;34m\u001b[0m\u001b[0;34m\u001b[0m\u001b[0m\n",
      "\u001b[0;32m/usr/local/lib/python3.8/dist-packages/ipywidgets/widgets/widget.py\u001b[0m in \u001b[0;36mnotify_change\u001b[0;34m(self, change)\u001b[0m\n\u001b[1;32m    603\u001b[0m             \u001b[0;32mif\u001b[0m \u001b[0mname\u001b[0m \u001b[0;32min\u001b[0m \u001b[0mself\u001b[0m\u001b[0;34m.\u001b[0m\u001b[0mkeys\u001b[0m \u001b[0;32mand\u001b[0m \u001b[0mself\u001b[0m\u001b[0;34m.\u001b[0m\u001b[0m_should_send_property\u001b[0m\u001b[0;34m(\u001b[0m\u001b[0mname\u001b[0m\u001b[0;34m,\u001b[0m \u001b[0mgetattr\u001b[0m\u001b[0;34m(\u001b[0m\u001b[0mself\u001b[0m\u001b[0;34m,\u001b[0m \u001b[0mname\u001b[0m\u001b[0;34m)\u001b[0m\u001b[0;34m)\u001b[0m\u001b[0;34m:\u001b[0m\u001b[0;34m\u001b[0m\u001b[0;34m\u001b[0m\u001b[0m\n\u001b[1;32m    604\u001b[0m                 \u001b[0;31m# Send new state to front-end\u001b[0m\u001b[0;34m\u001b[0m\u001b[0;34m\u001b[0m\u001b[0;34m\u001b[0m\u001b[0m\n\u001b[0;32m--> 605\u001b[0;31m                 \u001b[0mself\u001b[0m\u001b[0;34m.\u001b[0m\u001b[0msend_state\u001b[0m\u001b[0;34m(\u001b[0m\u001b[0mkey\u001b[0m\u001b[0;34m=\u001b[0m\u001b[0mname\u001b[0m\u001b[0;34m)\u001b[0m\u001b[0;34m\u001b[0m\u001b[0;34m\u001b[0m\u001b[0m\n\u001b[0m\u001b[1;32m    606\u001b[0m         \u001b[0msuper\u001b[0m\u001b[0;34m(\u001b[0m\u001b[0mWidget\u001b[0m\u001b[0;34m,\u001b[0m \u001b[0mself\u001b[0m\u001b[0;34m)\u001b[0m\u001b[0;34m.\u001b[0m\u001b[0mnotify_change\u001b[0m\u001b[0;34m(\u001b[0m\u001b[0mchange\u001b[0m\u001b[0;34m)\u001b[0m\u001b[0;34m\u001b[0m\u001b[0;34m\u001b[0m\u001b[0m\n\u001b[1;32m    607\u001b[0m \u001b[0;34m\u001b[0m\u001b[0m\n",
      "\u001b[0;32m/usr/local/lib/python3.8/dist-packages/ipywidgets/widgets/widget.py\u001b[0m in \u001b[0;36msend_state\u001b[0;34m(self, key)\u001b[0m\n\u001b[1;32m    487\u001b[0m             \u001b[0mstate\u001b[0m\u001b[0;34m,\u001b[0m \u001b[0mbuffer_paths\u001b[0m\u001b[0;34m,\u001b[0m \u001b[0mbuffers\u001b[0m \u001b[0;34m=\u001b[0m \u001b[0m_remove_buffers\u001b[0m\u001b[0;34m(\u001b[0m\u001b[0mstate\u001b[0m\u001b[0;34m)\u001b[0m\u001b[0;34m\u001b[0m\u001b[0;34m\u001b[0m\u001b[0m\n\u001b[1;32m    488\u001b[0m             \u001b[0mmsg\u001b[0m \u001b[0;34m=\u001b[0m \u001b[0;34m{\u001b[0m\u001b[0;34m'method'\u001b[0m\u001b[0;34m:\u001b[0m \u001b[0;34m'update'\u001b[0m\u001b[0;34m,\u001b[0m \u001b[0;34m'state'\u001b[0m\u001b[0;34m:\u001b[0m \u001b[0mstate\u001b[0m\u001b[0;34m,\u001b[0m \u001b[0;34m'buffer_paths'\u001b[0m\u001b[0;34m:\u001b[0m \u001b[0mbuffer_paths\u001b[0m\u001b[0;34m}\u001b[0m\u001b[0;34m\u001b[0m\u001b[0;34m\u001b[0m\u001b[0m\n\u001b[0;32m--> 489\u001b[0;31m             \u001b[0mself\u001b[0m\u001b[0;34m.\u001b[0m\u001b[0m_send\u001b[0m\u001b[0;34m(\u001b[0m\u001b[0mmsg\u001b[0m\u001b[0;34m,\u001b[0m \u001b[0mbuffers\u001b[0m\u001b[0;34m=\u001b[0m\u001b[0mbuffers\u001b[0m\u001b[0;34m)\u001b[0m\u001b[0;34m\u001b[0m\u001b[0;34m\u001b[0m\u001b[0m\n\u001b[0m\u001b[1;32m    490\u001b[0m \u001b[0;34m\u001b[0m\u001b[0m\n\u001b[1;32m    491\u001b[0m \u001b[0;34m\u001b[0m\u001b[0m\n",
      "\u001b[0;32m/usr/local/lib/python3.8/dist-packages/ipywidgets/widgets/widget.py\u001b[0m in \u001b[0;36m_send\u001b[0;34m(self, msg, buffers)\u001b[0m\n\u001b[1;32m    735\u001b[0m         \u001b[0;34m\"\"\"Sends a message to the model in the front-end.\"\"\"\u001b[0m\u001b[0;34m\u001b[0m\u001b[0;34m\u001b[0m\u001b[0m\n\u001b[1;32m    736\u001b[0m         \u001b[0;32mif\u001b[0m \u001b[0mself\u001b[0m\u001b[0;34m.\u001b[0m\u001b[0mcomm\u001b[0m \u001b[0;32mis\u001b[0m \u001b[0;32mnot\u001b[0m \u001b[0;32mNone\u001b[0m \u001b[0;32mand\u001b[0m \u001b[0mself\u001b[0m\u001b[0;34m.\u001b[0m\u001b[0mcomm\u001b[0m\u001b[0;34m.\u001b[0m\u001b[0mkernel\u001b[0m \u001b[0;32mis\u001b[0m \u001b[0;32mnot\u001b[0m \u001b[0;32mNone\u001b[0m\u001b[0;34m:\u001b[0m\u001b[0;34m\u001b[0m\u001b[0;34m\u001b[0m\u001b[0m\n\u001b[0;32m--> 737\u001b[0;31m             \u001b[0mself\u001b[0m\u001b[0;34m.\u001b[0m\u001b[0mcomm\u001b[0m\u001b[0;34m.\u001b[0m\u001b[0msend\u001b[0m\u001b[0;34m(\u001b[0m\u001b[0mdata\u001b[0m\u001b[0;34m=\u001b[0m\u001b[0mmsg\u001b[0m\u001b[0;34m,\u001b[0m \u001b[0mbuffers\u001b[0m\u001b[0;34m=\u001b[0m\u001b[0mbuffers\u001b[0m\u001b[0;34m)\u001b[0m\u001b[0;34m\u001b[0m\u001b[0;34m\u001b[0m\u001b[0m\n\u001b[0m\u001b[1;32m    738\u001b[0m \u001b[0;34m\u001b[0m\u001b[0m\n\u001b[1;32m    739\u001b[0m     \u001b[0;32mdef\u001b[0m \u001b[0m_repr_keys\u001b[0m\u001b[0;34m(\u001b[0m\u001b[0mself\u001b[0m\u001b[0;34m)\u001b[0m\u001b[0;34m:\u001b[0m\u001b[0;34m\u001b[0m\u001b[0;34m\u001b[0m\u001b[0m\n",
      "\u001b[0;32m/usr/local/lib/python3.8/dist-packages/ipykernel/comm/comm.py\u001b[0m in \u001b[0;36msend\u001b[0;34m(self, data, metadata, buffers)\u001b[0m\n\u001b[1;32m    118\u001b[0m             \u001b[0mself\u001b[0m\u001b[0;34m.\u001b[0m\u001b[0mkernel\u001b[0m\u001b[0;34m.\u001b[0m\u001b[0mcomm_manager\u001b[0m\u001b[0;34m.\u001b[0m\u001b[0munregister_comm\u001b[0m\u001b[0;34m(\u001b[0m\u001b[0mself\u001b[0m\u001b[0;34m)\u001b[0m\u001b[0;34m\u001b[0m\u001b[0;34m\u001b[0m\u001b[0m\n\u001b[1;32m    119\u001b[0m \u001b[0;34m\u001b[0m\u001b[0m\n\u001b[0;32m--> 120\u001b[0;31m     \u001b[0;32mdef\u001b[0m \u001b[0msend\u001b[0m\u001b[0;34m(\u001b[0m\u001b[0mself\u001b[0m\u001b[0;34m,\u001b[0m \u001b[0mdata\u001b[0m\u001b[0;34m=\u001b[0m\u001b[0;32mNone\u001b[0m\u001b[0;34m,\u001b[0m \u001b[0mmetadata\u001b[0m\u001b[0;34m=\u001b[0m\u001b[0;32mNone\u001b[0m\u001b[0;34m,\u001b[0m \u001b[0mbuffers\u001b[0m\u001b[0;34m=\u001b[0m\u001b[0;32mNone\u001b[0m\u001b[0;34m)\u001b[0m\u001b[0;34m:\u001b[0m\u001b[0;34m\u001b[0m\u001b[0;34m\u001b[0m\u001b[0m\n\u001b[0m\u001b[1;32m    121\u001b[0m         \u001b[0;34m\"\"\"Send a message to the frontend-side version of this comm\"\"\"\u001b[0m\u001b[0;34m\u001b[0m\u001b[0;34m\u001b[0m\u001b[0m\n\u001b[1;32m    122\u001b[0m         self._publish_msg('comm_msg',\n",
      "\u001b[0;31mKeyboardInterrupt\u001b[0m: "
     ]
    }
   ],
   "source": [
    "num_samples = 0\n",
    "# fig, ax = plt.subplots(1,1)\n",
    "\n",
    "im_queue = [0 for i in range(28*28)]\n",
    "data_queue = torch.zeros((1,1,28*28)).cuda()\n",
    "curr_im = np.array(im_queue, dtype=np.uint8).reshape((28,28))\n",
    "_, encoded_image = cv2.imencode('.png', curr_im)\n",
    "im_bytes = encoded_image.tobytes()\n",
    "im_disp = widgets.Image(value=im_bytes, width=200, height=200)\n",
    "\n",
    "true_val = widgets.Label(value=f'True Label: N/A')\n",
    "pred_val = widgets.Label(value=f'Predicted Label: N/A')\n",
    "label_disp = widgets.VBox((true_val, pred_val))\n",
    "\n",
    "display.display(im_disp)\n",
    "display.display(label_disp)\n",
    "\n",
    "for data, target in test_loader:\n",
    "    im = data.squeeze().cpu().detach().numpy()\n",
    "    rows, cols = im.shape\n",
    "    im = (im - im.min())\n",
    "    im = (im/im.max() * 255).astype('uint8')\n",
    "    curr_im = np.ones(im.shape, dtype=np.uint8)*255\n",
    "    \n",
    "    true_val.value = f'True Label: {target.item()}'\n",
    "\n",
    "    if torch.cuda.is_available():\n",
    "        data, target = data.cuda(), target.cuda()\n",
    "    \n",
    "    data = data.view(data.size()[0], 1, -1)\n",
    "    \n",
    "    for i in range(data.size()[2]):\n",
    "        num_samples += 1\n",
    "        curr_row = i // cols\n",
    "        curr_col = i % cols\n",
    "        \n",
    "        im_queue.append(im[curr_row,curr_col])\n",
    "        im_queue = im_queue[1:]\n",
    "        \n",
    "        data_queue = data_queue.roll(-1, 2)\n",
    "        data_queue[:,:,-1] = data[:,:,i]\n",
    "        \n",
    "        curr_im = np.array(im_queue, dtype=np.uint8).reshape((28,28))\n",
    "        _, encoded_image = cv2.imencode('.png', curr_im)\n",
    "        im_bytes = encoded_image.tobytes()\n",
    "        im_disp.value = im_bytes\n",
    "        \n",
    "        ort_inputs = {ort_session.get_inputs()[0].name: to_numpy(data_queue)}\n",
    "        ort_outs = ort_session.run(None, ort_inputs)\n",
    "        pred = ort_outs[0].argmax(axis=1)[0]\n",
    "        # output = model(data_queue)\n",
    "        # pred = output.max(1, keepdim=True)[1] #max returns values and indices\n",
    "        \n",
    "        if num_samples > model.receptive_field:\n",
    "            pred_val.value = f'Predicted Label: {pred.item()}'\n",
    "    \n",
    "        time.sleep(0.001)\n",
    "    \n",
    "    \n",
    "    for i in np.zeros(np.random.randint(50, 200)):\n",
    "        im_queue.append(0)\n",
    "        im_queue = im_queue[1:]\n",
    "        data_queue = data_queue.roll(-1, 2)\n",
    "        data_queue[:,:,-1] = i\n",
    "        \n",
    "        curr_im = np.array(im_queue, dtype=np.uint8).reshape((28,28)) \n",
    "        _, encoded_image = cv2.imencode('.png', curr_im)\n",
    "        im_bytes = encoded_image.tobytes()\n",
    "        im_disp.value = im_bytes\n",
    "        true_val.value = f'True Label: N/A'\n",
    "        num_samples += 1\n",
    "\n",
    "        ort_inputs = {ort_session.get_inputs()[0].name: to_numpy(data_queue)}\n",
    "        ort_outs = ort_session.run(None, ort_inputs)\n",
    "        pred = ort_outs[0].argmax(axis=1)[0]\n",
    "        \n",
    "        if num_samples > model.receptive_field:\n",
    "            pred_val.value = f'Predicted Label: {pred.item()}'\n",
    "        "
   ]
  },
  {
   "cell_type": "code",
   "execution_count": null,
   "id": "2733bc8a",
   "metadata": {},
   "outputs": [],
   "source": []
  },
  {
   "cell_type": "code",
   "execution_count": null,
   "id": "1a523685",
   "metadata": {},
   "outputs": [],
   "source": []
  },
  {
   "cell_type": "code",
   "execution_count": null,
   "id": "4ff5a6b8",
   "metadata": {},
   "outputs": [],
   "source": []
  },
  {
   "cell_type": "code",
   "execution_count": null,
   "id": "61fc9b95",
   "metadata": {},
   "outputs": [],
   "source": []
  },
  {
   "cell_type": "code",
   "execution_count": null,
   "id": "fc262eea",
   "metadata": {},
   "outputs": [],
   "source": []
  }
 ],
 "metadata": {
  "kernelspec": {
   "display_name": "Python 3",
   "language": "python",
   "name": "python3"
  },
  "language_info": {
   "codemirror_mode": {
    "name": "ipython",
    "version": 3
   },
   "file_extension": ".py",
   "mimetype": "text/x-python",
   "name": "python",
   "nbconvert_exporter": "python",
   "pygments_lexer": "ipython3",
   "version": "3.8.5"
  }
 },
 "nbformat": 4,
 "nbformat_minor": 5
}
