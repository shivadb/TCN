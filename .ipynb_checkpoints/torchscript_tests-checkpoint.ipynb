{
 "cells": [
  {
   "cell_type": "code",
   "execution_count": 1,
   "metadata": {},
   "outputs": [],
   "source": [
    "import torch\n",
    "import torch.nn as nn\n",
    "from torch.nn.utils import weight_norm"
   ]
  },
  {
   "cell_type": "code",
   "execution_count": 2,
   "metadata": {},
   "outputs": [],
   "source": [
    "class TensorCache(nn.Module):\n",
    "    def __init__(self, tensor):\n",
    "        super(TensorCache, self).__init__()\n",
    "        self.register_buffer('cache', tensor)\n",
    "    \n",
    "    def forward(self, x):\n",
    "        # assert x.size() == self.cache[:,:,0:1].size()\n",
    "        cache_update = torch.cat((self.cache[:,:,1:], x.detach()), dim=2)\n",
    "        self.cache = cache_update\n",
    "        return self.cache"
   ]
  },
  {
   "cell_type": "code",
   "execution_count": 3,
   "metadata": {},
   "outputs": [],
   "source": [
    "tc = TensorCache(torch.zeros(1,1,10))\n",
    "tc_script = torch.jit.script(tc)\n",
    "tc_trace = torch.jit.trace(tc, torch.tensor([[[0]]]))\n"
   ]
  },
  {
   "cell_type": "code",
   "execution_count": 4,
   "metadata": {},
   "outputs": [
    {
     "name": "stdout",
     "output_type": "stream",
     "text": [
      "Original:\n",
      "tensor([[[0., 0., 0., 0., 0., 0., 0., 0., 0., 1.]]])\n",
      "tensor([[[0., 0., 0., 0., 0., 0., 0., 0., 1., 2.]]])\n",
      "tensor([[[0., 0., 0., 0., 0., 0., 0., 1., 2., 3.]]])\n",
      "tensor([[[0., 0., 0., 0., 0., 0., 1., 2., 3., 4.]]])\n",
      "\n",
      "Convert using script:\n",
      "tensor([[[0., 0., 0., 0., 0., 0., 0., 0., 0., 1.]]])\n",
      "tensor([[[0., 0., 0., 0., 0., 0., 0., 0., 1., 2.]]])\n",
      "tensor([[[0., 0., 0., 0., 0., 0., 0., 1., 2., 3.]]])\n",
      "tensor([[[0., 0., 0., 0., 0., 0., 1., 2., 3., 4.]]])\n",
      "\n",
      "Convert using trace:\n",
      "tensor([[[0., 0., 0., 0., 0., 0., 0., 0., 0., 1.]]])\n",
      "tensor([[[0., 0., 0., 0., 0., 0., 0., 0., 0., 2.]]])\n",
      "tensor([[[0., 0., 0., 0., 0., 0., 0., 0., 0., 3.]]])\n",
      "tensor([[[0., 0., 0., 0., 0., 0., 0., 0., 0., 4.]]])\n"
     ]
    }
   ],
   "source": [
    "print('Original:')\n",
    "for inp in [1,2,3,4]:\n",
    "    print(tc(torch.tensor([[[inp]]])))\n",
    "\n",
    "print()\n",
    "print('Convert using script:')\n",
    "for inp in [1,2,3,4]:\n",
    "    print(tc_script(torch.tensor([[[inp]]])))\n",
    "    \n",
    "print('')\n",
    "print('Convert using trace:')\n",
    "for inp in [1,2,3,4]:\n",
    "    print(tc_trace(torch.tensor([[[inp]]])))"
   ]
  },
  {
   "cell_type": "code",
   "execution_count": 19,
   "metadata": {},
   "outputs": [
    {
     "ename": "RuntimeError",
     "evalue": "\nTried to access nonexistent attribute or method 'stage1' of type 'Tensor (inferred)'.:\n  File \"<ipython-input-19-c5fa523e36a1>\", line 54\n        # out = self.stage1(self.cache1(x)[:x.size()[0], :, :])\n        # out = self.stage2(self.cache2(out)[:x.size()[0], :, :])\n        out1 = self.stage1(self.cache1(x))\n               ~~~~~~~~~~~ <--- HERE\n        out2 = self.stage2(self.cache2(out1))\n",
     "output_type": "error",
     "traceback": [
      "\u001b[0;31m---------------------------------------------------------------------------\u001b[0m",
      "\u001b[0;31mRuntimeError\u001b[0m                              Traceback (most recent call last)",
      "\u001b[0;32m<ipython-input-19-c5fa523e36a1>\u001b[0m in \u001b[0;36m<module>\u001b[0;34m\u001b[0m\n\u001b[0;32m----> 1\u001b[0;31m \u001b[0;32mclass\u001b[0m \u001b[0mTemporalInferenceBlock\u001b[0m\u001b[0;34m(\u001b[0m\u001b[0mnn\u001b[0m\u001b[0;34m.\u001b[0m\u001b[0mModule\u001b[0m\u001b[0;34m)\u001b[0m\u001b[0;34m:\u001b[0m\u001b[0;34m\u001b[0m\u001b[0;34m\u001b[0m\u001b[0m\n\u001b[0m\u001b[1;32m      2\u001b[0m     \u001b[0;32mdef\u001b[0m \u001b[0m__init__\u001b[0m\u001b[0;34m(\u001b[0m\u001b[0mself\u001b[0m\u001b[0;34m,\u001b[0m \u001b[0mn_inputs\u001b[0m\u001b[0;34m,\u001b[0m \u001b[0mn_outputs\u001b[0m\u001b[0;34m,\u001b[0m \u001b[0mkernel_size\u001b[0m\u001b[0;34m,\u001b[0m \u001b[0mstride\u001b[0m\u001b[0;34m,\u001b[0m \u001b[0mdilation\u001b[0m\u001b[0;34m,\u001b[0m \u001b[0mbatch_size\u001b[0m\u001b[0;34m=\u001b[0m\u001b[0;36m1\u001b[0m\u001b[0;34m)\u001b[0m\u001b[0;34m:\u001b[0m\u001b[0;34m\u001b[0m\u001b[0;34m\u001b[0m\u001b[0m\n\u001b[1;32m      3\u001b[0m         \u001b[0msuper\u001b[0m\u001b[0;34m(\u001b[0m\u001b[0mTemporalInferenceBlock\u001b[0m\u001b[0;34m,\u001b[0m \u001b[0mself\u001b[0m\u001b[0;34m)\u001b[0m\u001b[0;34m.\u001b[0m\u001b[0m__init__\u001b[0m\u001b[0;34m(\u001b[0m\u001b[0;34m)\u001b[0m\u001b[0;34m\u001b[0m\u001b[0;34m\u001b[0m\u001b[0m\n\u001b[1;32m      4\u001b[0m         \u001b[0mself\u001b[0m\u001b[0;34m.\u001b[0m\u001b[0min_ch\u001b[0m\u001b[0;34m,\u001b[0m \u001b[0mself\u001b[0m\u001b[0;34m.\u001b[0m\u001b[0mk\u001b[0m\u001b[0;34m,\u001b[0m \u001b[0mself\u001b[0m\u001b[0;34m.\u001b[0m\u001b[0md\u001b[0m \u001b[0;34m=\u001b[0m \u001b[0mn_inputs\u001b[0m\u001b[0;34m,\u001b[0m \u001b[0mkernel_size\u001b[0m\u001b[0;34m,\u001b[0m \u001b[0mdilation\u001b[0m\u001b[0;34m\u001b[0m\u001b[0;34m\u001b[0m\u001b[0m\n\u001b[1;32m      5\u001b[0m \u001b[0;34m\u001b[0m\u001b[0m\n",
      "\u001b[0;32m<ipython-input-19-c5fa523e36a1>\u001b[0m in \u001b[0;36mTemporalInferenceBlock\u001b[0;34m()\u001b[0m\n\u001b[1;32m     45\u001b[0m         \u001b[0mself\u001b[0m\u001b[0;34m.\u001b[0m\u001b[0mcache2\u001b[0m\u001b[0;34m.\u001b[0m\u001b[0mcache\u001b[0m \u001b[0;34m=\u001b[0m \u001b[0mtorch\u001b[0m\u001b[0;34m.\u001b[0m\u001b[0mzeros\u001b[0m\u001b[0;34m(\u001b[0m\u001b[0mself\u001b[0m\u001b[0;34m.\u001b[0m\u001b[0mcache2\u001b[0m\u001b[0;34m.\u001b[0m\u001b[0mcache\u001b[0m\u001b[0;34m.\u001b[0m\u001b[0msize\u001b[0m\u001b[0;34m(\u001b[0m\u001b[0;34m)\u001b[0m\u001b[0;34m)\u001b[0m\u001b[0;34m.\u001b[0m\u001b[0mto\u001b[0m\u001b[0;34m(\u001b[0m\u001b[0mdevice\u001b[0m\u001b[0;34m)\u001b[0m\u001b[0;34m\u001b[0m\u001b[0;34m\u001b[0m\u001b[0m\n\u001b[1;32m     46\u001b[0m \u001b[0;34m\u001b[0m\u001b[0m\n\u001b[0;32m---> 47\u001b[0;31m     \u001b[0;34m@\u001b[0m\u001b[0mtorch\u001b[0m\u001b[0;34m.\u001b[0m\u001b[0mjit\u001b[0m\u001b[0;34m.\u001b[0m\u001b[0mscript\u001b[0m\u001b[0;34m\u001b[0m\u001b[0;34m\u001b[0m\u001b[0m\n\u001b[0m\u001b[1;32m     48\u001b[0m     \u001b[0;32mdef\u001b[0m \u001b[0mforward\u001b[0m\u001b[0;34m(\u001b[0m\u001b[0mself\u001b[0m\u001b[0;34m,\u001b[0m \u001b[0mx\u001b[0m\u001b[0;34m)\u001b[0m\u001b[0;34m:\u001b[0m\u001b[0;34m\u001b[0m\u001b[0;34m\u001b[0m\u001b[0m\n\u001b[1;32m     49\u001b[0m         '''\n",
      "\u001b[0;32m~/.local/lib/python3.7/site-packages/torch/jit/_script.py\u001b[0m in \u001b[0;36mscript\u001b[0;34m(obj, optimize, _frames_up, _rcb)\u001b[0m\n\u001b[1;32m    938\u001b[0m             \u001b[0m_rcb\u001b[0m \u001b[0;34m=\u001b[0m \u001b[0m_jit_internal\u001b[0m\u001b[0;34m.\u001b[0m\u001b[0mcreateResolutionCallbackFromClosure\u001b[0m\u001b[0;34m(\u001b[0m\u001b[0mobj\u001b[0m\u001b[0;34m)\u001b[0m\u001b[0;34m\u001b[0m\u001b[0;34m\u001b[0m\u001b[0m\n\u001b[1;32m    939\u001b[0m         fn = torch._C._jit_script_compile(\n\u001b[0;32m--> 940\u001b[0;31m             \u001b[0mqualified_name\u001b[0m\u001b[0;34m,\u001b[0m \u001b[0mast\u001b[0m\u001b[0;34m,\u001b[0m \u001b[0m_rcb\u001b[0m\u001b[0;34m,\u001b[0m \u001b[0mget_default_args\u001b[0m\u001b[0;34m(\u001b[0m\u001b[0mobj\u001b[0m\u001b[0;34m)\u001b[0m\u001b[0;34m\u001b[0m\u001b[0;34m\u001b[0m\u001b[0m\n\u001b[0m\u001b[1;32m    941\u001b[0m         )\n\u001b[1;32m    942\u001b[0m         \u001b[0;31m# Forward docstrings\u001b[0m\u001b[0;34m\u001b[0m\u001b[0;34m\u001b[0m\u001b[0;34m\u001b[0m\u001b[0m\n",
      "\u001b[0;31mRuntimeError\u001b[0m: \nTried to access nonexistent attribute or method 'stage1' of type 'Tensor (inferred)'.:\n  File \"<ipython-input-19-c5fa523e36a1>\", line 54\n        # out = self.stage1(self.cache1(x)[:x.size()[0], :, :])\n        # out = self.stage2(self.cache2(out)[:x.size()[0], :, :])\n        out1 = self.stage1(self.cache1(x))\n               ~~~~~~~~~~~ <--- HERE\n        out2 = self.stage2(self.cache2(out1))\n"
     ]
    }
   ],
   "source": [
    "class TemporalInferenceBlock(nn.Module):\n",
    "    def __init__(self, n_inputs, n_outputs, kernel_size, stride, dilation, batch_size=1):\n",
    "        super(TemporalInferenceBlock, self).__init__()\n",
    "        self.in_ch, self.k, self.d = n_inputs, kernel_size, dilation\n",
    "\n",
    "        self.conv1 = weight_norm(nn.Conv1d(n_inputs, n_outputs, kernel_size,\n",
    "                                           stride=stride, padding=0, dilation=dilation))\n",
    "        self.relu1 = nn.ReLU()\n",
    "\n",
    "        self.conv2 = weight_norm(nn.Conv1d(n_outputs, n_outputs, kernel_size,\n",
    "                                           stride=stride, padding=0, dilation=dilation))\n",
    "        self.relu2 = nn.ReLU()\n",
    "\n",
    "        self.batch_size = batch_size\n",
    "\n",
    "        self.cache1 = TensorCache(torch.zeros(\n",
    "            batch_size, \n",
    "            self.conv1.in_channels, \n",
    "            (self.conv1.kernel_size[0]-1)*self.conv1.dilation[0] + 1\n",
    "            ))\n",
    "        \n",
    "        self.cache2 = TensorCache(torch.zeros(\n",
    "            batch_size, \n",
    "            self.conv2.in_channels, \n",
    "            (self.conv2.kernel_size[0]-1)*self.conv2.dilation[0] + 1\n",
    "            ))\n",
    "        \n",
    "        self.stage1 = nn.Sequential(self.conv1, self.relu1)\n",
    "        self.stage2 = nn.Sequential(self.conv2, self.relu2)\n",
    "\n",
    "\n",
    "        self.downsample = nn.Conv1d(n_inputs, n_outputs, 1) if n_inputs != n_outputs else nn.Identity()\n",
    "        self.relu = nn.ReLU()\n",
    "        self.init_weights()\n",
    "    \n",
    "    def init_weights(self):\n",
    "        self.conv1.weight.data.normal_(0, 0.01)\n",
    "        self.conv2.weight.data.normal_(0, 0.01)\n",
    "        if isinstance(self.downsample, nn.modules.conv.Conv1d):\n",
    "            self.downsample.weight.data.normal_(0, 0.01)\n",
    "\n",
    "    def reset_cache(self):\n",
    "        device = next(self.parameters()).device\n",
    "        self.cache1.cache = torch.zeros(self.cache1.cache.size()).to(device)\n",
    "        self.cache2.cache = torch.zeros(self.cache2.cache.size()).to(device)\n",
    "    \n",
    "    def forward(self, x):\n",
    "        '''\n",
    "        x is of shape (B, CH, 1)\n",
    "        '''\n",
    "        # out = self.stage1(self.cache1(x)[:x.size()[0], :, :])\n",
    "        # out = self.stage2(self.cache2(out)[:x.size()[0], :, :])\n",
    "        out1 = self.stage1(self.cache1(x))\n",
    "        out2 = self.stage2(self.cache2(out1))\n",
    "\n",
    "        res = self.downsample(x)\n",
    "        out = self.relu(out2 + res)\n",
    "        # print(f'\\t res shape: {res.size()}')\n",
    "        #         print(f'x: {x} \\n c1: {self.cache1.cache} \\n out1: {out1} \\n c2: {self.cache2.cache} \\n out2: {out2} \\n \\n')\n",
    "\n",
    "        return x, self.cache1.cache, out1, self.cache2.cache, out2, res, out"
   ]
  },
  {
   "cell_type": "code",
   "execution_count": 15,
   "metadata": {},
   "outputs": [
    {
     "name": "stderr",
     "output_type": "stream",
     "text": [
      "/home/s1bhavsa/.local/lib/python3.7/site-packages/torch/jit/_trace.py:966: TracerWarning: Output nr 4. of the traced function does not match the corresponding output of the Python function. Detailed error:\n",
      "With rtol=1e-05 and atol=1e-05, found 2 element(s) (out of 3) whose difference(s) exceeded the margin of error (including 0 nan comparisons). The greatest difference was 0.5023746490478516 (0.0 vs. 0.5023746490478516), which occurred at index (0, 0, 0).\n",
      "  _module_class,\n"
     ]
    }
   ],
   "source": [
    "tblock = TemporalInferenceBlock(1,1,3,1,1,1)\n",
    "tblock_script = torch.jit.script(tblock)\n",
    "tblock_trace = torch.jit.trace(tblock, torch.tensor([[[0]]]))"
   ]
  },
  {
   "cell_type": "code",
   "execution_count": 16,
   "metadata": {},
   "outputs": [
    {
     "name": "stdout",
     "output_type": "stream",
     "text": [
      "x: tensor([[[1]]]) \n",
      " c1: tensor([[[0., 0., 1.]]]) \n",
      " out1: tensor([[[0.8534]]], grad_fn=<ReluBackward0>) \n",
      " c2: tensor([[[0.5024, 0.5024, 0.8534]]]) \n",
      " out2: tensor([[[0.]]], grad_fn=<ReluBackward0>), res: tensor([[[1]]]) \n",
      " out: tensor([[[1.]]], grad_fn=<ReluBackward0>) \n",
      " \n",
      "\n",
      "x: tensor([[[2]]]) \n",
      " c1: tensor([[[0., 1., 2.]]]) \n",
      " out1: tensor([[[1.4260]]], grad_fn=<ReluBackward0>) \n",
      " c2: tensor([[[0.5024, 0.8534, 1.4260]]]) \n",
      " out2: tensor([[[0.]]], grad_fn=<ReluBackward0>), res: tensor([[[2]]]) \n",
      " out: tensor([[[2.]]], grad_fn=<ReluBackward0>) \n",
      " \n",
      "\n",
      "x: tensor([[[3]]]) \n",
      " c1: tensor([[[1., 2., 3.]]]) \n",
      " out1: tensor([[[2.0169]]], grad_fn=<ReluBackward0>) \n",
      " c2: tensor([[[0.8534, 1.4260, 2.0169]]]) \n",
      " out2: tensor([[[0.]]], grad_fn=<ReluBackward0>), res: tensor([[[3]]]) \n",
      " out: tensor([[[3.]]], grad_fn=<ReluBackward0>) \n",
      " \n",
      "\n",
      "x: tensor([[[4]]]) \n",
      " c1: tensor([[[2., 3., 4.]]]) \n",
      " out1: tensor([[[2.6079]]], grad_fn=<ReluBackward0>) \n",
      " c2: tensor([[[1.4260, 2.0169, 2.6079]]]) \n",
      " out2: tensor([[[0.]]], grad_fn=<ReluBackward0>), res: tensor([[[4]]]) \n",
      " out: tensor([[[4.]]], grad_fn=<ReluBackward0>) \n",
      " \n",
      "\n"
     ]
    }
   ],
   "source": [
    "for inp in [1,2,3,4]:\n",
    "    x, c1, out1, c2, out2, res, out = tblock(torch.tensor([[[inp]]]))\n",
    "    print(f'x: {x} \\n c1: {c1} \\n out1: {out1} \\n c2: {c2} \\n out2: {out2}, res: {res} \\n out: {out} \\n \\n')"
   ]
  },
  {
   "cell_type": "code",
   "execution_count": 17,
   "metadata": {},
   "outputs": [
    {
     "name": "stdout",
     "output_type": "stream",
     "text": [
      "x: tensor([[[1]]]) \n",
      " c1: tensor([[[0., 0., 1.]]]) \n",
      " out1: tensor([[[0.5109]]], grad_fn=<ReluBackward0>) \n",
      " c2: tensor([[[0.0000, 0.0000, 0.5109]]]) \n",
      " out2: tensor([[[0.1303]]], grad_fn=<ReluBackward0>), res: tensor([[[1]]]) \n",
      " out: tensor([[[1.1303]]], grad_fn=<ReluBackward0>) \n",
      " \n",
      "\n",
      "x: tensor([[[2]]]) \n",
      " c1: tensor([[[0., 1., 2.]]]) \n",
      " out1: tensor([[[0.5139]]], grad_fn=<ReluBackward0>) \n",
      " c2: tensor([[[0.0000, 0.5109, 0.5139]]]) \n",
      " out2: tensor([[[0.1276]]], grad_fn=<DifferentiableGraphBackward>), res: tensor([[[2]]]) \n",
      " out: tensor([[[2.1276]]], grad_fn=<DifferentiableGraphBackward>) \n",
      " \n",
      "\n",
      "x: tensor([[[3]]]) \n",
      " c1: tensor([[[1., 2., 3.]]]) \n",
      " out1: tensor([[[0.5055]]], grad_fn=<ReluBackward0>) \n",
      " c2: tensor([[[0.5109, 0.5139, 0.5055]]]) \n",
      " out2: tensor([[[0.1293]]], grad_fn=<DifferentiableGraphBackward>), res: tensor([[[3]]]) \n",
      " out: tensor([[[3.1293]]], grad_fn=<DifferentiableGraphBackward>) \n",
      " \n",
      "\n",
      "x: tensor([[[4]]]) \n",
      " c1: tensor([[[2., 3., 4.]]]) \n",
      " out1: tensor([[[0.4972]]], grad_fn=<ReluBackward0>) \n",
      " c2: tensor([[[0.5139, 0.5055, 0.4972]]]) \n",
      " out2: tensor([[[0.1293]]], grad_fn=<DifferentiableGraphBackward>), res: tensor([[[4]]]) \n",
      " out: tensor([[[4.1293]]], grad_fn=<DifferentiableGraphBackward>) \n",
      " \n",
      "\n"
     ]
    }
   ],
   "source": [
    "for inp in [1,2,3,4]:\n",
    "    x, c1, out1, c2, out2, res, out = tblock_script(torch.tensor([[[inp]]]))\n",
    "    print(f'x: {x} \\n c1: {c1} \\n out1: {out1} \\n c2: {c2} \\n out2: {out2}, res: {res} \\n out: {out} \\n \\n')"
   ]
  },
  {
   "cell_type": "code",
   "execution_count": 18,
   "metadata": {},
   "outputs": [
    {
     "name": "stdout",
     "output_type": "stream",
     "text": [
      "x: tensor([[[1]]]) \n",
      " c1: tensor([[[0., 0., 1.]]]) \n",
      " out1: tensor([[[0.8534]]], grad_fn=<ReluBackward0>) \n",
      " c2: tensor([[[0.0000, 0.0000, 0.8534]]]) \n",
      " out2: tensor([[[0.]]], grad_fn=<ReluBackward0>), res: tensor([[[1]]]) \n",
      " out: tensor([[[1.]]], grad_fn=<ReluBackward0>) \n",
      " \n",
      "\n",
      "x: tensor([[[2]]]) \n",
      " c1: tensor([[[0., 0., 2.]]]) \n",
      " out1: tensor([[[1.2045]]], grad_fn=<ReluBackward0>) \n",
      " c2: tensor([[[0.0000, 0.0000, 1.2045]]]) \n",
      " out2: tensor([[[0.]]], grad_fn=<ReluBackward0>), res: tensor([[[2]]]) \n",
      " out: tensor([[[2.]]], grad_fn=<ReluBackward0>) \n",
      " \n",
      "\n",
      "x: tensor([[[3]]]) \n",
      " c1: tensor([[[0., 0., 3.]]]) \n",
      " out1: tensor([[[1.5556]]], grad_fn=<ReluBackward0>) \n",
      " c2: tensor([[[0.0000, 0.0000, 1.5556]]]) \n",
      " out2: tensor([[[0.]]], grad_fn=<ReluBackward0>), res: tensor([[[3]]]) \n",
      " out: tensor([[[3.]]], grad_fn=<ReluBackward0>) \n",
      " \n",
      "\n",
      "x: tensor([[[4]]]) \n",
      " c1: tensor([[[0., 0., 4.]]]) \n",
      " out1: tensor([[[1.9066]]], grad_fn=<ReluBackward0>) \n",
      " c2: tensor([[[0.0000, 0.0000, 1.9066]]]) \n",
      " out2: tensor([[[0.]]], grad_fn=<ReluBackward0>), res: tensor([[[4]]]) \n",
      " out: tensor([[[4.]]], grad_fn=<ReluBackward0>) \n",
      " \n",
      "\n"
     ]
    }
   ],
   "source": [
    "for inp in [1,2,3,4]:\n",
    "    x, c1, out1, c2, out2, res, out = tblock_trace(torch.tensor([[[inp]]]))\n",
    "    print(f'x: {x} \\n c1: {c1} \\n out1: {out1} \\n c2: {c2} \\n out2: {out2}, res: {res} \\n out: {out} \\n \\n')"
   ]
  }
 ],
 "metadata": {
  "kernelspec": {
   "display_name": "Python 3",
   "language": "python",
   "name": "python3"
  },
  "language_info": {
   "codemirror_mode": {
    "name": "ipython",
    "version": 3
   },
   "file_extension": ".py",
   "mimetype": "text/x-python",
   "name": "python",
   "nbconvert_exporter": "python",
   "pygments_lexer": "ipython3",
   "version": "3.7.3"
  }
 },
 "nbformat": 4,
 "nbformat_minor": 2
}
