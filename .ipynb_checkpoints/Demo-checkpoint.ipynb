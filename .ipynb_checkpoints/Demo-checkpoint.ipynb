{
 "cells": [
  {
   "cell_type": "code",
   "execution_count": 1,
   "metadata": {},
   "outputs": [],
   "source": [
    "%matplotlib inline\n",
    "import torch\n",
    "import torch.nn.functional as F\n",
    "import os, sys\n",
    "from pathlib import Path\n",
    "from TCN.mnist_pixel.utils import data_generator\n",
    "from TCN.mnist_pixel.model import TCN\n",
    "import numpy as np\n",
    "import matplotlib.pyplot as plt\n",
    "import pickle\n",
    "from IPython import display\n",
    "import ipywidgets as widgets\n",
    "from PIL import Image\n",
    "import io\n",
    "import cv2\n",
    "import time"
   ]
  },
  {
   "cell_type": "code",
   "execution_count": 2,
   "metadata": {},
   "outputs": [
    {
     "name": "stdout",
     "output_type": "stream",
     "text": [
      "Namespace(batch_size=64, clip=-1, cuda=True, dropout=0.05, epochs=50, ksize=7, levels=6, log_interval=100, lr=0.002, modelname='aug_k7l6', nhid=25, optim='Adam', permute=False, savedir=PosixPath('models'), savemodel=True, seed=-1, seq_augment=True)\n",
      "TCN/mnist_pixel/models/aug_k7l6.pt\n",
      "757\n"
     ]
    }
   ],
   "source": [
    "model_path = Path('./TCN/mnist_pixel/models')\n",
    "data_path = Path('./TCN/mnist_pixel/data/mnist')\n",
    "model_name = 'aug_k7l6'\n",
    "batch_size = 1\n",
    "in_channels = 1\n",
    "n_classes = 10\n",
    "\n",
    "args = pickle.load(open(model_path / (model_name+'_args.pkl'), 'rb'))\n",
    "print(args)\n",
    "channel_sizes = [args.nhid] * args.levels\n",
    "\n",
    "print(model_path / (model_name+'.pt'))\n",
    "\n",
    "_, test_loader = data_generator(data_path, batch_size)\n",
    "model = TCN(in_channels, n_classes, channel_sizes, kernel_size=args.ksize, inference=True)\n",
    "model.load_state_dict(torch.load(model_path / (model_name+'.pt')), strict=False)\n",
    "model.eval()\n",
    "\n",
    "print(model.receptive_field)\n",
    "\n",
    "if torch.cuda.is_available():\n",
    "    model.cuda()\n",
    "    \n",
    "# model.set_fast_inference(batch_size)"
   ]
  },
  {
   "cell_type": "code",
   "execution_count": 3,
   "metadata": {
    "collapsed": true
   },
   "outputs": [
    {
     "data": {
      "text/plain": [
       "tensor([[[-1.2557e-02,  2.7431e-01, -2.0780e-01, -4.0843e-01,  1.9649e-02,\n",
       "           3.0148e-01,  5.2690e-02]],\n",
       "\n",
       "        [[-3.0372e-01,  3.5627e-01,  2.3125e-01, -2.2784e-01, -1.7516e-01,\n",
       "           3.6436e-02,  1.3082e-01]],\n",
       "\n",
       "        [[ 3.3507e-01,  2.4562e-01, -2.1285e-01, -2.3298e-01, -4.3068e-01,\n",
       "          -4.4790e-01,  1.1296e-01]],\n",
       "\n",
       "        [[-4.5155e-01,  5.3474e-02,  6.6075e-02,  1.7959e-01,  6.8344e-02,\n",
       "           6.2613e-02, -5.0894e-01]],\n",
       "\n",
       "        [[ 1.0765e-02, -3.1726e-02,  2.7537e-01, -2.4272e-01, -3.9725e-01,\n",
       "           3.7962e-01,  2.0172e-02]],\n",
       "\n",
       "        [[-3.6972e-01, -1.4363e-01, -1.6847e-01, -1.9065e-01, -2.2254e-01,\n",
       "          -1.5158e-01,  2.1970e-01]],\n",
       "\n",
       "        [[-9.4216e-02,  1.9399e-01,  2.6476e-01, -4.0286e-01, -3.4270e-01,\n",
       "           4.5129e-01,  2.3932e-02]],\n",
       "\n",
       "        [[ 3.1543e-01, -1.4889e-01, -3.6360e-01,  6.5515e-02,  2.6093e-01,\n",
       "          -2.7408e-01,  2.9647e-01]],\n",
       "\n",
       "        [[-1.9951e-01,  1.5341e-01,  3.5835e-01, -1.6046e-01, -3.5035e-01,\n",
       "           1.0461e-02,  2.1785e-01]],\n",
       "\n",
       "        [[ 5.2848e-02, -6.4617e-02, -3.0783e-01,  3.8404e-01, -4.0696e-02,\n",
       "           2.9952e-01,  2.9770e-01]],\n",
       "\n",
       "        [[-3.7096e-01,  3.7800e-01,  1.7858e-01, -2.3664e-01,  1.7867e-01,\n",
       "           1.1055e-01,  6.7001e-01]],\n",
       "\n",
       "        [[ 3.1647e-02,  6.1530e-02,  6.7548e-02,  2.4621e-02,  4.7348e-01,\n",
       "           3.0199e-01,  1.9634e-01]],\n",
       "\n",
       "        [[-4.9112e-01, -1.7282e-01,  1.2961e-01,  2.8835e-01,  3.2197e-01,\n",
       "          -1.4706e-01, -4.5083e-01]],\n",
       "\n",
       "        [[-6.9365e-01,  2.5478e-02, -3.7525e-02, -9.8145e-02,  4.9331e-02,\n",
       "          -7.4186e-02, -5.6878e-01]],\n",
       "\n",
       "        [[-1.0665e-02, -3.8455e-01,  3.9686e-01,  6.7456e-02, -1.2754e-01,\n",
       "           4.8338e-01,  4.1312e-01]],\n",
       "\n",
       "        [[ 5.1625e-01,  1.3217e-02,  2.6415e-01, -2.5457e-01, -1.4299e-01,\n",
       "          -8.7017e-02, -3.4623e-01]],\n",
       "\n",
       "        [[ 7.1622e-01,  7.7086e-02,  2.9282e-01, -7.4240e-02, -3.2560e-03,\n",
       "           3.0706e-01, -3.1110e-01]],\n",
       "\n",
       "        [[-3.7213e-01, -2.2088e-01, -1.0426e-01,  1.8065e-01,  2.2331e-01,\n",
       "           2.7785e-01, -5.5552e-02]],\n",
       "\n",
       "        [[ 3.5458e-01,  5.4918e-02, -4.0978e-01,  2.9887e-01,  2.3763e-01,\n",
       "          -3.9904e-01,  1.9454e-01]],\n",
       "\n",
       "        [[ 4.1588e-01,  3.6842e-01,  3.6732e-01,  3.6061e-02,  1.6187e-01,\n",
       "          -3.2056e-02,  1.0143e-01]],\n",
       "\n",
       "        [[ 4.8114e-01,  9.5310e-02,  3.4024e-01,  1.3149e-04, -1.4235e-01,\n",
       "          -2.7304e-01, -2.5295e-01]],\n",
       "\n",
       "        [[-2.3114e-01,  2.1909e-01,  4.1701e-01,  9.7721e-02, -9.0811e-02,\n",
       "          -2.5460e-01, -3.4036e-01]],\n",
       "\n",
       "        [[-2.3505e-02, -5.3878e-02, -3.4716e-01,  5.2397e-02,  5.0393e-01,\n",
       "           1.0528e-02, -3.5842e-01]],\n",
       "\n",
       "        [[-1.6264e-01,  1.2979e-01,  2.1475e-01, -2.0523e-01, -5.0887e-01,\n",
       "           4.1546e-01,  3.5072e-02]],\n",
       "\n",
       "        [[ 4.6400e-01, -4.1300e-01, -6.1543e-03,  2.4449e-01,  2.3792e-01,\n",
       "          -2.8330e-01,  3.6215e-01]]], device='cuda:0')"
      ]
     },
     "execution_count": 3,
     "metadata": {},
     "output_type": "execute_result"
    }
   ],
   "source": [
    "state_dict = torch.load(model_path / (model_name+'.pt'))\n",
    "state_dict['tcn.network.0.net.0.weight_v']"
   ]
  },
  {
   "cell_type": "code",
   "execution_count": 10,
   "metadata": {
    "collapsed": true
   },
   "outputs": [
    {
     "data": {
      "text/plain": [
       "odict_keys(['tcn.network.0.conv1.bias', 'tcn.network.0.conv1.weight_g', 'tcn.network.0.conv1.weight_v', 'tcn.network.0.conv2.bias', 'tcn.network.0.conv2.weight_g', 'tcn.network.0.conv2.weight_v', 'tcn.network.0.net.0.bias', 'tcn.network.0.net.0.weight_g', 'tcn.network.0.net.0.weight_v', 'tcn.network.0.net.4.bias', 'tcn.network.0.net.4.weight_g', 'tcn.network.0.net.4.weight_v', 'tcn.network.0.downsample.weight', 'tcn.network.0.downsample.bias', 'tcn.network.1.conv1.bias', 'tcn.network.1.conv1.weight_g', 'tcn.network.1.conv1.weight_v', 'tcn.network.1.conv2.bias', 'tcn.network.1.conv2.weight_g', 'tcn.network.1.conv2.weight_v', 'tcn.network.1.net.0.bias', 'tcn.network.1.net.0.weight_g', 'tcn.network.1.net.0.weight_v', 'tcn.network.1.net.4.bias', 'tcn.network.1.net.4.weight_g', 'tcn.network.1.net.4.weight_v', 'tcn.network.2.conv1.bias', 'tcn.network.2.conv1.weight_g', 'tcn.network.2.conv1.weight_v', 'tcn.network.2.conv2.bias', 'tcn.network.2.conv2.weight_g', 'tcn.network.2.conv2.weight_v', 'tcn.network.2.net.0.bias', 'tcn.network.2.net.0.weight_g', 'tcn.network.2.net.0.weight_v', 'tcn.network.2.net.4.bias', 'tcn.network.2.net.4.weight_g', 'tcn.network.2.net.4.weight_v', 'tcn.network.3.conv1.bias', 'tcn.network.3.conv1.weight_g', 'tcn.network.3.conv1.weight_v', 'tcn.network.3.conv2.bias', 'tcn.network.3.conv2.weight_g', 'tcn.network.3.conv2.weight_v', 'tcn.network.3.net.0.bias', 'tcn.network.3.net.0.weight_g', 'tcn.network.3.net.0.weight_v', 'tcn.network.3.net.4.bias', 'tcn.network.3.net.4.weight_g', 'tcn.network.3.net.4.weight_v', 'tcn.network.4.conv1.bias', 'tcn.network.4.conv1.weight_g', 'tcn.network.4.conv1.weight_v', 'tcn.network.4.conv2.bias', 'tcn.network.4.conv2.weight_g', 'tcn.network.4.conv2.weight_v', 'tcn.network.4.net.0.bias', 'tcn.network.4.net.0.weight_g', 'tcn.network.4.net.0.weight_v', 'tcn.network.4.net.4.bias', 'tcn.network.4.net.4.weight_g', 'tcn.network.4.net.4.weight_v', 'tcn.network.5.conv1.bias', 'tcn.network.5.conv1.weight_g', 'tcn.network.5.conv1.weight_v', 'tcn.network.5.conv2.bias', 'tcn.network.5.conv2.weight_g', 'tcn.network.5.conv2.weight_v', 'tcn.network.5.net.0.bias', 'tcn.network.5.net.0.weight_g', 'tcn.network.5.net.0.weight_v', 'tcn.network.5.net.4.bias', 'tcn.network.5.net.4.weight_g', 'tcn.network.5.net.4.weight_v', 'linear.weight', 'linear.bias'])"
      ]
     },
     "execution_count": 10,
     "metadata": {},
     "output_type": "execute_result"
    }
   ],
   "source": [
    "state_dict.keys()"
   ]
  },
  {
   "cell_type": "code",
   "execution_count": 3,
   "metadata": {
    "collapsed": true
   },
   "outputs": [
    {
     "data": {
      "application/vnd.jupyter.widget-view+json": {
       "model_id": "8f98a6ae7f2c4e8c869fc4c3499484df",
       "version_major": 2,
       "version_minor": 0
      },
      "text/plain": [
       "Image(value=b'\\x89PNG\\r\\n\\x1a\\n\\x00\\x00\\x00\\rIHDR\\x00\\x00\\x00\\x1c\\x00\\x00\\x00\\x1c\\x08\\x00\\x00\\x00\\x00Wf\\x80H\\x…"
      ]
     },
     "metadata": {},
     "output_type": "display_data"
    },
    {
     "data": {
      "application/vnd.jupyter.widget-view+json": {
       "model_id": "01660bb346a342e8a638867ed7dae55b",
       "version_major": 2,
       "version_minor": 0
      },
      "text/plain": [
       "VBox(children=(Label(value='True Label: N/A'), Label(value='Predicted Label: N/A')))"
      ]
     },
     "metadata": {},
     "output_type": "display_data"
    },
    {
     "ename": "KeyboardInterrupt",
     "evalue": "",
     "output_type": "error",
     "traceback": [
      "\u001b[0;31m---------------------------------------------------------------------------\u001b[0m",
      "\u001b[0;31mKeyboardInterrupt\u001b[0m                         Traceback (most recent call last)",
      "\u001b[0;32m<ipython-input-3-70563155aba2>\u001b[0m in \u001b[0;36m<module>\u001b[0;34m\u001b[0m\n\u001b[1;32m     54\u001b[0m     \u001b[0;32mfor\u001b[0m \u001b[0mi\u001b[0m \u001b[0;32min\u001b[0m \u001b[0mnp\u001b[0m\u001b[0;34m.\u001b[0m\u001b[0mzeros\u001b[0m\u001b[0;34m(\u001b[0m\u001b[0mnp\u001b[0m\u001b[0;34m.\u001b[0m\u001b[0mrandom\u001b[0m\u001b[0;34m.\u001b[0m\u001b[0mrandint\u001b[0m\u001b[0;34m(\u001b[0m\u001b[0;36m50\u001b[0m\u001b[0;34m,\u001b[0m \u001b[0;36m200\u001b[0m\u001b[0;34m)\u001b[0m\u001b[0;34m)\u001b[0m\u001b[0;34m:\u001b[0m\u001b[0;34m\u001b[0m\u001b[0;34m\u001b[0m\u001b[0m\n\u001b[1;32m     55\u001b[0m         \u001b[0mnum_samples\u001b[0m \u001b[0;34m+=\u001b[0m \u001b[0;36m1\u001b[0m\u001b[0;34m\u001b[0m\u001b[0;34m\u001b[0m\u001b[0m\n\u001b[0;32m---> 56\u001b[0;31m         \u001b[0moutput\u001b[0m \u001b[0;34m=\u001b[0m \u001b[0mmodel\u001b[0m\u001b[0;34m.\u001b[0m\u001b[0msingle_forward\u001b[0m\u001b[0;34m(\u001b[0m\u001b[0mtorch\u001b[0m\u001b[0;34m.\u001b[0m\u001b[0mtensor\u001b[0m\u001b[0;34m(\u001b[0m\u001b[0;34m[\u001b[0m\u001b[0mi\u001b[0m\u001b[0;34m]\u001b[0m\u001b[0;34m,\u001b[0m \u001b[0mdtype\u001b[0m\u001b[0;34m=\u001b[0m\u001b[0mtorch\u001b[0m\u001b[0;34m.\u001b[0m\u001b[0mfloat\u001b[0m\u001b[0;34m)\u001b[0m\u001b[0;34m.\u001b[0m\u001b[0mcuda\u001b[0m\u001b[0;34m(\u001b[0m\u001b[0;34m)\u001b[0m\u001b[0;34m.\u001b[0m\u001b[0mview\u001b[0m\u001b[0;34m(\u001b[0m\u001b[0;36m1\u001b[0m\u001b[0;34m,\u001b[0m \u001b[0;36m1\u001b[0m\u001b[0;34m,\u001b[0m \u001b[0;36m1\u001b[0m\u001b[0;34m)\u001b[0m\u001b[0;34m)\u001b[0m\u001b[0;34m\u001b[0m\u001b[0;34m\u001b[0m\u001b[0m\n\u001b[0m\u001b[1;32m     57\u001b[0m         \u001b[0mpred\u001b[0m \u001b[0;34m=\u001b[0m \u001b[0moutput\u001b[0m\u001b[0;34m.\u001b[0m\u001b[0mmax\u001b[0m\u001b[0;34m(\u001b[0m\u001b[0;36m1\u001b[0m\u001b[0;34m,\u001b[0m \u001b[0mkeepdim\u001b[0m\u001b[0;34m=\u001b[0m\u001b[0;32mTrue\u001b[0m\u001b[0;34m)\u001b[0m\u001b[0;34m[\u001b[0m\u001b[0;36m1\u001b[0m\u001b[0;34m]\u001b[0m \u001b[0;31m#max returns values and indices\u001b[0m\u001b[0;34m\u001b[0m\u001b[0;34m\u001b[0m\u001b[0m\n\u001b[1;32m     58\u001b[0m         \u001b[0;32mif\u001b[0m \u001b[0mnum_samples\u001b[0m \u001b[0;34m>\u001b[0m \u001b[0mmodel\u001b[0m\u001b[0;34m.\u001b[0m\u001b[0mreceptive_field\u001b[0m\u001b[0;34m:\u001b[0m\u001b[0;34m\u001b[0m\u001b[0;34m\u001b[0m\u001b[0m\n",
      "\u001b[0;32m~/Git/TCN/TCN/mnist_pixel/model.py\u001b[0m in \u001b[0;36msingle_forward\u001b[0;34m(self, input)\u001b[0m\n\u001b[1;32m     20\u001b[0m \u001b[0;34m\u001b[0m\u001b[0m\n\u001b[1;32m     21\u001b[0m     \u001b[0;32mdef\u001b[0m \u001b[0msingle_forward\u001b[0m\u001b[0;34m(\u001b[0m\u001b[0mself\u001b[0m\u001b[0;34m,\u001b[0m \u001b[0minput\u001b[0m\u001b[0;34m)\u001b[0m\u001b[0;34m:\u001b[0m\u001b[0;34m\u001b[0m\u001b[0;34m\u001b[0m\u001b[0m\n\u001b[0;32m---> 22\u001b[0;31m         \u001b[0;32mreturn\u001b[0m \u001b[0mF\u001b[0m\u001b[0;34m.\u001b[0m\u001b[0mlog_softmax\u001b[0m\u001b[0;34m(\u001b[0m\u001b[0mself\u001b[0m\u001b[0;34m.\u001b[0m\u001b[0mlinear\u001b[0m\u001b[0;34m(\u001b[0m\u001b[0mself\u001b[0m\u001b[0;34m.\u001b[0m\u001b[0mtcn\u001b[0m\u001b[0;34m.\u001b[0m\u001b[0msingle_forward\u001b[0m\u001b[0;34m(\u001b[0m\u001b[0minput\u001b[0m\u001b[0;34m)\u001b[0m\u001b[0;34m.\u001b[0m\u001b[0msqueeze\u001b[0m\u001b[0;34m(\u001b[0m\u001b[0mdim\u001b[0m\u001b[0;34m=\u001b[0m\u001b[0;36m2\u001b[0m\u001b[0;34m)\u001b[0m\u001b[0;34m)\u001b[0m\u001b[0;34m,\u001b[0m \u001b[0mdim\u001b[0m\u001b[0;34m=\u001b[0m\u001b[0;36m1\u001b[0m\u001b[0;34m)\u001b[0m\u001b[0;34m\u001b[0m\u001b[0;34m\u001b[0m\u001b[0m\n\u001b[0m\u001b[1;32m     23\u001b[0m \u001b[0;34m\u001b[0m\u001b[0m\n\u001b[1;32m     24\u001b[0m     \u001b[0;32mdef\u001b[0m \u001b[0mfast_inference\u001b[0m\u001b[0;34m(\u001b[0m\u001b[0mself\u001b[0m\u001b[0;34m,\u001b[0m \u001b[0mbatch_size\u001b[0m\u001b[0;34m)\u001b[0m\u001b[0;34m:\u001b[0m\u001b[0;34m\u001b[0m\u001b[0;34m\u001b[0m\u001b[0m\n",
      "\u001b[0;32m~/Git/TCN/TCN/tcn.py\u001b[0m in \u001b[0;36msingle_forward\u001b[0;34m(self, x)\u001b[0m\n\u001b[1;32m    115\u001b[0m         \u001b[0mout\u001b[0m \u001b[0;34m=\u001b[0m \u001b[0mx\u001b[0m\u001b[0;34m\u001b[0m\u001b[0;34m\u001b[0m\u001b[0m\n\u001b[1;32m    116\u001b[0m         \u001b[0;32mfor\u001b[0m \u001b[0mi\u001b[0m\u001b[0;34m,\u001b[0m \u001b[0mblock\u001b[0m \u001b[0;32min\u001b[0m \u001b[0menumerate\u001b[0m\u001b[0;34m(\u001b[0m\u001b[0mself\u001b[0m\u001b[0;34m.\u001b[0m\u001b[0mnetwork\u001b[0m\u001b[0;34m)\u001b[0m\u001b[0;34m:\u001b[0m\u001b[0;34m\u001b[0m\u001b[0;34m\u001b[0m\u001b[0m\n\u001b[0;32m--> 117\u001b[0;31m             \u001b[0mout\u001b[0m \u001b[0;34m=\u001b[0m \u001b[0mblock\u001b[0m\u001b[0;34m.\u001b[0m\u001b[0msingle_forward\u001b[0m\u001b[0;34m(\u001b[0m\u001b[0mout\u001b[0m\u001b[0;34m)\u001b[0m\u001b[0;34m\u001b[0m\u001b[0;34m\u001b[0m\u001b[0m\n\u001b[0m\u001b[1;32m    118\u001b[0m             \u001b[0;31m# print(f'out {i} shape: {out.size()}')\u001b[0m\u001b[0;34m\u001b[0m\u001b[0;34m\u001b[0m\u001b[0;34m\u001b[0m\u001b[0m\n\u001b[1;32m    119\u001b[0m             \u001b[0;31m# print()\u001b[0m\u001b[0;34m\u001b[0m\u001b[0;34m\u001b[0m\u001b[0;34m\u001b[0m\u001b[0m\n",
      "\u001b[0;32m~/Git/TCN/TCN/tcn.py\u001b[0m in \u001b[0;36msingle_forward\u001b[0;34m(self, x)\u001b[0m\n\u001b[1;32m     80\u001b[0m             \u001b[0mself\u001b[0m\u001b[0;34m.\u001b[0m\u001b[0mcache\u001b[0m\u001b[0;34m[\u001b[0m\u001b[0mi\u001b[0m\u001b[0;34m]\u001b[0m\u001b[0;34m.\u001b[0m\u001b[0mpush\u001b[0m\u001b[0;34m(\u001b[0m\u001b[0mout\u001b[0m\u001b[0;34m)\u001b[0m\u001b[0;34m\u001b[0m\u001b[0;34m\u001b[0m\u001b[0m\n\u001b[1;32m     81\u001b[0m             \u001b[0;31m# out = l(self.cache[i]())\u001b[0m\u001b[0;34m\u001b[0m\u001b[0;34m\u001b[0m\u001b[0;34m\u001b[0m\u001b[0m\n\u001b[0;32m---> 82\u001b[0;31m             \u001b[0mout\u001b[0m \u001b[0;34m=\u001b[0m \u001b[0ml\u001b[0m\u001b[0;34m(\u001b[0m\u001b[0mself\u001b[0m\u001b[0;34m.\u001b[0m\u001b[0mcache\u001b[0m\u001b[0;34m[\u001b[0m\u001b[0mi\u001b[0m\u001b[0;34m]\u001b[0m\u001b[0;34m(\u001b[0m\u001b[0;34m)\u001b[0m\u001b[0;34m[\u001b[0m\u001b[0;34m:\u001b[0m\u001b[0mx\u001b[0m\u001b[0;34m.\u001b[0m\u001b[0msize\u001b[0m\u001b[0;34m(\u001b[0m\u001b[0;34m)\u001b[0m\u001b[0;34m[\u001b[0m\u001b[0;36m0\u001b[0m\u001b[0;34m]\u001b[0m\u001b[0;34m,\u001b[0m \u001b[0;34m:\u001b[0m\u001b[0;34m,\u001b[0m \u001b[0;34m:\u001b[0m\u001b[0;34m]\u001b[0m\u001b[0;34m)\u001b[0m\u001b[0;34m\u001b[0m\u001b[0;34m\u001b[0m\u001b[0m\n\u001b[0m\u001b[1;32m     83\u001b[0m             \u001b[0;31m# print(f'\\t out {i} shape: {out.size()}')\u001b[0m\u001b[0;34m\u001b[0m\u001b[0;34m\u001b[0m\u001b[0;34m\u001b[0m\u001b[0m\n\u001b[1;32m     84\u001b[0m \u001b[0;34m\u001b[0m\u001b[0m\n",
      "\u001b[0;32m~/.local/lib/python3.7/site-packages/torch/nn/modules/module.py\u001b[0m in \u001b[0;36m_call_impl\u001b[0;34m(self, *input, **kwargs)\u001b[0m\n\u001b[1;32m    725\u001b[0m             \u001b[0mresult\u001b[0m \u001b[0;34m=\u001b[0m \u001b[0mself\u001b[0m\u001b[0;34m.\u001b[0m\u001b[0m_slow_forward\u001b[0m\u001b[0;34m(\u001b[0m\u001b[0;34m*\u001b[0m\u001b[0minput\u001b[0m\u001b[0;34m,\u001b[0m \u001b[0;34m**\u001b[0m\u001b[0mkwargs\u001b[0m\u001b[0;34m)\u001b[0m\u001b[0;34m\u001b[0m\u001b[0;34m\u001b[0m\u001b[0m\n\u001b[1;32m    726\u001b[0m         \u001b[0;32melse\u001b[0m\u001b[0;34m:\u001b[0m\u001b[0;34m\u001b[0m\u001b[0;34m\u001b[0m\u001b[0m\n\u001b[0;32m--> 727\u001b[0;31m             \u001b[0mresult\u001b[0m \u001b[0;34m=\u001b[0m \u001b[0mself\u001b[0m\u001b[0;34m.\u001b[0m\u001b[0mforward\u001b[0m\u001b[0;34m(\u001b[0m\u001b[0;34m*\u001b[0m\u001b[0minput\u001b[0m\u001b[0;34m,\u001b[0m \u001b[0;34m**\u001b[0m\u001b[0mkwargs\u001b[0m\u001b[0;34m)\u001b[0m\u001b[0;34m\u001b[0m\u001b[0;34m\u001b[0m\u001b[0m\n\u001b[0m\u001b[1;32m    728\u001b[0m         for hook in itertools.chain(\n\u001b[1;32m    729\u001b[0m                 \u001b[0m_global_forward_hooks\u001b[0m\u001b[0;34m.\u001b[0m\u001b[0mvalues\u001b[0m\u001b[0;34m(\u001b[0m\u001b[0;34m)\u001b[0m\u001b[0;34m,\u001b[0m\u001b[0;34m\u001b[0m\u001b[0;34m\u001b[0m\u001b[0m\n",
      "\u001b[0;32m~/.local/lib/python3.7/site-packages/torch/nn/modules/container.py\u001b[0m in \u001b[0;36mforward\u001b[0;34m(self, input)\u001b[0m\n\u001b[1;32m    115\u001b[0m     \u001b[0;32mdef\u001b[0m \u001b[0mforward\u001b[0m\u001b[0;34m(\u001b[0m\u001b[0mself\u001b[0m\u001b[0;34m,\u001b[0m \u001b[0minput\u001b[0m\u001b[0;34m)\u001b[0m\u001b[0;34m:\u001b[0m\u001b[0;34m\u001b[0m\u001b[0;34m\u001b[0m\u001b[0m\n\u001b[1;32m    116\u001b[0m         \u001b[0;32mfor\u001b[0m \u001b[0mmodule\u001b[0m \u001b[0;32min\u001b[0m \u001b[0mself\u001b[0m\u001b[0;34m:\u001b[0m\u001b[0;34m\u001b[0m\u001b[0;34m\u001b[0m\u001b[0m\n\u001b[0;32m--> 117\u001b[0;31m             \u001b[0minput\u001b[0m \u001b[0;34m=\u001b[0m \u001b[0mmodule\u001b[0m\u001b[0;34m(\u001b[0m\u001b[0minput\u001b[0m\u001b[0;34m)\u001b[0m\u001b[0;34m\u001b[0m\u001b[0;34m\u001b[0m\u001b[0m\n\u001b[0m\u001b[1;32m    118\u001b[0m         \u001b[0;32mreturn\u001b[0m \u001b[0minput\u001b[0m\u001b[0;34m\u001b[0m\u001b[0;34m\u001b[0m\u001b[0m\n\u001b[1;32m    119\u001b[0m \u001b[0;34m\u001b[0m\u001b[0m\n",
      "\u001b[0;32m~/.local/lib/python3.7/site-packages/torch/nn/modules/module.py\u001b[0m in \u001b[0;36m_call_impl\u001b[0;34m(self, *input, **kwargs)\u001b[0m\n\u001b[1;32m    717\u001b[0m                 \u001b[0m_global_forward_pre_hooks\u001b[0m\u001b[0;34m.\u001b[0m\u001b[0mvalues\u001b[0m\u001b[0;34m(\u001b[0m\u001b[0;34m)\u001b[0m\u001b[0;34m,\u001b[0m\u001b[0;34m\u001b[0m\u001b[0;34m\u001b[0m\u001b[0m\n\u001b[1;32m    718\u001b[0m                 self._forward_pre_hooks.values()):\n\u001b[0;32m--> 719\u001b[0;31m             \u001b[0mresult\u001b[0m \u001b[0;34m=\u001b[0m \u001b[0mhook\u001b[0m\u001b[0;34m(\u001b[0m\u001b[0mself\u001b[0m\u001b[0;34m,\u001b[0m \u001b[0minput\u001b[0m\u001b[0;34m)\u001b[0m\u001b[0;34m\u001b[0m\u001b[0;34m\u001b[0m\u001b[0m\n\u001b[0m\u001b[1;32m    720\u001b[0m             \u001b[0;32mif\u001b[0m \u001b[0mresult\u001b[0m \u001b[0;32mis\u001b[0m \u001b[0;32mnot\u001b[0m \u001b[0;32mNone\u001b[0m\u001b[0;34m:\u001b[0m\u001b[0;34m\u001b[0m\u001b[0;34m\u001b[0m\u001b[0m\n\u001b[1;32m    721\u001b[0m                 \u001b[0;32mif\u001b[0m \u001b[0;32mnot\u001b[0m \u001b[0misinstance\u001b[0m\u001b[0;34m(\u001b[0m\u001b[0mresult\u001b[0m\u001b[0;34m,\u001b[0m \u001b[0mtuple\u001b[0m\u001b[0;34m)\u001b[0m\u001b[0;34m:\u001b[0m\u001b[0;34m\u001b[0m\u001b[0;34m\u001b[0m\u001b[0m\n",
      "\u001b[0;32m~/.local/lib/python3.7/site-packages/torch/nn/utils/weight_norm.py\u001b[0m in \u001b[0;36m__call__\u001b[0;34m(self, module, inputs)\u001b[0m\n\u001b[1;32m     59\u001b[0m \u001b[0;34m\u001b[0m\u001b[0m\n\u001b[1;32m     60\u001b[0m     \u001b[0;32mdef\u001b[0m \u001b[0m__call__\u001b[0m\u001b[0;34m(\u001b[0m\u001b[0mself\u001b[0m\u001b[0;34m,\u001b[0m \u001b[0mmodule\u001b[0m\u001b[0;34m:\u001b[0m \u001b[0mModule\u001b[0m\u001b[0;34m,\u001b[0m \u001b[0minputs\u001b[0m\u001b[0;34m:\u001b[0m \u001b[0mAny\u001b[0m\u001b[0;34m)\u001b[0m \u001b[0;34m->\u001b[0m \u001b[0;32mNone\u001b[0m\u001b[0;34m:\u001b[0m\u001b[0;34m\u001b[0m\u001b[0;34m\u001b[0m\u001b[0m\n\u001b[0;32m---> 61\u001b[0;31m         \u001b[0msetattr\u001b[0m\u001b[0;34m(\u001b[0m\u001b[0mmodule\u001b[0m\u001b[0;34m,\u001b[0m \u001b[0mself\u001b[0m\u001b[0;34m.\u001b[0m\u001b[0mname\u001b[0m\u001b[0;34m,\u001b[0m \u001b[0mself\u001b[0m\u001b[0;34m.\u001b[0m\u001b[0mcompute_weight\u001b[0m\u001b[0;34m(\u001b[0m\u001b[0mmodule\u001b[0m\u001b[0;34m)\u001b[0m\u001b[0;34m)\u001b[0m\u001b[0;34m\u001b[0m\u001b[0;34m\u001b[0m\u001b[0m\n\u001b[0m\u001b[1;32m     62\u001b[0m \u001b[0;34m\u001b[0m\u001b[0m\n\u001b[1;32m     63\u001b[0m \u001b[0;34m\u001b[0m\u001b[0m\n",
      "\u001b[0;32m~/.local/lib/python3.7/site-packages/torch/nn/utils/weight_norm.py\u001b[0m in \u001b[0;36mcompute_weight\u001b[0;34m(self, module)\u001b[0m\n\u001b[1;32m     22\u001b[0m         \u001b[0mg\u001b[0m \u001b[0;34m=\u001b[0m \u001b[0mgetattr\u001b[0m\u001b[0;34m(\u001b[0m\u001b[0mmodule\u001b[0m\u001b[0;34m,\u001b[0m \u001b[0mself\u001b[0m\u001b[0;34m.\u001b[0m\u001b[0mname\u001b[0m \u001b[0;34m+\u001b[0m \u001b[0;34m'_g'\u001b[0m\u001b[0;34m)\u001b[0m\u001b[0;34m\u001b[0m\u001b[0;34m\u001b[0m\u001b[0m\n\u001b[1;32m     23\u001b[0m         \u001b[0mv\u001b[0m \u001b[0;34m=\u001b[0m \u001b[0mgetattr\u001b[0m\u001b[0;34m(\u001b[0m\u001b[0mmodule\u001b[0m\u001b[0;34m,\u001b[0m \u001b[0mself\u001b[0m\u001b[0;34m.\u001b[0m\u001b[0mname\u001b[0m \u001b[0;34m+\u001b[0m \u001b[0;34m'_v'\u001b[0m\u001b[0;34m)\u001b[0m\u001b[0;34m\u001b[0m\u001b[0;34m\u001b[0m\u001b[0m\n\u001b[0;32m---> 24\u001b[0;31m         \u001b[0;32mreturn\u001b[0m \u001b[0m_weight_norm\u001b[0m\u001b[0;34m(\u001b[0m\u001b[0mv\u001b[0m\u001b[0;34m,\u001b[0m \u001b[0mg\u001b[0m\u001b[0;34m,\u001b[0m \u001b[0mself\u001b[0m\u001b[0;34m.\u001b[0m\u001b[0mdim\u001b[0m\u001b[0;34m)\u001b[0m\u001b[0;34m\u001b[0m\u001b[0;34m\u001b[0m\u001b[0m\n\u001b[0m\u001b[1;32m     25\u001b[0m \u001b[0;34m\u001b[0m\u001b[0m\n\u001b[1;32m     26\u001b[0m     \u001b[0;34m@\u001b[0m\u001b[0mstaticmethod\u001b[0m\u001b[0;34m\u001b[0m\u001b[0;34m\u001b[0m\u001b[0m\n",
      "\u001b[0;31mKeyboardInterrupt\u001b[0m: "
     ]
    }
   ],
   "source": [
    "num_samples = 0\n",
    "# fig, ax = plt.subplots(1,1)\n",
    "\n",
    "curr_im = np.ones((28,28), dtype=np.uint8)*255\n",
    "_, encoded_image = cv2.imencode('.png', curr_im)\n",
    "im_bytes = encoded_image.tobytes()\n",
    "im_disp = widgets.Image(value=im_bytes, width=200, height=200)\n",
    "\n",
    "true_val = widgets.Label(value=f'True Label: N/A')\n",
    "pred_val = widgets.Label(value=f'Predicted Label: N/A')\n",
    "label_disp = widgets.VBox((true_val, pred_val))\n",
    "\n",
    "display.display(im_disp)\n",
    "display.display(label_disp)\n",
    "\n",
    "for data, target in test_loader:\n",
    "    im = data.squeeze().cpu().detach().numpy()\n",
    "    rows, cols = im.shape\n",
    "    im = (im - im.min())\n",
    "    im = (im/im.max() * 255).astype('uint8')\n",
    "    curr_im = np.ones(im.shape, dtype=np.uint8)*255\n",
    "    \n",
    "    true_val.value = f'True Label: {target.item()}'\n",
    "\n",
    "    if torch.cuda.is_available():\n",
    "        data, target = data.cuda(), target.cuda()\n",
    "    \n",
    "    data = data.view(data.size()[0], 1, -1)\n",
    "    \n",
    "    for i in range(data.size()[2]):\n",
    "        num_samples += 1\n",
    "        curr_row = i // cols\n",
    "        curr_col = i % cols\n",
    "        \n",
    "        curr_im[curr_row,curr_col] = im[curr_row,curr_col]\n",
    "        _, encoded_image = cv2.imencode('.png', curr_im)\n",
    "        im_bytes = encoded_image.tobytes()\n",
    "        im_disp.value = im_bytes\n",
    "        \n",
    "    \n",
    "        output = model.inference(data[:,:,i].view(data.size()[0], data.size()[1], 1))\n",
    "        pred = output.max(1, keepdim=True)[1] #max returns values and indices\n",
    "        \n",
    "        if num_samples > model.receptive_field:\n",
    "            pred_val.value = f'Predicted Label: {pred.item()}'\n",
    "    \n",
    "    time.sleep(2)\n",
    "    \n",
    "    curr_im = np.zeros(im.shape, dtype=np.uint8)\n",
    "    _, encoded_image = cv2.imencode('.png', curr_im)\n",
    "    im_bytes = encoded_image.tobytes()\n",
    "    im_disp.value = im_bytes\n",
    "    true_val.value = f'True Label: N/A'\n",
    "    for i in np.zeros(np.random.randint(50, 200)):\n",
    "        num_samples += 1\n",
    "        output = model.inference(torch.tensor([i], dtype=torch.float).cuda().view(1, 1, 1))\n",
    "        pred = output.max(1, keepdim=True)[1] #max returns values and indices\n",
    "        if num_samples > model.receptive_field:\n",
    "            pred_val.value = f'Predicted Label: {pred.item()}'\n",
    "        \n"
   ]
  },
  {
   "cell_type": "code",
   "execution_count": 3,
   "metadata": {
    "scrolled": true
   },
   "outputs": [
    {
     "data": {
      "application/vnd.jupyter.widget-view+json": {
       "model_id": "5f36b9a0f85b471e8f444d56f2157e15",
       "version_major": 2,
       "version_minor": 0
      },
      "text/plain": [
       "Image(value=b'\\x89PNG\\r\\n\\x1a\\n\\x00\\x00\\x00\\rIHDR\\x00\\x00\\x00\\x1c\\x00\\x00\\x00\\x1c\\x08\\x00\\x00\\x00\\x00Wf\\x80H\\x…"
      ]
     },
     "metadata": {},
     "output_type": "display_data"
    },
    {
     "data": {
      "application/vnd.jupyter.widget-view+json": {
       "model_id": "6196348508a54240b7d9e4108e246044",
       "version_major": 2,
       "version_minor": 0
      },
      "text/plain": [
       "VBox(children=(Label(value='True Label: N/A'), Label(value='Predicted Label: N/A')))"
      ]
     },
     "metadata": {},
     "output_type": "display_data"
    },
    {
     "ename": "KeyboardInterrupt",
     "evalue": "",
     "output_type": "error",
     "traceback": [
      "\u001b[0;31m---------------------------------------------------------------------------\u001b[0m",
      "\u001b[0;31mKeyboardInterrupt\u001b[0m                         Traceback (most recent call last)",
      "\u001b[0;32m<ipython-input-3-7cc738a5afae>\u001b[0m in \u001b[0;36m<module>\u001b[0;34m\u001b[0m\n\u001b[1;32m     49\u001b[0m             \u001b[0mpred_val\u001b[0m\u001b[0;34m.\u001b[0m\u001b[0mvalue\u001b[0m \u001b[0;34m=\u001b[0m \u001b[0;34mf'Predicted Label: {pred.item()}'\u001b[0m\u001b[0;34m\u001b[0m\u001b[0;34m\u001b[0m\u001b[0m\n\u001b[1;32m     50\u001b[0m \u001b[0;34m\u001b[0m\u001b[0m\n\u001b[0;32m---> 51\u001b[0;31m     \u001b[0mtime\u001b[0m\u001b[0;34m.\u001b[0m\u001b[0msleep\u001b[0m\u001b[0;34m(\u001b[0m\u001b[0;36m2\u001b[0m\u001b[0;34m)\u001b[0m\u001b[0;34m\u001b[0m\u001b[0;34m\u001b[0m\u001b[0m\n\u001b[0m\u001b[1;32m     52\u001b[0m \u001b[0;34m\u001b[0m\u001b[0m\n\u001b[1;32m     53\u001b[0m \u001b[0;34m\u001b[0m\u001b[0m\n",
      "\u001b[0;31mKeyboardInterrupt\u001b[0m: "
     ]
    }
   ],
   "source": [
    "num_samples = 0\n",
    "# fig, ax = plt.subplots(1,1)\n",
    "\n",
    "im_queue = [0 for i in range(28*28)]\n",
    "curr_im = np.array(im_queue, dtype=np.uint8).reshape((28,28))\n",
    "_, encoded_image = cv2.imencode('.png', curr_im)\n",
    "im_bytes = encoded_image.tobytes()\n",
    "im_disp = widgets.Image(value=im_bytes, width=200, height=200)\n",
    "\n",
    "true_val = widgets.Label(value=f'True Label: N/A')\n",
    "pred_val = widgets.Label(value=f'Predicted Label: N/A')\n",
    "label_disp = widgets.VBox((true_val, pred_val))\n",
    "\n",
    "display.display(im_disp)\n",
    "display.display(label_disp)\n",
    "\n",
    "for data, target in test_loader:\n",
    "    im = data.squeeze().cpu().detach().numpy()\n",
    "    rows, cols = im.shape\n",
    "    im = (im - im.min())\n",
    "    im = (im/im.max() * 255).astype('uint8')\n",
    "    curr_im = np.ones(im.shape, dtype=np.uint8)*255\n",
    "    \n",
    "    true_val.value = f'True Label: {target.item()}'\n",
    "\n",
    "    if torch.cuda.is_available():\n",
    "        data, target = data.cuda(), target.cuda()\n",
    "    \n",
    "    data = data.view(data.size()[0], 1, -1)\n",
    "    \n",
    "    for i in range(data.size()[2]):\n",
    "        num_samples += 1\n",
    "        curr_row = i // cols\n",
    "        curr_col = i % cols\n",
    "        \n",
    "        im_queue.append(im[curr_row,curr_col])\n",
    "        im_queue = im_queue[1:]\n",
    "        \n",
    "        curr_im = np.array(im_queue, dtype=np.uint8).reshape((28,28))\n",
    "        _, encoded_image = cv2.imencode('.png', curr_im)\n",
    "        im_bytes = encoded_image.tobytes()\n",
    "        im_disp.value = im_bytes\n",
    "        \n",
    "    \n",
    "        output = model(data[:,:,i].view(data.size()[0], data.size()[1], 1))\n",
    "        pred = output.max(1, keepdim=True)[1] #max returns values and indices\n",
    "        \n",
    "        if num_samples > model.receptive_field:\n",
    "            pred_val.value = f'Predicted Label: {pred.item()}'\n",
    "    \n",
    "    time.sleep(2)\n",
    "    \n",
    "    \n",
    "    for i in np.zeros(np.random.randint(50, 200)):\n",
    "        im_queue.append(0)\n",
    "        im_queue = im_queue[1:]\n",
    "        curr_im = np.array(im_queue, dtype=np.uint8).reshape((28,28)) \n",
    "        _, encoded_image = cv2.imencode('.png', curr_im)\n",
    "        im_bytes = encoded_image.tobytes()\n",
    "        im_disp.value = im_bytes\n",
    "        true_val.value = f'True Label: N/A'\n",
    "        num_samples += 1\n",
    "        output = model(torch.tensor([i], dtype=torch.float).cuda().view(1, 1, 1))\n",
    "        pred = output.max(1, keepdim=True)[1] #max returns values and indices\n",
    "        if num_samples > model.receptive_field:\n",
    "            pred_val.value = f'Predicted Label: {pred.item()}'\n",
    "        \n"
   ]
  },
  {
   "cell_type": "code",
   "execution_count": 169,
   "metadata": {},
   "outputs": [],
   "source": [
    "test = Image.fromarray((im*255).astype('uint8'),'L')\n"
   ]
  },
  {
   "cell_type": "code",
   "execution_count": 170,
   "metadata": {},
   "outputs": [
    {
     "data": {
      "image/png": "[encoded data removed]",
      "text/plain": [
       "<PIL.Image.Image image mode=L size=28x28 at 0x7F9E6ADAE250>"
      ]
     },
     "metadata": {},
     "output_type": "display_data"
    }
   ],
   "source": [
    "display.display(test)"
   ]
  },
  {
   "cell_type": "code",
   "execution_count": 180,
   "metadata": {},
   "outputs": [
    {
     "data": {
      "application/vnd.jupyter.widget-view+json": {
       "model_id": "555860983e894804b0d261dcd32cd63c",
       "version_major": 2,
       "version_minor": 0
      },
      "text/plain": [
       "Image(value=b'\\x89PNG\\r\\n\\x1a\\n\\x00\\x00\\x00\\rIHDR\\x00\\x00\\x00\\x1c\\x00\\x00\\x00\\x1c\\x08\\x00\\x00\\x00\\x00Wf\\x80H\\x…"
      ]
     },
     "metadata": {},
     "output_type": "display_data"
    }
   ],
   "source": [
    "_, encoded_image = cv2.imencode('.png', (im*255).astype('uint8'))\n",
    "im_bytes = encoded_image.tobytes()\n",
    "\n",
    "\n",
    "widgets.Image(value=im_bytes, width=200, height=200)"
   ]
  },
  {
   "cell_type": "code",
   "execution_count": null,
   "metadata": {},
   "outputs": [],
   "source": [
    "num_samples = 0\n",
    "# fig, ax = plt.subplots(1,1)\n",
    "\n",
    "for data, target in test_loader:\n",
    "    im = data.squeeze().cpu().detach().numpy()\n",
    "    rows, cols = im.shape\n",
    "    im = (im - im.min())\n",
    "    im = im/im.max()\n",
    "    curr_im = np.ones(im.shape)\n",
    "    \n",
    "#     plt.imshow(curr_im, cmap='gray', vmin=0, vmax=1)\n",
    "#     plt.axis('off')\n",
    "\n",
    "\n",
    "    true_val = widgets.Label(value=f'True Label: {target.item()}')\n",
    "    pred_val = widgets.Label(value=f'Predicted Label: N/A')\n",
    "    label_disp = widgets.VBox((true_val, pred_val))\n",
    "    display.display(label_disp)\n",
    "    \n",
    "    if torch.cuda.is_available():\n",
    "        data, target = data.cuda(), target.cuda()\n",
    "    \n",
    "    data = data.view(data.size()[0], 1, -1)\n",
    "    \n",
    "    for i in range(data.size()[2]):\n",
    "        num_samples += 1\n",
    "        curr_row = i // cols\n",
    "        curr_col = i % cols\n",
    "        \n",
    "        curr_im[curr_row,curr_col] = im[curr_row,curr_col]\n",
    "        \n",
    "    \n",
    "#         if i % 20 == 0:\n",
    "#             display.display(plt.gcf())\n",
    "#             display.clear_output(wait=True)\n",
    "#             plt.imshow(curr_im, cmap='gray', vmin=0, vmax=1)\n",
    "#             plt.axis('off')\n",
    "#             plt.pause(0.001)\n",
    "        \n",
    "        output = model.inference(data[:,:,i].view(data.size()[0], data.size()[1], 1))\n",
    "        pred = output.max(1, keepdim=True)[1] #max returns values and indices\n",
    "        \n",
    "        pred_val.value = f'Predicted Label: {pred.item()}'\n",
    "    \n",
    "#     display.display(plt.gcf())\n",
    "#     display.clear_output(wait=True)\n",
    "#     plt.imshow(curr_im, cmap='gray', vmin=0, vmax=1)\n",
    "#     plt.axis('off')\n",
    "#     plt.pause(0.001)\n",
    "\n",
    "    \n",
    "\n",
    "    break"
   ]
  },
  {
   "cell_type": "code",
   "execution_count": 7,
   "metadata": {},
   "outputs": [
    {
     "data": {
      "text/plain": [
       "tensor([[[0.]],\n",
       "\n",
       "        [[0.]],\n",
       "\n",
       "        [[0.]],\n",
       "\n",
       "        [[0.]],\n",
       "\n",
       "        [[0.]],\n",
       "\n",
       "        [[0.]],\n",
       "\n",
       "        [[0.]],\n",
       "\n",
       "        [[0.]],\n",
       "\n",
       "        [[0.]],\n",
       "\n",
       "        [[0.]],\n",
       "\n",
       "        [[0.]],\n",
       "\n",
       "        [[0.]],\n",
       "\n",
       "        [[0.]],\n",
       "\n",
       "        [[0.]],\n",
       "\n",
       "        [[0.]],\n",
       "\n",
       "        [[0.]],\n",
       "\n",
       "        [[0.]],\n",
       "\n",
       "        [[0.]],\n",
       "\n",
       "        [[0.]],\n",
       "\n",
       "        [[0.]],\n",
       "\n",
       "        [[0.]],\n",
       "\n",
       "        [[0.]],\n",
       "\n",
       "        [[0.]],\n",
       "\n",
       "        [[0.]],\n",
       "\n",
       "        [[0.]],\n",
       "\n",
       "        [[0.]],\n",
       "\n",
       "        [[0.]],\n",
       "\n",
       "        [[0.]],\n",
       "\n",
       "        [[0.]],\n",
       "\n",
       "        [[0.]],\n",
       "\n",
       "        [[0.]],\n",
       "\n",
       "        [[0.]],\n",
       "\n",
       "        [[0.]],\n",
       "\n",
       "        [[0.]],\n",
       "\n",
       "        [[0.]],\n",
       "\n",
       "        [[0.]],\n",
       "\n",
       "        [[0.]],\n",
       "\n",
       "        [[0.]],\n",
       "\n",
       "        [[0.]],\n",
       "\n",
       "        [[0.]],\n",
       "\n",
       "        [[0.]],\n",
       "\n",
       "        [[0.]],\n",
       "\n",
       "        [[0.]],\n",
       "\n",
       "        [[0.]],\n",
       "\n",
       "        [[0.]],\n",
       "\n",
       "        [[0.]],\n",
       "\n",
       "        [[0.]],\n",
       "\n",
       "        [[0.]],\n",
       "\n",
       "        [[0.]],\n",
       "\n",
       "        [[0.]],\n",
       "\n",
       "        [[0.]],\n",
       "\n",
       "        [[0.]],\n",
       "\n",
       "        [[0.]],\n",
       "\n",
       "        [[0.]],\n",
       "\n",
       "        [[0.]],\n",
       "\n",
       "        [[0.]],\n",
       "\n",
       "        [[0.]],\n",
       "\n",
       "        [[0.]],\n",
       "\n",
       "        [[0.]],\n",
       "\n",
       "        [[0.]],\n",
       "\n",
       "        [[0.]],\n",
       "\n",
       "        [[0.]],\n",
       "\n",
       "        [[0.]],\n",
       "\n",
       "        [[0.]]])"
      ]
     },
     "execution_count": 7,
     "metadata": {},
     "output_type": "execute_result"
    }
   ],
   "source": [
    "torch.tensor([0]*64, dtype=torch.float).view(64,1,1)"
   ]
  },
  {
   "cell_type": "code",
   "execution_count": 2,
   "metadata": {},
   "outputs": [
    {
     "data": {
      "text/plain": [
       "2"
      ]
     },
     "execution_count": 2,
     "metadata": {},
     "output_type": "execute_result"
    }
   ],
   "source": [
    "# for i in [0]*np.random.randint(50,200):\n",
    "#     print (i)\n",
    "\n",
    "np.random.randint(4)"
   ]
  },
  {
   "cell_type": "code",
   "execution_count": 38,
   "metadata": {},
   "outputs": [],
   "source": [
    "data = torch.rand((64,1, 784))\n",
    "aug_data = torch.zeros(data.size())\n",
    "clip_size = np.random.randint(0, 200)\n",
    "pad_size = np.random.randint(0, 100)\n",
    "\n",
    "aug_data[:, :, clip_size+pad_size:] = data[:,:,:data.size()[2]-(clip_size+pad_size)]\n",
    "if clip_size > 0:\n",
    "    aug_data[:, :, :clip_size] = data[torch.randperm(data.size()[0]), :, -clip_size:]\n"
   ]
  },
  {
   "cell_type": "code",
   "execution_count": 35,
   "metadata": {},
   "outputs": [
    {
     "data": {
      "text/plain": [
       "tensor([[5.2512e-01, 0.0000e+00, 0.0000e+00, 0.0000e+00, 0.0000e+00, 0.0000e+00,\n",
       "         0.0000e+00, 0.0000e+00, 0.0000e+00, 0.0000e+00, 0.0000e+00, 0.0000e+00,\n",
       "         0.0000e+00, 0.0000e+00, 0.0000e+00, 0.0000e+00, 0.0000e+00, 0.0000e+00,\n",
       "         0.0000e+00, 0.0000e+00, 0.0000e+00, 0.0000e+00, 0.0000e+00, 0.0000e+00,\n",
       "         0.0000e+00, 0.0000e+00, 0.0000e+00, 0.0000e+00, 0.0000e+00, 0.0000e+00,\n",
       "         0.0000e+00, 0.0000e+00, 0.0000e+00, 0.0000e+00, 0.0000e+00, 0.0000e+00,\n",
       "         0.0000e+00, 0.0000e+00, 0.0000e+00, 0.0000e+00, 0.0000e+00, 0.0000e+00,\n",
       "         0.0000e+00, 0.0000e+00, 0.0000e+00, 0.0000e+00, 0.0000e+00, 0.0000e+00,\n",
       "         0.0000e+00, 0.0000e+00, 3.6543e-01, 9.9937e-01, 3.2467e-01, 3.4381e-01,\n",
       "         3.8349e-01, 5.3381e-01, 6.8607e-01, 8.6298e-01, 5.9494e-02, 6.2938e-01,\n",
       "         5.9301e-02, 2.4135e-01, 7.6662e-01, 3.5607e-01, 5.0892e-01, 5.8481e-02,\n",
       "         9.3448e-01, 3.2786e-01, 9.8140e-01, 4.6339e-01, 5.2412e-01, 9.4282e-01,\n",
       "         4.7165e-01, 9.0500e-01, 7.5658e-02, 5.9066e-01, 3.3965e-02, 5.1581e-01,\n",
       "         6.4260e-01, 4.1090e-01, 8.4844e-01, 6.3196e-01, 2.0372e-02, 5.3065e-01,\n",
       "         1.7498e-01, 7.1992e-01, 4.0445e-01, 2.8196e-01, 1.8648e-01, 1.9350e-01,\n",
       "         5.4140e-01, 8.8222e-01, 1.7434e-01, 5.6296e-01, 7.0124e-01, 5.3503e-01,\n",
       "         5.4516e-01, 1.6375e-01, 7.3082e-01, 1.2244e-01, 1.5459e-01, 2.8848e-01,\n",
       "         6.5888e-02, 6.5371e-01, 7.7429e-01, 3.7595e-01, 3.4127e-01, 4.1921e-01,\n",
       "         7.8183e-01, 9.9292e-01, 1.4474e-01, 6.0825e-01, 1.0375e-01, 8.7474e-01,\n",
       "         7.4439e-01, 3.8963e-01, 2.5572e-03, 3.7667e-01, 8.6698e-01, 8.6679e-01,\n",
       "         4.0335e-01, 6.0005e-01, 1.6005e-01, 2.2919e-01, 7.6676e-02, 6.7605e-01,\n",
       "         3.3380e-01, 7.8755e-02, 4.7352e-01, 1.4646e-01, 1.8826e-01, 1.0918e-01,\n",
       "         9.8075e-01, 1.1147e-01, 7.4693e-01, 2.5353e-01, 8.4176e-01, 4.0972e-01,\n",
       "         9.1549e-01, 4.2116e-01, 6.9766e-01, 5.5868e-01, 2.3502e-01, 2.3367e-01,\n",
       "         8.8477e-01, 8.4051e-01, 6.0927e-01, 6.3047e-02, 5.8460e-02, 5.1314e-01,\n",
       "         7.2126e-01, 6.6986e-01, 6.2303e-01, 7.6147e-01, 5.7847e-01, 3.8397e-01,\n",
       "         4.5933e-01, 5.8959e-01, 6.6952e-01, 7.2344e-01, 4.1894e-01, 4.3140e-01,\n",
       "         9.7420e-01, 3.0441e-01, 5.8586e-01, 8.7260e-01, 4.6416e-02, 4.8469e-01,\n",
       "         3.5236e-01, 7.7120e-01, 1.2370e-01, 8.0963e-01, 1.7497e-01, 9.6701e-01,\n",
       "         8.8923e-01, 5.9584e-01, 9.5551e-01, 6.2277e-01, 9.7123e-01, 5.3623e-01,\n",
       "         4.7164e-02, 6.6188e-01, 9.0500e-01, 5.4607e-01, 4.5244e-01, 3.0245e-01,\n",
       "         8.7226e-01, 1.4075e-01, 2.9170e-01, 7.4610e-01, 8.3809e-01, 1.6923e-02,\n",
       "         3.7563e-01, 7.2174e-01, 7.6344e-01, 8.4198e-01, 4.4656e-01, 1.1273e-01,\n",
       "         3.8466e-01, 6.1615e-02, 8.8275e-01, 5.8873e-02, 6.3311e-01, 2.4483e-01,\n",
       "         4.8269e-01, 1.5305e-01, 9.3031e-01, 8.1676e-01, 6.8578e-01, 4.7099e-01,\n",
       "         1.1450e-01, 6.8420e-01, 3.0736e-01, 4.8055e-01, 3.4491e-02, 9.3901e-01,\n",
       "         9.8172e-01, 4.4776e-01, 2.4091e-01, 2.7473e-01, 1.1383e-01, 1.1833e-01,\n",
       "         9.7440e-01, 2.8572e-01, 2.7855e-01, 5.7945e-01, 4.5238e-01, 4.0473e-01,\n",
       "         4.9607e-01, 4.2202e-01, 6.2652e-02, 3.8142e-01, 8.1545e-01, 5.0543e-01,\n",
       "         8.8889e-01, 7.5794e-01, 1.4694e-01, 1.3337e-01, 1.5670e-01, 4.5237e-01,\n",
       "         6.4847e-01, 3.2699e-01, 9.8656e-01, 3.1781e-01, 8.4391e-01, 2.4040e-01,\n",
       "         7.0107e-01, 6.1775e-02, 4.9397e-01, 4.0886e-02, 3.1716e-01, 2.5325e-01,\n",
       "         3.4062e-01, 4.8014e-01, 6.2834e-01, 4.8308e-01, 3.2962e-02, 7.9671e-01,\n",
       "         6.5095e-01, 6.8654e-01, 9.1794e-01, 9.9338e-01, 5.6620e-02, 3.0564e-01,\n",
       "         1.1683e-01, 9.2678e-01, 7.8576e-01, 2.4010e-01, 1.6757e-01, 7.5141e-01,\n",
       "         5.0089e-01, 9.3818e-01, 7.0945e-01, 8.2652e-01, 2.4440e-01, 5.5701e-02,\n",
       "         1.0432e-01, 5.5534e-01, 5.5190e-01, 6.9166e-01, 9.1037e-01, 2.6450e-01,\n",
       "         9.6607e-01, 6.8380e-02, 5.8429e-01, 2.1743e-01, 1.1835e-01, 4.2030e-01,\n",
       "         3.6585e-01, 9.0709e-01, 4.3477e-01, 3.7756e-01, 5.2490e-02, 4.0988e-01,\n",
       "         4.8125e-01, 7.6213e-01, 4.2619e-01, 3.5396e-02, 9.2532e-01, 3.3465e-01,\n",
       "         1.6962e-03, 8.2447e-01, 8.5698e-01, 5.9142e-01, 1.9352e-01, 2.3215e-01,\n",
       "         7.9627e-01, 6.4622e-01, 3.3854e-01, 4.9335e-01, 3.9511e-01, 2.2683e-01,\n",
       "         2.3622e-01, 3.6209e-01, 6.8692e-01, 1.3307e-02, 3.9106e-01, 7.0710e-01,\n",
       "         6.8579e-01, 9.2025e-01, 2.5572e-01, 2.1770e-01, 7.2980e-02, 4.1644e-01,\n",
       "         2.0852e-01, 7.2989e-01, 5.2044e-01, 6.5578e-01, 7.0604e-01, 3.2061e-01,\n",
       "         2.5920e-01, 9.8360e-01, 4.5910e-01, 4.9572e-01, 6.0094e-01, 5.6219e-01,\n",
       "         8.6501e-01, 2.1340e-01, 5.0891e-01, 8.6336e-01, 6.3424e-01, 4.3328e-03,\n",
       "         7.9301e-01, 2.4280e-01, 6.0735e-01, 4.3212e-01, 1.4441e-01, 6.2299e-01,\n",
       "         9.8451e-01, 6.6900e-01, 3.3594e-01, 3.1301e-01, 6.0084e-01, 1.5457e-01,\n",
       "         6.1400e-01, 5.4726e-02, 5.6484e-01, 4.3129e-01, 9.9919e-01, 7.1749e-01,\n",
       "         6.9701e-01, 6.3688e-01, 6.6838e-01, 6.4050e-01, 4.2483e-02, 9.2345e-02,\n",
       "         5.4681e-01, 1.5808e-01, 8.1508e-01, 2.2320e-02, 6.1059e-01, 6.6397e-01,\n",
       "         8.3139e-01, 4.4639e-01, 6.1157e-01, 5.5526e-01, 8.8960e-01, 8.9193e-01,\n",
       "         6.3867e-02, 3.8631e-01, 3.9572e-04, 8.1649e-01, 5.2993e-01, 8.2280e-01,\n",
       "         4.3913e-01, 4.6778e-01, 7.1869e-01, 5.6622e-01, 1.9806e-01, 1.9009e-01,\n",
       "         5.2665e-01, 3.7068e-02, 6.4309e-01, 4.9993e-01, 7.1675e-04, 5.5343e-01,\n",
       "         9.9785e-01, 5.3782e-03, 5.6375e-01, 7.0510e-01, 2.6382e-01, 2.4513e-01,\n",
       "         9.1211e-01, 9.8543e-01, 9.9705e-01, 6.1723e-01, 2.3286e-01, 2.6395e-01,\n",
       "         2.9196e-01, 1.2425e-01, 4.1924e-01, 1.7750e-01, 4.9313e-01, 9.9026e-01,\n",
       "         6.3511e-01, 2.6881e-01, 2.4942e-01, 4.8002e-01, 9.1334e-01, 9.1209e-01,\n",
       "         3.8064e-03, 1.4956e-01, 8.8602e-01, 1.4489e-01, 3.8626e-01, 1.3555e-01,\n",
       "         2.9596e-01, 3.9275e-01, 1.5588e-01, 9.3893e-02, 6.8646e-01, 1.3461e-01,\n",
       "         3.2619e-01, 6.2979e-01, 9.6857e-01, 6.2641e-02, 3.2715e-01, 9.5685e-01,\n",
       "         2.2971e-01, 2.9678e-01, 4.5207e-01, 6.2302e-01, 2.3580e-01, 5.0779e-01,\n",
       "         7.7098e-01, 9.0144e-01, 6.9859e-01, 2.1662e-01, 7.0154e-02, 9.8554e-01,\n",
       "         9.6914e-01, 7.6849e-02, 8.6269e-01, 3.8008e-01, 8.5510e-01, 5.0666e-01,\n",
       "         9.6419e-03, 2.4101e-01, 6.0734e-02, 7.7951e-01, 3.6654e-01, 8.8795e-01,\n",
       "         8.6678e-02, 6.0450e-01, 7.0549e-01, 6.9656e-01, 4.0039e-01, 7.8697e-01,\n",
       "         6.3150e-01, 9.1008e-02, 6.1148e-01, 3.0374e-01, 1.9449e-01, 6.4979e-01,\n",
       "         5.7911e-01, 1.4565e-01, 3.1213e-01, 7.6393e-01, 5.5549e-02, 6.3414e-01,\n",
       "         7.4937e-01, 5.0056e-02, 4.1987e-01, 4.0888e-01, 9.4881e-01, 5.4099e-01,\n",
       "         9.7461e-01, 2.9529e-01, 7.5985e-01, 9.6728e-01, 4.1185e-01, 3.5440e-01,\n",
       "         1.0070e-01, 8.2436e-01, 9.5137e-01, 5.1706e-01, 7.9860e-01, 6.6054e-01,\n",
       "         4.8363e-02, 1.5128e-01, 9.5953e-01, 7.6881e-02, 9.1954e-01, 3.5944e-01,\n",
       "         7.7758e-01, 3.1183e-01, 1.3960e-01, 4.3737e-01, 7.7151e-01, 4.5702e-01,\n",
       "         2.6285e-01, 9.0457e-01, 2.5851e-01, 3.4392e-01, 9.7467e-01, 8.9759e-01,\n",
       "         7.6889e-01, 7.1042e-01, 5.1665e-01, 1.1398e-01, 3.9358e-01, 2.0319e-01,\n",
       "         8.9284e-01, 2.9097e-01, 7.2866e-02, 6.0682e-01, 4.7573e-01, 7.4315e-01,\n",
       "         9.0640e-01, 3.5432e-01, 3.1086e-01, 9.2711e-01, 1.4403e-02, 3.7519e-01,\n",
       "         3.6663e-01, 7.8733e-02, 4.1253e-01, 7.8633e-02, 8.6320e-01, 5.3572e-01,\n",
       "         2.8482e-01, 7.2769e-01, 1.5692e-01, 3.7509e-01, 7.3571e-01, 8.7141e-01,\n",
       "         9.8304e-01, 3.3756e-01, 6.9982e-01, 4.3921e-01, 2.9267e-02, 9.7357e-01,\n",
       "         2.6417e-01, 7.2334e-01, 1.9283e-01, 8.1326e-01, 9.9495e-01, 7.6974e-01,\n",
       "         4.3652e-01, 2.0487e-01, 6.3349e-01, 3.0164e-01, 9.5972e-01, 6.5637e-01,\n",
       "         3.8234e-01, 8.1620e-01, 7.6728e-02, 7.7544e-01, 6.1926e-01, 1.5273e-01,\n",
       "         9.7037e-01, 7.0156e-02, 4.9093e-01, 9.6236e-01, 5.8528e-01, 7.8688e-01,\n",
       "         5.6782e-01, 9.7690e-02, 3.3982e-01, 9.6256e-01, 8.4718e-02, 7.3001e-01,\n",
       "         9.9977e-01, 5.4049e-02, 6.5129e-01, 6.1112e-01, 5.5050e-01, 4.8635e-01,\n",
       "         6.8183e-01, 8.6732e-01, 6.8355e-01, 8.3092e-01, 9.0877e-01, 2.7256e-02,\n",
       "         3.4309e-01, 5.5224e-01, 7.5287e-01, 7.5327e-01, 8.3546e-01, 1.7988e-01,\n",
       "         8.1080e-01, 1.9149e-02, 9.0799e-01, 3.7255e-01, 7.9340e-01, 2.7925e-02,\n",
       "         4.1479e-01, 3.1372e-02, 5.3018e-01, 4.3587e-01, 4.2946e-01, 9.5535e-01,\n",
       "         4.5041e-01, 9.9031e-01, 2.8957e-01, 5.9514e-01, 7.1654e-01, 9.6021e-01,\n",
       "         8.0919e-04, 9.0342e-01, 6.3432e-01, 8.8414e-01, 6.6306e-01, 3.8873e-01,\n",
       "         3.1926e-02, 9.3820e-01, 8.1930e-01, 9.1356e-01, 5.6697e-01, 4.9267e-01,\n",
       "         5.2969e-01, 2.4858e-01, 5.6549e-01, 4.0931e-01, 8.4933e-01, 7.7294e-01,\n",
       "         9.1358e-01, 1.0341e-01, 3.6302e-02, 2.5620e-01, 7.1235e-01, 8.6553e-01,\n",
       "         3.8748e-01, 4.7413e-01, 3.1005e-01, 3.0670e-01, 3.3493e-01, 4.5303e-01,\n",
       "         4.0646e-01, 1.1528e-01, 7.4491e-01, 1.0106e-01, 6.2217e-01, 3.9903e-01,\n",
       "         1.9133e-02, 4.4235e-01, 2.7753e-02, 4.0574e-02, 2.8617e-01, 2.4316e-01,\n",
       "         4.5007e-01, 2.1398e-01, 6.1003e-01, 8.1637e-01, 7.6431e-01, 7.0989e-01,\n",
       "         6.2696e-01, 2.3046e-01, 3.7707e-01, 2.4554e-02, 9.7606e-01, 7.5344e-02,\n",
       "         5.6890e-01, 4.8719e-01, 7.7773e-01, 7.4330e-01, 8.6402e-02, 9.0323e-01,\n",
       "         4.5120e-01, 7.9283e-02, 8.8238e-01, 9.7048e-01, 5.3767e-01, 1.0375e-01,\n",
       "         7.2526e-01, 4.8575e-01, 8.7921e-01, 2.5826e-01, 6.9312e-01, 2.6526e-01,\n",
       "         6.3619e-01, 9.8441e-02, 2.9372e-01, 4.8237e-01, 9.6644e-01, 5.9947e-01,\n",
       "         3.0079e-01, 8.8003e-01, 2.2342e-01, 9.4969e-01, 9.1030e-01, 2.7746e-01,\n",
       "         8.2982e-01, 9.1722e-01, 8.6986e-01, 2.0142e-01, 5.3822e-03, 2.5455e-01,\n",
       "         1.7816e-02, 7.1879e-01, 7.7561e-01, 4.8233e-01, 4.8003e-01, 8.2139e-01,\n",
       "         3.7258e-01, 8.7205e-01, 2.9025e-01, 2.7590e-01, 7.9755e-01, 9.1274e-01,\n",
       "         8.4252e-01, 6.2093e-01, 5.1318e-01, 4.0269e-01, 8.2981e-01, 6.4881e-01,\n",
       "         4.3269e-01, 4.0592e-01, 9.2498e-01, 1.0368e-01, 3.8179e-01, 1.5552e-01,\n",
       "         1.1051e-01, 5.5436e-02, 8.9913e-01, 9.1900e-01, 2.8611e-01, 7.3353e-01,\n",
       "         4.3534e-01, 1.1362e-01, 7.2158e-01, 7.9224e-01, 8.1343e-01, 3.0178e-01,\n",
       "         6.3176e-01, 7.6481e-01, 9.1032e-01, 6.4012e-01, 8.9207e-01, 4.8859e-01,\n",
       "         5.8587e-01, 2.9812e-01, 1.5540e-01, 5.5651e-01, 1.4182e-01, 5.9444e-01,\n",
       "         5.1661e-01, 4.4428e-02, 7.7017e-01, 9.8162e-01, 4.0307e-01, 1.8825e-01,\n",
       "         4.6728e-01, 6.4559e-02, 1.6568e-01, 6.0694e-01, 6.6859e-01, 9.5273e-02,\n",
       "         9.9528e-01, 8.6202e-01, 3.9068e-01, 1.2854e-01, 9.9717e-01, 9.5613e-01,\n",
       "         8.0485e-01, 8.7726e-01, 2.0367e-01, 7.4272e-01, 4.8186e-01, 6.3974e-01,\n",
       "         1.1466e-01, 9.8807e-01, 5.8826e-01, 9.3656e-01]])"
      ]
     },
     "execution_count": 35,
     "metadata": {},
     "output_type": "execute_result"
    }
   ],
   "source": [
    "aug_data[0]"
   ]
  },
  {
   "cell_type": "code",
   "execution_count": 32,
   "metadata": {},
   "outputs": [
    {
     "data": {
      "text/plain": [
       "tensor([41,  6, 52,  2, 46, 11, 48, 32, 56, 37, 62, 51, 33, 44, 12,  7,  1, 50,\n",
       "        22,  3,  9, 49,  5, 35, 21, 18, 38, 19, 15, 24, 57, 10, 47, 60, 43, 28,\n",
       "        31, 25, 30, 23, 63, 61, 14, 39, 26, 42, 59,  0, 34, 16,  8, 40, 58, 54,\n",
       "        13, 17, 53, 27, 45, 36, 55,  4, 29, 20])"
      ]
     },
     "execution_count": 32,
     "metadata": {},
     "output_type": "execute_result"
    }
   ],
   "source": [
    "torch.randperm(data.size()[0])"
   ]
  }
 ],
 "metadata": {
  "kernelspec": {
   "display_name": "Python 3",
   "language": "python",
   "name": "python3"
  },
  "language_info": {
   "codemirror_mode": {
    "name": "ipython",
    "version": 3
   },
   "file_extension": ".py",
   "mimetype": "text/x-python",
   "name": "python",
   "nbconvert_exporter": "python",
   "pygments_lexer": "ipython3",
   "version": "3.7.3"
  }
 },
 "nbformat": 4,
 "nbformat_minor": 5
}
