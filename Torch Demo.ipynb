{
 "cells": [
  {
   "cell_type": "code",
   "execution_count": 1,
   "id": "3c47dab4",
   "metadata": {},
   "outputs": [],
   "source": [
    "%matplotlib inline\n",
    "import torch\n",
    "import torch.nn.functional as F\n",
    "import os, sys\n",
    "from pathlib import Path\n",
    "from TCN.mnist_pixel.utils import data_generator\n",
    "from TCN.mnist_pixel.model import TCN\n",
    "import numpy as np\n",
    "import matplotlib.pyplot as plt\n",
    "import pickle\n",
    "from IPython import display\n",
    "import ipywidgets as widgets\n",
    "from PIL import Image\n",
    "import io\n",
    "import cv2\n",
    "import time"
   ]
  },
  {
   "cell_type": "code",
   "execution_count": 2,
   "id": "b32dc7c7",
   "metadata": {},
   "outputs": [
    {
     "name": "stdout",
     "output_type": "stream",
     "text": [
      "Namespace(batch_size=64, clip=-1, cuda=True, dropout=0.05, epochs=50, ksize=7, levels=6, log_interval=100, lr=0.002, modelname='aug_k7l6', nhid=25, optim='Adam', permute=False, savedir=PosixPath('models'), savemodel=True, seed=-1, seq_augment=True)\n",
      "TCN/mnist_pixel/models/aug_k7l6.pt\n"
     ]
    },
    {
     "name": "stderr",
     "output_type": "stream",
     "text": [
      "/usr/local/lib/python3.8/dist-packages/torchvision/datasets/mnist.py:498: UserWarning: The given NumPy array is not writeable, and PyTorch does not support non-writeable tensors. This means you can write to the underlying (supposedly non-writeable) NumPy array using the tensor. You may want to copy the array to protect its data or make it writeable before converting it to a tensor. This type of warning will be suppressed for the rest of this program. (Triggered internally at  /pytorch/torch/csrc/utils/tensor_numpy.cpp:180.)\n",
      "  return torch.from_numpy(parsed.astype(m[2], copy=False)).view(*s)\n"
     ]
    },
    {
     "name": "stdout",
     "output_type": "stream",
     "text": [
      "757\n"
     ]
    }
   ],
   "source": [
    "model_path = Path('./TCN/mnist_pixel/models')\n",
    "data_path = Path('./TCN/mnist_pixel/data/mnist')\n",
    "model_name = 'aug_k7l6'\n",
    "batch_size = 1\n",
    "in_channels = 1\n",
    "n_classes = 10\n",
    "\n",
    "args = pickle.load(open(model_path / (model_name+'_args.pkl'), 'rb'))\n",
    "print(args)\n",
    "channel_sizes = [args.nhid] * args.levels\n",
    "\n",
    "print(model_path / (model_name+'.pt'))\n",
    "\n",
    "_, test_loader = data_generator(data_path, batch_size)\n",
    "model = TCN(in_channels, n_classes, channel_sizes, kernel_size=args.ksize)\n",
    "model.load_state_dict(torch.load(model_path / (model_name+'.pt')))\n",
    "model.eval()\n",
    "\n",
    "print(model.receptive_field)\n",
    "\n",
    "if torch.cuda.is_available():\n",
    "    model.cuda()\n",
    "    "
   ]
  },
  {
   "cell_type": "code",
   "execution_count": 22,
   "id": "195dd282",
   "metadata": {},
   "outputs": [],
   "source": [
    "test_t = torch.zeros(1,1,784).cuda()\n",
    "test_out = model(test_t)"
   ]
  },
  {
   "cell_type": "code",
   "execution_count": 16,
   "id": "1b001b40",
   "metadata": {},
   "outputs": [
    {
     "data": {
      "application/vnd.jupyter.widget-view+json": {
       "model_id": "7749ab437ddd4d09849e9003958d1332",
       "version_major": 2,
       "version_minor": 0
      },
      "text/plain": [
       "Image(value=b'\\x89PNG\\r\\n\\x1a\\n\\x00\\x00\\x00\\rIHDR\\x00\\x00\\x00\\x1c\\x00\\x00\\x00\\x1c\\x08\\x00\\x00\\x00\\x00Wf\\x80H\\x…"
      ]
     },
     "metadata": {},
     "output_type": "display_data"
    },
    {
     "data": {
      "application/vnd.jupyter.widget-view+json": {
       "model_id": "772a7160c7224ba88861b2b99c4bcfcf",
       "version_major": 2,
       "version_minor": 0
      },
      "text/plain": [
       "VBox(children=(Label(value='True Label: N/A'), Label(value='Predicted Label: N/A')))"
      ]
     },
     "metadata": {},
     "output_type": "display_data"
    },
    {
     "ename": "KeyboardInterrupt",
     "evalue": "",
     "output_type": "error",
     "traceback": [
      "\u001b[0;31m---------------------------------------------------------------------------\u001b[0m",
      "\u001b[0;31mKeyboardInterrupt\u001b[0m                         Traceback (most recent call last)",
      "\u001b[0;32m<ipython-input-16-d6d0caa15441>\u001b[0m in \u001b[0;36m<module>\u001b[0;34m\u001b[0m\n\u001b[1;32m     53\u001b[0m             \u001b[0mpred_val\u001b[0m\u001b[0;34m.\u001b[0m\u001b[0mvalue\u001b[0m \u001b[0;34m=\u001b[0m \u001b[0;34mf'Predicted Label: {pred.item()}'\u001b[0m\u001b[0;34m\u001b[0m\u001b[0;34m\u001b[0m\u001b[0m\n\u001b[1;32m     54\u001b[0m \u001b[0;34m\u001b[0m\u001b[0m\n\u001b[0;32m---> 55\u001b[0;31m         \u001b[0mtime\u001b[0m\u001b[0;34m.\u001b[0m\u001b[0msleep\u001b[0m\u001b[0;34m(\u001b[0m\u001b[0;36m0.01\u001b[0m\u001b[0;34m)\u001b[0m\u001b[0;34m\u001b[0m\u001b[0;34m\u001b[0m\u001b[0m\n\u001b[0m\u001b[1;32m     56\u001b[0m \u001b[0;34m\u001b[0m\u001b[0m\n\u001b[1;32m     57\u001b[0m \u001b[0;34m\u001b[0m\u001b[0m\n",
      "\u001b[0;31mKeyboardInterrupt\u001b[0m: "
     ]
    }
   ],
   "source": [
    "num_samples = 0\n",
    "# fig, ax = plt.subplots(1,1)\n",
    "\n",
    "im_queue = [0 for i in range(28*28)]\n",
    "data_queue = torch.zeros((1,1,28*28)).cuda()\n",
    "curr_im = np.array(im_queue, dtype=np.uint8).reshape((28,28))\n",
    "_, encoded_image = cv2.imencode('.png', curr_im)\n",
    "im_bytes = encoded_image.tobytes()\n",
    "im_disp = widgets.Image(value=im_bytes, width=200, height=200)\n",
    "\n",
    "true_val = widgets.Label(value=f'True Label: N/A')\n",
    "pred_val = widgets.Label(value=f'Predicted Label: N/A')\n",
    "label_disp = widgets.VBox((true_val, pred_val))\n",
    "\n",
    "display.display(im_disp)\n",
    "display.display(label_disp)\n",
    "\n",
    "for data, target in test_loader:\n",
    "    im = data.squeeze().cpu().detach().numpy()\n",
    "    rows, cols = im.shape\n",
    "    im = (im - im.min())\n",
    "    im = (im/im.max() * 255).astype('uint8')\n",
    "    curr_im = np.ones(im.shape, dtype=np.uint8)*255\n",
    "    \n",
    "    true_val.value = f'True Label: {target.item()}'\n",
    "\n",
    "    if torch.cuda.is_available():\n",
    "        data, target = data.cuda(), target.cuda()\n",
    "    \n",
    "    data = data.view(data.size()[0], 1, -1)\n",
    "    \n",
    "    for i in range(data.size()[2]):\n",
    "        num_samples += 1\n",
    "        curr_row = i // cols\n",
    "        curr_col = i % cols\n",
    "        \n",
    "        im_queue.append(im[curr_row,curr_col])\n",
    "        im_queue = im_queue[1:]\n",
    "        \n",
    "        data_queue = data_queue.roll(-1, 2)\n",
    "        data_queue[:,:,-1] = data[:,:,i]\n",
    "        \n",
    "        curr_im = np.array(im_queue, dtype=np.uint8).reshape((28,28))\n",
    "        _, encoded_image = cv2.imencode('.png', curr_im)\n",
    "        im_bytes = encoded_image.tobytes()\n",
    "        im_disp.value = im_bytes\n",
    "        \n",
    "        # output = model(data[:,:,i].view(data.size()[0], data.size()[1], 1))\n",
    "        output = model(data_queue)\n",
    "        pred = output.max(1, keepdim=True)[1] #max returns values and indices\n",
    "        \n",
    "        if num_samples > model.receptive_field:\n",
    "            pred_val.value = f'Predicted Label: {pred.item()}'\n",
    "    \n",
    "        time.sleep(0.01)\n",
    "    \n",
    "    \n",
    "    for i in np.zeros(np.random.randint(50, 200)):\n",
    "        im_queue.append(0)\n",
    "        im_queue = im_queue[1:]\n",
    "        data_queue = data_queue.roll(-1, 2)\n",
    "        data_queue[:,:,-1] = i\n",
    "        curr_im = np.array(im_queue, dtype=np.uint8).reshape((28,28)) \n",
    "        _, encoded_image = cv2.imencode('.png', curr_im)\n",
    "        im_bytes = encoded_image.tobytes()\n",
    "        im_disp.value = im_bytes\n",
    "        true_val.value = f'True Label: N/A'\n",
    "        num_samples += 1\n",
    "        # output = model(torch.tensor([i], dtype=torch.float).cuda().view(1, 1, 1))\n",
    "        output = model(data_queue)\n",
    "        pred = output.max(1, keepdim=True)[1] #max returns values and indices\n",
    "        if num_samples > model.receptive_field:\n",
    "            pred_val.value = f'Predicted Label: {pred.item()}'\n",
    "        \n"
   ]
  },
  {
   "cell_type": "code",
   "execution_count": 17,
   "id": "feb5d847",
   "metadata": {},
   "outputs": [],
   "source": [
    "import onnx\n",
    "import onnxruntime\n",
    "from onnx import helper, shape_inference"
   ]
  },
  {
   "cell_type": "code",
   "execution_count": 19,
   "id": "5b2833f3",
   "metadata": {},
   "outputs": [
    {
     "name": "stdout",
     "output_type": "stream",
     "text": [
      "graph(%input : Float(1, 1, 784, strides=[784, 784, 1], requires_grad=0, device=cuda:0),\n",
      "      %tcn.network.0.conv1.bias : Float(25, strides=[1], requires_grad=1, device=cuda:0),\n",
      "      %tcn.network.0.conv2.bias : Float(25, strides=[1], requires_grad=1, device=cuda:0),\n",
      "      %tcn.network.0.downsample.weight : Float(25, 1, 1, strides=[1, 1, 1], requires_grad=1, device=cuda:0),\n",
      "      %tcn.network.0.downsample.bias : Float(25, strides=[1], requires_grad=1, device=cuda:0),\n",
      "      %tcn.network.1.conv1.bias : Float(25, strides=[1], requires_grad=1, device=cuda:0),\n",
      "      %tcn.network.1.conv2.bias : Float(25, strides=[1], requires_grad=1, device=cuda:0),\n",
      "      %tcn.network.2.conv1.bias : Float(25, strides=[1], requires_grad=1, device=cuda:0),\n",
      "      %tcn.network.2.conv2.bias : Float(25, strides=[1], requires_grad=1, device=cuda:0),\n",
      "      %tcn.network.3.conv1.bias : Float(25, strides=[1], requires_grad=1, device=cuda:0),\n",
      "      %tcn.network.3.conv2.bias : Float(25, strides=[1], requires_grad=1, device=cuda:0),\n",
      "      %tcn.network.4.conv1.bias : Float(25, strides=[1], requires_grad=1, device=cuda:0),\n",
      "      %tcn.network.4.conv2.bias : Float(25, strides=[1], requires_grad=1, device=cuda:0),\n",
      "      %tcn.network.5.conv1.bias : Float(25, strides=[1], requires_grad=1, device=cuda:0),\n",
      "      %tcn.network.5.conv2.bias : Float(25, strides=[1], requires_grad=1, device=cuda:0),\n",
      "      %linear.weight : Float(10, 25, strides=[25, 1], requires_grad=1, device=cuda:0),\n",
      "      %linear.bias : Float(10, strides=[1], requires_grad=1, device=cuda:0),\n",
      "      %132 : Float(25, 1, 7, strides=[7, 7, 1], requires_grad=0, device=cuda:0),\n",
      "      %135 : Float(25, 25, 7, strides=[175, 7, 1], requires_grad=0, device=cuda:0),\n",
      "      %138 : Float(25, 25, 7, strides=[175, 7, 1], requires_grad=0, device=cuda:0),\n",
      "      %141 : Float(25, 25, 7, strides=[175, 7, 1], requires_grad=0, device=cuda:0),\n",
      "      %144 : Float(25, 25, 7, strides=[175, 7, 1], requires_grad=0, device=cuda:0),\n",
      "      %147 : Float(25, 25, 7, strides=[175, 7, 1], requires_grad=0, device=cuda:0),\n",
      "      %150 : Float(25, 25, 7, strides=[175, 7, 1], requires_grad=0, device=cuda:0),\n",
      "      %153 : Float(25, 25, 7, strides=[175, 7, 1], requires_grad=0, device=cuda:0),\n",
      "      %156 : Float(25, 25, 7, strides=[175, 7, 1], requires_grad=0, device=cuda:0),\n",
      "      %159 : Float(25, 25, 7, strides=[175, 7, 1], requires_grad=0, device=cuda:0),\n",
      "      %162 : Float(25, 25, 7, strides=[175, 7, 1], requires_grad=0, device=cuda:0),\n",
      "      %165 : Float(25, 25, 7, strides=[175, 7, 1], requires_grad=0, device=cuda:0)):\n",
      "  %44 : Float(1, 25, 790, strides=[19750, 790, 1], requires_grad=1, device=cuda:0) = onnx::Conv[dilations=[1], group=1, kernel_shape=[7], pads=[6, 6], strides=[1]](%input, %132, %tcn.network.0.conv1.bias) # /runfa/shivb/TCN/TCN/tcn.py:12:0\n",
      "  %45 : Float(1, 25, 784, strides=[19600, 784, 1], requires_grad=1, device=cuda:0) = onnx::Slice[axes=[2], ends=[-6], starts=[0]](%44) # /runfa/shivb/TCN/TCN/tcn.py:12:0\n",
      "  %46 : Float(1, 25, 784, strides=[19600, 784, 1], requires_grad=1, device=cuda:0) = onnx::Relu(%45) # /usr/local/lib/python3.8/dist-packages/torch/nn/functional.py:1168:0\n",
      "  %50 : Float(1, 25, 790, strides=[19750, 790, 1], requires_grad=1, device=cuda:0) = onnx::Conv[dilations=[1], group=1, kernel_shape=[7], pads=[6, 6], strides=[1]](%46, %135, %tcn.network.0.conv2.bias) # /runfa/shivb/TCN/TCN/tcn.py:12:0\n",
      "  %51 : Float(1, 25, 784, strides=[19600, 784, 1], requires_grad=1, device=cuda:0) = onnx::Slice[axes=[2], ends=[-6], starts=[0]](%50) # /runfa/shivb/TCN/TCN/tcn.py:12:0\n",
      "  %52 : Float(1, 25, 784, strides=[19600, 784, 1], requires_grad=1, device=cuda:0) = onnx::Relu(%51) # /usr/local/lib/python3.8/dist-packages/torch/nn/functional.py:1168:0\n",
      "  %53 : Float(1, 25, 784, strides=[19600, 784, 1], requires_grad=1, device=cuda:0) = onnx::Conv[dilations=[1], group=1, kernel_shape=[1], pads=[0, 0], strides=[1]](%input, %tcn.network.0.downsample.weight, %tcn.network.0.downsample.bias) # /usr/local/lib/python3.8/dist-packages/torch/nn/modules/conv.py:294:0\n",
      "  %54 : Float(1, 25, 784, strides=[19600, 784, 1], requires_grad=1, device=cuda:0) = onnx::Add(%52, %53) # /runfa/shivb/TCN/TCN/tcn.py:93:0\n",
      "  %55 : Float(1, 25, 784, strides=[19600, 784, 1], requires_grad=1, device=cuda:0) = onnx::Relu(%54) # /usr/local/lib/python3.8/dist-packages/torch/nn/functional.py:1298:0\n",
      "  %59 : Float(1, 25, 796, strides=[19900, 796, 1], requires_grad=1, device=cuda:0) = onnx::Conv[dilations=[2], group=1, kernel_shape=[7], pads=[12, 12], strides=[1]](%55, %138, %tcn.network.1.conv1.bias) # /runfa/shivb/TCN/TCN/tcn.py:12:0\n",
      "  %60 : Float(1, 25, 784, strides=[19600, 784, 1], requires_grad=1, device=cuda:0) = onnx::Slice[axes=[2], ends=[-12], starts=[0]](%59) # /runfa/shivb/TCN/TCN/tcn.py:12:0\n",
      "  %61 : Float(1, 25, 784, strides=[19600, 784, 1], requires_grad=1, device=cuda:0) = onnx::Relu(%60) # /usr/local/lib/python3.8/dist-packages/torch/nn/functional.py:1168:0\n",
      "  %65 : Float(1, 25, 796, strides=[19900, 796, 1], requires_grad=1, device=cuda:0) = onnx::Conv[dilations=[2], group=1, kernel_shape=[7], pads=[12, 12], strides=[1]](%61, %141, %tcn.network.1.conv2.bias) # /runfa/shivb/TCN/TCN/tcn.py:12:0\n",
      "  %66 : Float(1, 25, 784, strides=[19600, 784, 1], requires_grad=1, device=cuda:0) = onnx::Slice[axes=[2], ends=[-12], starts=[0]](%65) # /runfa/shivb/TCN/TCN/tcn.py:12:0\n",
      "  %67 : Float(1, 25, 784, strides=[19600, 784, 1], requires_grad=1, device=cuda:0) = onnx::Relu(%66) # /usr/local/lib/python3.8/dist-packages/torch/nn/functional.py:1168:0\n",
      "  %68 : Float(1, 25, 784, strides=[19600, 784, 1], requires_grad=1, device=cuda:0) = onnx::Add(%67, %55) # /runfa/shivb/TCN/TCN/tcn.py:93:0\n",
      "  %69 : Float(1, 25, 784, strides=[19600, 784, 1], requires_grad=1, device=cuda:0) = onnx::Relu(%68) # /usr/local/lib/python3.8/dist-packages/torch/nn/functional.py:1298:0\n",
      "  %73 : Float(1, 25, 808, strides=[20200, 808, 1], requires_grad=1, device=cuda:0) = onnx::Conv[dilations=[4], group=1, kernel_shape=[7], pads=[24, 24], strides=[1]](%69, %144, %tcn.network.2.conv1.bias) # /runfa/shivb/TCN/TCN/tcn.py:12:0\n",
      "  %74 : Float(1, 25, 784, strides=[19600, 784, 1], requires_grad=1, device=cuda:0) = onnx::Slice[axes=[2], ends=[-24], starts=[0]](%73) # /runfa/shivb/TCN/TCN/tcn.py:12:0\n",
      "  %75 : Float(1, 25, 784, strides=[19600, 784, 1], requires_grad=1, device=cuda:0) = onnx::Relu(%74) # /usr/local/lib/python3.8/dist-packages/torch/nn/functional.py:1168:0\n",
      "  %79 : Float(1, 25, 808, strides=[20200, 808, 1], requires_grad=1, device=cuda:0) = onnx::Conv[dilations=[4], group=1, kernel_shape=[7], pads=[24, 24], strides=[1]](%75, %147, %tcn.network.2.conv2.bias) # /runfa/shivb/TCN/TCN/tcn.py:12:0\n",
      "  %80 : Float(1, 25, 784, strides=[19600, 784, 1], requires_grad=1, device=cuda:0) = onnx::Slice[axes=[2], ends=[-24], starts=[0]](%79) # /runfa/shivb/TCN/TCN/tcn.py:12:0\n",
      "  %81 : Float(1, 25, 784, strides=[19600, 784, 1], requires_grad=1, device=cuda:0) = onnx::Relu(%80) # /usr/local/lib/python3.8/dist-packages/torch/nn/functional.py:1168:0\n",
      "  %82 : Float(1, 25, 784, strides=[19600, 784, 1], requires_grad=1, device=cuda:0) = onnx::Add(%81, %69) # /runfa/shivb/TCN/TCN/tcn.py:93:0\n",
      "  %83 : Float(1, 25, 784, strides=[19600, 784, 1], requires_grad=1, device=cuda:0) = onnx::Relu(%82) # /usr/local/lib/python3.8/dist-packages/torch/nn/functional.py:1298:0\n",
      "  %87 : Float(1, 25, 832, strides=[20800, 832, 1], requires_grad=1, device=cuda:0) = onnx::Conv[dilations=[8], group=1, kernel_shape=[7], pads=[48, 48], strides=[1]](%83, %150, %tcn.network.3.conv1.bias) # /runfa/shivb/TCN/TCN/tcn.py:12:0\n",
      "  %88 : Float(1, 25, 784, strides=[19600, 784, 1], requires_grad=1, device=cuda:0) = onnx::Slice[axes=[2], ends=[-48], starts=[0]](%87) # /runfa/shivb/TCN/TCN/tcn.py:12:0\n",
      "  %89 : Float(1, 25, 784, strides=[19600, 784, 1], requires_grad=1, device=cuda:0) = onnx::Relu(%88) # /usr/local/lib/python3.8/dist-packages/torch/nn/functional.py:1168:0\n",
      "  %93 : Float(1, 25, 832, strides=[20800, 832, 1], requires_grad=1, device=cuda:0) = onnx::Conv[dilations=[8], group=1, kernel_shape=[7], pads=[48, 48], strides=[1]](%89, %153, %tcn.network.3.conv2.bias) # /runfa/shivb/TCN/TCN/tcn.py:12:0\n",
      "  %94 : Float(1, 25, 784, strides=[19600, 784, 1], requires_grad=1, device=cuda:0) = onnx::Slice[axes=[2], ends=[-48], starts=[0]](%93) # /runfa/shivb/TCN/TCN/tcn.py:12:0\n",
      "  %95 : Float(1, 25, 784, strides=[19600, 784, 1], requires_grad=1, device=cuda:0) = onnx::Relu(%94) # /usr/local/lib/python3.8/dist-packages/torch/nn/functional.py:1168:0\n",
      "  %96 : Float(1, 25, 784, strides=[19600, 784, 1], requires_grad=1, device=cuda:0) = onnx::Add(%95, %83) # /runfa/shivb/TCN/TCN/tcn.py:93:0\n",
      "  %97 : Float(1, 25, 784, strides=[19600, 784, 1], requires_grad=1, device=cuda:0) = onnx::Relu(%96) # /usr/local/lib/python3.8/dist-packages/torch/nn/functional.py:1298:0\n",
      "  %101 : Float(1, 25, 880, strides=[22000, 880, 1], requires_grad=1, device=cuda:0) = onnx::Conv[dilations=[16], group=1, kernel_shape=[7], pads=[96, 96], strides=[1]](%97, %156, %tcn.network.4.conv1.bias) # /runfa/shivb/TCN/TCN/tcn.py:12:0\n",
      "  %102 : Float(1, 25, 784, strides=[19600, 784, 1], requires_grad=1, device=cuda:0) = onnx::Slice[axes=[2], ends=[-96], starts=[0]](%101) # /runfa/shivb/TCN/TCN/tcn.py:12:0\n",
      "  %103 : Float(1, 25, 784, strides=[19600, 784, 1], requires_grad=1, device=cuda:0) = onnx::Relu(%102) # /usr/local/lib/python3.8/dist-packages/torch/nn/functional.py:1168:0\n",
      "  %107 : Float(1, 25, 880, strides=[22000, 880, 1], requires_grad=1, device=cuda:0) = onnx::Conv[dilations=[16], group=1, kernel_shape=[7], pads=[96, 96], strides=[1]](%103, %159, %tcn.network.4.conv2.bias) # /runfa/shivb/TCN/TCN/tcn.py:12:0\n",
      "  %108 : Float(1, 25, 784, strides=[19600, 784, 1], requires_grad=1, device=cuda:0) = onnx::Slice[axes=[2], ends=[-96], starts=[0]](%107) # /runfa/shivb/TCN/TCN/tcn.py:12:0\n",
      "  %109 : Float(1, 25, 784, strides=[19600, 784, 1], requires_grad=1, device=cuda:0) = onnx::Relu(%108) # /usr/local/lib/python3.8/dist-packages/torch/nn/functional.py:1168:0\n",
      "  %110 : Float(1, 25, 784, strides=[19600, 784, 1], requires_grad=1, device=cuda:0) = onnx::Add(%109, %97) # /runfa/shivb/TCN/TCN/tcn.py:93:0\n",
      "  %111 : Float(1, 25, 784, strides=[19600, 784, 1], requires_grad=1, device=cuda:0) = onnx::Relu(%110) # /usr/local/lib/python3.8/dist-packages/torch/nn/functional.py:1298:0\n",
      "  %115 : Float(1, 25, 976, strides=[24400, 976, 1], requires_grad=1, device=cuda:0) = onnx::Conv[dilations=[32], group=1, kernel_shape=[7], pads=[192, 192], strides=[1]](%111, %162, %tcn.network.5.conv1.bias) # /runfa/shivb/TCN/TCN/tcn.py:12:0\n",
      "  %116 : Float(1, 25, 784, strides=[19600, 784, 1], requires_grad=1, device=cuda:0) = onnx::Slice[axes=[2], ends=[-192], starts=[0]](%115) # /runfa/shivb/TCN/TCN/tcn.py:12:0\n",
      "  %117 : Float(1, 25, 784, strides=[19600, 784, 1], requires_grad=1, device=cuda:0) = onnx::Relu(%116) # /usr/local/lib/python3.8/dist-packages/torch/nn/functional.py:1168:0\n",
      "  %121 : Float(1, 25, 976, strides=[24400, 976, 1], requires_grad=1, device=cuda:0) = onnx::Conv[dilations=[32], group=1, kernel_shape=[7], pads=[192, 192], strides=[1]](%117, %165, %tcn.network.5.conv2.bias) # /runfa/shivb/TCN/TCN/tcn.py:12:0\n",
      "  %122 : Float(1, 25, 784, strides=[19600, 784, 1], requires_grad=1, device=cuda:0) = onnx::Slice[axes=[2], ends=[-192], starts=[0]](%121) # /runfa/shivb/TCN/TCN/tcn.py:12:0\n",
      "  %123 : Float(1, 25, 784, strides=[19600, 784, 1], requires_grad=1, device=cuda:0) = onnx::Relu(%122) # /usr/local/lib/python3.8/dist-packages/torch/nn/functional.py:1168:0\n",
      "  %124 : Float(1, 25, 784, strides=[19600, 784, 1], requires_grad=1, device=cuda:0) = onnx::Add(%123, %111) # /runfa/shivb/TCN/TCN/tcn.py:93:0\n",
      "  %125 : Float(1, 25, 784, strides=[19600, 784, 1], requires_grad=1, device=cuda:0) = onnx::Relu(%124) # /runfa/shivb/TCN/TCN/mnist_pixel/model.py:24:0\n",
      "  %126 : Float(1, 25, 1, device=cpu) = onnx::Slice[axes=[2], ends=[9223372036854775807], starts=[-1]](%125)\n",
      "  %127 : Float(1, 25, strides=[19600, 784], requires_grad=1, device=cuda:0) = onnx::Squeeze[axes=[2]](%126) # /runfa/shivb/TCN/TCN/mnist_pixel/model.py:24:0\n",
      "  %128 : Float(1, 10, strides=[10, 1], requires_grad=1, device=cuda:0) = onnx::Gemm[alpha=1., beta=1., transB=1](%127, %linear.weight, %linear.bias) # /usr/local/lib/python3.8/dist-packages/torch/nn/functional.py:1847:0\n",
      "  %output : Float(1, 10, strides=[10, 1], requires_grad=1, device=cuda:0) = onnx::LogSoftmax[axis=1](%128) # /usr/local/lib/python3.8/dist-packages/torch/nn/functional.py:1768:0\n",
      "  return (%output)\n",
      "\n"
     ]
    }
   ],
   "source": [
    "onnx_model = torch.onnx.export(\n",
    "    model,\n",
    "    test_t,\n",
    "    f'{model_path}/{model_name}.onnx',\n",
    "    input_names = ['input'],\n",
    "    output_names = ['output'],\n",
    "    verbose=True\n",
    ")\n"
   ]
  },
  {
   "cell_type": "code",
   "execution_count": 20,
   "id": "5253ca1e",
   "metadata": {},
   "outputs": [],
   "source": [
    "onnx_model = onnx.load(model_path / (model_name+'.onnx'))\n",
    "onnx.checker.check_model(onnx_model)\n",
    "inferred_model = shape_inference.infer_shapes(onnx_model)\n",
    "onnx.checker.check_model(inferred_model)"
   ]
  },
  {
   "cell_type": "code",
   "execution_count": 21,
   "id": "1c559662",
   "metadata": {},
   "outputs": [],
   "source": [
    "onnx_path = model_path / (model_name+'.onnx')\n",
    "ort_session = onnxruntime.InferenceSession(str(onnx_path))"
   ]
  },
  {
   "cell_type": "code",
   "execution_count": 23,
   "id": "4d09e5bb",
   "metadata": {},
   "outputs": [
    {
     "name": "stdout",
     "output_type": "stream",
     "text": [
      "Exported model has been tested with ONNXRuntime, and the result looks good!\n"
     ]
    }
   ],
   "source": [
    "def to_numpy(tensor):\n",
    "    return tensor.detach().cpu().numpy() if tensor.requires_grad else tensor.cpu().numpy()\n",
    "\n",
    "# compute ONNX Runtime output prediction\n",
    "ort_inputs = {ort_session.get_inputs()[0].name: to_numpy(test_t)}\n",
    "ort_outs = ort_session.run(None, ort_inputs)\n",
    "\n",
    "# compare ONNX Runtime and PyTorch results\n",
    "np.testing.assert_allclose(to_numpy(test_out), ort_outs[0], rtol=1e-03, atol=1e-05)\n",
    "print(\"Exported model has been tested with ONNXRuntime, and the result looks good!\")"
   ]
  },
  {
   "cell_type": "code",
   "execution_count": null,
   "id": "9517ec92",
   "metadata": {},
   "outputs": [
    {
     "data": {
      "application/vnd.jupyter.widget-view+json": {
       "model_id": "f17c5de567634ca4ac77238b747d7ed7",
       "version_major": 2,
       "version_minor": 0
      },
      "text/plain": [
       "Image(value=b'\\x89PNG\\r\\n\\x1a\\n\\x00\\x00\\x00\\rIHDR\\x00\\x00\\x00\\x1c\\x00\\x00\\x00\\x1c\\x08\\x00\\x00\\x00\\x00Wf\\x80H\\x…"
      ]
     },
     "metadata": {},
     "output_type": "display_data"
    },
    {
     "data": {
      "application/vnd.jupyter.widget-view+json": {
       "model_id": "634b5cf51276479999a99ad48183a862",
       "version_major": 2,
       "version_minor": 0
      },
      "text/plain": [
       "VBox(children=(Label(value='True Label: N/A'), Label(value='Predicted Label: N/A')))"
      ]
     },
     "metadata": {},
     "output_type": "display_data"
    }
   ],
   "source": [
    "num_samples = 0\n",
    "# fig, ax = plt.subplots(1,1)\n",
    "\n",
    "im_queue = [0 for i in range(28*28)]\n",
    "data_queue = torch.zeros((1,1,28*28)).cuda()\n",
    "curr_im = np.array(im_queue, dtype=np.uint8).reshape((28,28))\n",
    "_, encoded_image = cv2.imencode('.png', curr_im)\n",
    "im_bytes = encoded_image.tobytes()\n",
    "im_disp = widgets.Image(value=im_bytes, width=200, height=200)\n",
    "\n",
    "true_val = widgets.Label(value=f'True Label: N/A')\n",
    "pred_val = widgets.Label(value=f'Predicted Label: N/A')\n",
    "label_disp = widgets.VBox((true_val, pred_val))\n",
    "\n",
    "display.display(im_disp)\n",
    "display.display(label_disp)\n",
    "\n",
    "for data, target in test_loader:\n",
    "    im = data.squeeze().cpu().detach().numpy()\n",
    "    rows, cols = im.shape\n",
    "    im = (im - im.min())\n",
    "    im = (im/im.max() * 255).astype('uint8')\n",
    "    curr_im = np.ones(im.shape, dtype=np.uint8)*255\n",
    "    \n",
    "    true_val.value = f'True Label: {target.item()}'\n",
    "\n",
    "    if torch.cuda.is_available():\n",
    "        data, target = data.cuda(), target.cuda()\n",
    "    \n",
    "    data = data.view(data.size()[0], 1, -1)\n",
    "    \n",
    "    for i in range(data.size()[2]):\n",
    "        num_samples += 1\n",
    "        curr_row = i // cols\n",
    "        curr_col = i % cols\n",
    "        \n",
    "        im_queue.append(im[curr_row,curr_col])\n",
    "        im_queue = im_queue[1:]\n",
    "        \n",
    "        data_queue = data_queue.roll(-1, 2)\n",
    "        data_queue[:,:,-1] = data[:,:,i]\n",
    "        \n",
    "        curr_im = np.array(im_queue, dtype=np.uint8).reshape((28,28))\n",
    "        _, encoded_image = cv2.imencode('.png', curr_im)\n",
    "        im_bytes = encoded_image.tobytes()\n",
    "        im_disp.value = im_bytes\n",
    "        \n",
    "        ort_inputs = {ort_session.get_inputs()[0].name: to_numpy(data_queue)}\n",
    "        ort_outs = ort_session.run(None, ort_inputs)\n",
    "        pred = ort_outs[0].argmax(axis=1)[0]\n",
    "        # output = model(data_queue)\n",
    "        # pred = output.max(1, keepdim=True)[1] #max returns values and indices\n",
    "        \n",
    "        if num_samples > model.receptive_field:\n",
    "            pred_val.value = f'Predicted Label: {pred.item()}'\n",
    "    \n",
    "        time.sleep(0.001)\n",
    "    \n",
    "    \n",
    "    for i in np.zeros(np.random.randint(50, 200)):\n",
    "        im_queue.append(0)\n",
    "        im_queue = im_queue[1:]\n",
    "        data_queue = data_queue.roll(-1, 2)\n",
    "        data_queue[:,:,-1] = i\n",
    "        \n",
    "        curr_im = np.array(im_queue, dtype=np.uint8).reshape((28,28)) \n",
    "        _, encoded_image = cv2.imencode('.png', curr_im)\n",
    "        im_bytes = encoded_image.tobytes()\n",
    "        im_disp.value = im_bytes\n",
    "        true_val.value = f'True Label: N/A'\n",
    "        num_samples += 1\n",
    "\n",
    "        ort_inputs = {ort_session.get_inputs()[0].name: to_numpy(data_queue)}\n",
    "        ort_outs = ort_session.run(None, ort_inputs)\n",
    "        pred = ort_outs[0].argmax(axis=1)[0]\n",
    "        \n",
    "        if num_samples > model.receptive_field:\n",
    "            pred_val.value = f'Predicted Label: {pred.item()}'\n",
    "        "
   ]
  },
  {
   "cell_type": "code",
   "execution_count": null,
   "id": "2733bc8a",
   "metadata": {},
   "outputs": [],
   "source": []
  },
  {
   "cell_type": "code",
   "execution_count": null,
   "id": "1a523685",
   "metadata": {},
   "outputs": [],
   "source": []
  },
  {
   "cell_type": "code",
   "execution_count": null,
   "id": "4ff5a6b8",
   "metadata": {},
   "outputs": [],
   "source": []
  },
  {
   "cell_type": "code",
   "execution_count": null,
   "id": "61fc9b95",
   "metadata": {},
   "outputs": [],
   "source": []
  },
  {
   "cell_type": "code",
   "execution_count": null,
   "id": "ebaebe22",
   "metadata": {},
   "outputs": [],
   "source": []
  }
 ],
 "metadata": {
  "kernelspec": {
   "display_name": "Python 3",
   "language": "python",
   "name": "python3"
  },
  "language_info": {
   "codemirror_mode": {
    "name": "ipython",
    "version": 3
   },
   "file_extension": ".py",
   "mimetype": "text/x-python",
   "name": "python",
   "nbconvert_exporter": "python",
   "pygments_lexer": "ipython3",
   "version": "3.8.5"
  }
 },
 "nbformat": 4,
 "nbformat_minor": 5
}
